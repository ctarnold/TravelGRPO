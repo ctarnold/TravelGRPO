{
  "cells": [
    {
      "cell_type": "markdown",
      "metadata": {
        "id": "view-in-github",
        "colab_type": "text"
      },
      "source": [
        "<a href=\"https://colab.research.google.com/github/ctarnold/TravelGRPO/blob/main/nb/Gemma3_(1B)-GRPO.ipynb\" target=\"_parent\"><img src=\"https://colab.research.google.com/assets/colab-badge.svg\" alt=\"Open In Colab\"/></a>"
      ]
    },
    {
      "cell_type": "markdown",
      "metadata": {
        "id": "UqrKEZsBh8S2"
      },
      "source": [
        "To run this, press \"*Runtime*\" and press \"*Run all*\" on a **free** Tesla T4 Google Colab instance!\n",
        "<div class=\"align-center\">\n",
        "<a href=\"https://unsloth.ai/\"><img src=\"https://github.com/unslothai/unsloth/raw/main/images/unsloth%20new%20logo.png\" width=\"115\"></a>\n",
        "<a href=\"https://discord.gg/unsloth\"><img src=\"https://github.com/unslothai/unsloth/raw/main/images/Discord button.png\" width=\"145\"></a>\n",
        "<a href=\"https://docs.unsloth.ai/\"><img src=\"https://github.com/unslothai/unsloth/blob/main/images/documentation%20green%20button.png?raw=true\" width=\"125\"></a></a> Join Discord if you need help + ⭐ <i>Star us on <a href=\"https://github.com/unslothai/unsloth\">Github</a> </i> ⭐\n",
        "</div>\n",
        "\n",
        "To install Unsloth on your own computer, follow the installation instructions on our Github page [here](https://docs.unsloth.ai/get-started/installing-+-updating).\n",
        "\n",
        "You will learn how to do [data prep](#Data), how to [train](#Train), how to [run the model](#Inference), & [how to save it](#Save)\n"
      ]
    },
    {
      "cell_type": "markdown",
      "metadata": {
        "id": "9sVl0geDh8S7"
      },
      "source": [
        "### News"
      ]
    },
    {
      "cell_type": "markdown",
      "metadata": {
        "id": "gObyGxwoh8S8"
      },
      "source": [
        "Unsloth now supports Text-to-Speech (TTS) models. Read our [guide here](https://docs.unsloth.ai/basics/text-to-speech-tts-fine-tuning).\n",
        "\n",
        "Read our **[Qwen3 Guide](https://docs.unsloth.ai/basics/qwen3-how-to-run-and-fine-tune)** and check out our new **[Dynamic 2.0](https://docs.unsloth.ai/basics/unsloth-dynamic-2.0-ggufs)** quants which outperforms other quantization methods!\n",
        "\n",
        "Visit our docs for all our [model uploads](https://docs.unsloth.ai/get-started/all-our-models) and [notebooks](https://docs.unsloth.ai/get-started/unsloth-notebooks).\n"
      ]
    },
    {
      "cell_type": "markdown",
      "metadata": {
        "id": "-DqIU5Qch8S8"
      },
      "source": [
        "### Installation"
      ]
    },
    {
      "cell_type": "code",
      "execution_count": 69,
      "metadata": {
        "id": "HFhb4zuVh8S8"
      },
      "outputs": [],
      "source": [
        "%%capture\n",
        "import os\n",
        "if \"COLAB_\" not in \"\".join(os.environ.keys()):\n",
        "    !pip install unsloth==2025.5.7 vllm unsloth-zoo==2025.5.7\n",
        "else:\n",
        "    # [NOTE] Do the below ONLY in Colab! Use [[pip install unsloth vllm]]\n",
        "    !pip install --no-deps unsloth==2025.5.7 vllm==0.8.5.post1 unsloth-zoo==2025.5.7"
      ]
    },
    {
      "cell_type": "code",
      "execution_count": 2,
      "metadata": {
        "id": "6jQps3Jch8S9"
      },
      "outputs": [],
      "source": [
        "#@title Colab Extra Install { display-mode: \"form\" }\n",
        "%%capture\n",
        "import os\n",
        "if \"COLAB_\" not in \"\".join(os.environ.keys()):\n",
        "    !pip install unsloth vllm\n",
        "else:\n",
        "    !pip install --no-deps unsloth vllm==0.8.5.post1\n",
        "    # [NOTE] Do the below ONLY in Colab! Use [[pip install unsloth vllm]]\n",
        "    # Skip restarting message in Colab\n",
        "    import sys, re, requests; modules = list(sys.modules.keys())\n",
        "    for x in modules: sys.modules.pop(x) if \"PIL\" in x or \"google\" in x else None\n",
        "    !pip install --no-deps bitsandbytes accelerate xformers==0.0.29.post3 peft \"trl==0.15.2\" triton cut_cross_entropy unsloth_zoo\n",
        "    !pip install sentencepiece protobuf \"datasets>=3.4.1\" huggingface_hub hf_transfer\n",
        "    !pip install transformers==4.51.3\n",
        "\n",
        "    # vLLM requirements - vLLM breaks Colab due to reinstalling numpy\n",
        "    f = requests.get(\"https://raw.githubusercontent.com/vllm-project/vllm/refs/heads/main/requirements/common.txt\").content\n",
        "    with open(\"vllm_requirements.txt\", \"wb\") as file:\n",
        "        file.write(re.sub(rb\"(transformers|numpy|xformers)[^\\n]{1,}\\n\", b\"\", f))\n",
        "    !pip install -r vllm_requirements.txt"
      ]
    },
    {
      "cell_type": "markdown",
      "metadata": {
        "id": "Gd2cpn1kaXRA"
      },
      "source": [
        "### Unsloth"
      ]
    },
    {
      "cell_type": "markdown",
      "metadata": {
        "id": "rezoBIE1aXRA"
      },
      "source": [
        "Load up `Gemma 3 1B Instruct`, and set parameters"
      ]
    },
    {
      "cell_type": "code",
      "execution_count": 59,
      "metadata": {
        "colab": {
          "base_uri": "https://localhost:8080/",
          "height": 412,
          "referenced_widgets": [
            "f668accd088643d187a4d9204eceaf3c",
            "67f7f6b7ee1a49d7b75304a3bd4f54dd",
            "dfe1b0a76c3b4b1d9535fb6fdeb8a8d9",
            "bc6a88cb2168442faf270f4b75fb2c24",
            "1bdcf21f3fb947d5a16f879a8c128be5",
            "9ce3df68c64b41238bdf9a74b495a77e",
            "946a8398dcfd4e738666ac5cc8a805b4",
            "3d5ea95d19ca42dcb04f0fb428f6664a",
            "e85ebdcefc8b4fc88a07fb4c708c7dd1",
            "5e5df9b6d4344d4b8facb4a1de1277ff",
            "49d9a148372f4062861b65e631ce1347",
            "41cb5d3208b1408c9081ef254326d135",
            "1f797a96bb41424bb601f9d234651209",
            "41cce477df3543f7b88dc149d07a75c5",
            "da8a3593a65f4a01a862b81bd2a7ca0b",
            "30b9afb0e63b4e49b722b94e263852fb",
            "6f441a5cdc1546e6a0de6a0878d02550",
            "c2bf741843c3422b8368bc653a8e8d1e",
            "9f393c4a25b84b3b933756d6d8076812",
            "712de5ec740841fb9799a37660b08e60",
            "0afe4e6659b6466e9175c565ae2068eb",
            "be55a67bf1e04ffc878e961fde249d74",
            "af07c3bbc1854e92a94396a446128248",
            "ce6376dc4ed342c1a891cd336aec3567",
            "7a4bc0de1ec246459e5ccfa6eb2265b5",
            "98dafa042ff64cd8a228f6f1fbe86d00",
            "312ab6e53ac84869a7cd9b445521680c",
            "0d7ab150eced489ea4e542ae64b970ae",
            "966df2bdfb444c9896c30f31f91dab80",
            "2d8504b81868403d8a8d95afa49b894f",
            "2dde3c68b001425c9ba17d536e95a15a",
            "bf0f0deeee864a8984d8d8f5bb59b2be",
            "90d76b01dcfd4e2f829375ebc3f98e4c",
            "bc1b1e371c36403890fe3f42b83380f0",
            "b24711213af44f9c9ea991c2680a7830",
            "a46a0af4b8054d6c97e63dd9aef10fd3",
            "992f7053055c4427b6e99d851a92fa17",
            "76f3e74dc4ef4254a7c35bded6523dc7",
            "5c7e2e5b222e480ea8cabee79c5bd127",
            "7f4eabc4914a4508a9cf3f80d2bd79e8",
            "0f4f27f2d85541d5b3dbe8cab8ca9ccc",
            "65436957275b48308a8eb7fc3a0bb17e",
            "1f5d1bb2274444998d48c4b71f507154",
            "2b636de451b44b67ab76be9bdf52aa20",
            "cad81ebb7c65499395d962d67b1590b1",
            "1cb0e98110a745a4a35606141a59824b",
            "665c4575bdc54f53b7c028711a6ca406",
            "a8e07b01adf84a6ebabb23bddc8c314a",
            "e380fbb1cc6b41bd90851ba80fc54f32",
            "21a66fb7150a4b71a48e00c7e112b310",
            "f950390e528342cb8707e7174e6b58c0",
            "18d0fc158e66413195ede0b73fe9caa5",
            "f53e5f824b2549e7ab5bd6355b55d88d",
            "f6cc80633e64499cbb8649f615fde1a3",
            "a3c3e3af71fa4e6689d2151c130ea703",
            "f9fa0020fac74fa6810268fd5c6be1c2",
            "07c130083f304d7099ca138f5d1814e3",
            "bd478b43629e415393d28486390b4f3a",
            "d3ca289697c24190b8254a42c764f515",
            "046bde0ea0644b7aa6d14efdaf8fa34c",
            "7616bc0b095a4d298e4ea7667b4ee6b1",
            "45a6ba2ef277491fb1a5df8a9c093384",
            "52ce9f3fea234aca891e26291e21517e",
            "cd0299287a584e31949d1cb061e5b9e4",
            "f0f4ce88deeb4286a1e3f74a4df6f675",
            "d9f4d956a427448f80d4c2c4f8e923a6",
            "698e9c747abe4c4c87b58889cacb94c2",
            "614b4317f4a64e9d88d798b3849bca2e",
            "7be874b1a6ca44f69071ed38c78317d4",
            "be3b71e62aa14d73a0a22eb903443727",
            "8fbf13b533864fc1847e550fb870e245",
            "d28ca86d03ab466abc64fb56b46f0a95",
            "497d00fbaa8048eda34d7082097c7ad0",
            "9ac5537ebf0b4b4a847c8c5727f51587",
            "1c6f883644b843b4821b2be040996e72",
            "3812cc1ecf8442c492338e68d7b29998",
            "5df8edff13b84734a166acd804cf23e8",
            "12caa55dd221446c912716885e4363f3",
            "ab3628a0695047a6bd9d77bd39899fb1",
            "929bdec4e48941dfa03b2cd826df7101",
            "c678db5588604fb5980d45d378daeec8",
            "33fc6143400548a9a17a5814e8e942eb",
            "395453e0d28f4dfc97876a5159b86da6",
            "2d3037fbdb0f453d964a8a8e7d988cf9",
            "1cc9b07dbc6b4f5f8f58584f357424d4",
            "a6c6b9e0cf1a4585b4bd2cba72a50327",
            "8700ac4a224440dbb816a695cf052047",
            "e79aefa2567f4fe191efcaa6497b337d"
          ]
        },
        "id": "DkIvEkIIkEyB",
        "outputId": "bad41505-3d45-4b83-b063-91dcfaeddbff"
      },
      "outputs": [
        {
          "output_type": "stream",
          "name": "stdout",
          "text": [
            "==((====))==  Unsloth 2025.5.9: Fast Gemma3 patching. Transformers: 4.51.3. vLLM: 0.8.5.post1.\n",
            "   \\\\   /|    Tesla T4. Num GPUs = 1. Max memory: 14.741 GB. Platform: Linux.\n",
            "O^O/ \\_/ \\    Torch: 2.6.0+cu124. CUDA: 7.5. CUDA Toolkit: 12.4. Triton: 3.2.0\n",
            "\\        /    Bfloat16 = FALSE. FA [Xformers = 0.0.29.post3. FA2 = False]\n",
            " \"-____-\"     Free license: http://github.com/unslothai/unsloth\n",
            "Unsloth: Fast downloading is enabled - ignore downloading bars which are red colored!\n",
            "Unsloth: Using float16 precision for gemma3 won't work! Using float32.\n",
            "Unsloth: QLoRA and full finetuning all not selected. Switching to 16bit LoRA.\n"
          ]
        },
        {
          "output_type": "display_data",
          "data": {
            "text/plain": [
              "model.safetensors:   0%|          | 0.00/2.00G [00:00<?, ?B/s]"
            ],
            "application/vnd.jupyter.widget-view+json": {
              "version_major": 2,
              "version_minor": 0,
              "model_id": "f668accd088643d187a4d9204eceaf3c"
            }
          },
          "metadata": {}
        },
        {
          "output_type": "display_data",
          "data": {
            "text/plain": [
              "generation_config.json:   0%|          | 0.00/233 [00:00<?, ?B/s]"
            ],
            "application/vnd.jupyter.widget-view+json": {
              "version_major": 2,
              "version_minor": 0,
              "model_id": "41cb5d3208b1408c9081ef254326d135"
            }
          },
          "metadata": {}
        },
        {
          "output_type": "display_data",
          "data": {
            "text/plain": [
              "tokenizer_config.json:   0%|          | 0.00/1.16M [00:00<?, ?B/s]"
            ],
            "application/vnd.jupyter.widget-view+json": {
              "version_major": 2,
              "version_minor": 0,
              "model_id": "af07c3bbc1854e92a94396a446128248"
            }
          },
          "metadata": {}
        },
        {
          "output_type": "display_data",
          "data": {
            "text/plain": [
              "tokenizer.model:   0%|          | 0.00/4.69M [00:00<?, ?B/s]"
            ],
            "application/vnd.jupyter.widget-view+json": {
              "version_major": 2,
              "version_minor": 0,
              "model_id": "bc1b1e371c36403890fe3f42b83380f0"
            }
          },
          "metadata": {}
        },
        {
          "output_type": "display_data",
          "data": {
            "text/plain": [
              "tokenizer.json:   0%|          | 0.00/33.4M [00:00<?, ?B/s]"
            ],
            "application/vnd.jupyter.widget-view+json": {
              "version_major": 2,
              "version_minor": 0,
              "model_id": "cad81ebb7c65499395d962d67b1590b1"
            }
          },
          "metadata": {}
        },
        {
          "output_type": "display_data",
          "data": {
            "text/plain": [
              "added_tokens.json:   0%|          | 0.00/35.0 [00:00<?, ?B/s]"
            ],
            "application/vnd.jupyter.widget-view+json": {
              "version_major": 2,
              "version_minor": 0,
              "model_id": "f9fa0020fac74fa6810268fd5c6be1c2"
            }
          },
          "metadata": {}
        },
        {
          "output_type": "display_data",
          "data": {
            "text/plain": [
              "special_tokens_map.json:   0%|          | 0.00/670 [00:00<?, ?B/s]"
            ],
            "application/vnd.jupyter.widget-view+json": {
              "version_major": 2,
              "version_minor": 0,
              "model_id": "698e9c747abe4c4c87b58889cacb94c2"
            }
          },
          "metadata": {}
        },
        {
          "output_type": "display_data",
          "data": {
            "text/plain": [
              "chat_template.jinja:   0%|          | 0.00/1.53k [00:00<?, ?B/s]"
            ],
            "application/vnd.jupyter.widget-view+json": {
              "version_major": 2,
              "version_minor": 0,
              "model_id": "12caa55dd221446c912716885e4363f3"
            }
          },
          "metadata": {}
        }
      ],
      "source": [
        "from unsloth import FastModel\n",
        "import torch\n",
        "max_seq_length = 1024\n",
        "\n",
        "fourbit_models = [\n",
        "    # 4bit dynamic quants for superior accuracy and low memory use\n",
        "    \"unsloth/gemma-3-1b-it-unsloth-bnb-4bit\",\n",
        "    \"unsloth/gemma-3-4b-it-unsloth-bnb-4bit\",\n",
        "    \"unsloth/gemma-3-12b-it-unsloth-bnb-4bit\",\n",
        "    \"unsloth/gemma-3-27b-it-unsloth-bnb-4bit\",\n",
        "\n",
        "    # Other popular models!\n",
        "    \"unsloth/Llama-3.1-8B\",\n",
        "    \"unsloth/Llama-3.2-3B\",\n",
        "    \"unsloth/Llama-3.3-70B\",\n",
        "    \"unsloth/mistral-7b-instruct-v0.3\",\n",
        "    \"unsloth/Phi-4\",\n",
        "] # More models at https://huggingface.co/unsloth\n",
        "\n",
        "# https://huggingface.co/hsaest/Llama-3.1-8B-Instruct-travelplanner-SFT\n",
        "\n",
        "\n",
        "model, tokenizer = FastModel.from_pretrained(\n",
        "    model_name = \"unsloth/gemma-3-1b-it-unsloth-bnb-4bit\",\n",
        "    max_seq_length = max_seq_length, # Choose any for long context!\n",
        "    load_in_4bit = False,  # 4 bit quantization to reduce memory\n",
        "    load_in_8bit = False, # [NEW!] A bit more accurate, uses 2x memory\n",
        "    full_finetuning = False, # [NEW!] We have full finetuning now!\n",
        "    # token = \"hf_...\", # use one if using gated models\n",
        ")"
      ]
    },
    {
      "cell_type": "markdown",
      "metadata": {
        "id": "6nHQVsQJ2roh"
      },
      "source": [
        "We now add LoRA adapters so we only need to update a small amount of parameters!"
      ]
    },
    {
      "cell_type": "code",
      "execution_count": 60,
      "metadata": {
        "colab": {
          "base_uri": "https://localhost:8080/"
        },
        "id": "uNuwc5sJ2pYK",
        "outputId": "53116d19-d7cd-47b6-bfd7-d040bbea87e7"
      },
      "outputs": [
        {
          "output_type": "stream",
          "name": "stdout",
          "text": [
            "Unsloth: Making `model.base_model.model.model` require gradients\n"
          ]
        }
      ],
      "source": [
        "model = FastModel.get_peft_model(\n",
        "    model,\n",
        "    finetune_vision_layers     = False, # Turn off for just text!\n",
        "    finetune_language_layers   = True,  # Should leave on!\n",
        "    finetune_attention_modules = True,  # Attention good for GRPO\n",
        "    finetune_mlp_modules       = True,  # SHould leave on always!\n",
        "\n",
        "    r = 8,           # Larger = higher accuracy, but might overfit\n",
        "    lora_alpha = 8,  # Recommended alpha == r at least\n",
        "    lora_dropout = 0,\n",
        "    bias = \"none\",\n",
        "    random_state = 3407,\n",
        ")"
      ]
    },
    {
      "cell_type": "markdown",
      "metadata": {
        "id": "7KGgPgk_5S8r"
      },
      "source": [
        "### Data Prep\n",
        "<a name=\"Data\"></a>\n",
        "\n",
        "We're using OpenAI's famous GSM8K dataset!"
      ]
    },
    {
      "cell_type": "code",
      "execution_count": 61,
      "metadata": {
        "colab": {
          "base_uri": "https://localhost:8080/",
          "height": 53
        },
        "id": "zEibULDtlOMU",
        "outputId": "eeb5baca-69fc-4b2b-c937-0525626f83f4"
      },
      "outputs": [
        {
          "output_type": "execute_result",
          "data": {
            "text/plain": [
              "'Please help me plan a trip from St. Petersburg to Rockford spanning 3 days from March 16th to March 18th, 2022. The travel should be planned for a single person with a budget of $1,700.'"
            ],
            "application/vnd.google.colaboratory.intrinsic+json": {
              "type": "string"
            }
          },
          "metadata": {},
          "execution_count": 61
        }
      ],
      "source": [
        "from datasets import load_dataset\n",
        "# https://huggingface.co/datasets/osunlp/TravelPlanner\n",
        "dataset = load_dataset(\"osunlp/TravelPlanner\", \"train\", split = \"train\")\n",
        "dataset = dataset.map(lambda x: {\"question\": \"Query: \" + x[\"query\"] + \" Data: \" + x[\"reference_information\"]})\n",
        "dataset = dataset.rename_column(\"annotated_plan\", \"answer\")\n",
        "dataset[0][\"query\"]"
      ]
    },
    {
      "cell_type": "markdown",
      "metadata": {
        "id": "GRfa3z_atGgT"
      },
      "source": [
        "Let's look at the first row:"
      ]
    },
    {
      "cell_type": "code",
      "execution_count": 62,
      "metadata": {
        "colab": {
          "base_uri": "https://localhost:8080/",
          "height": 122
        },
        "id": "rIRsNJ_YitXl",
        "outputId": "5afeff3b-ddc5-4ed1-de5c-8b9f65b2b27f"
      },
      "outputs": [
        {
          "output_type": "execute_result",
          "data": {
            "text/plain": [
              "'Query: Please help me plan a trip from St. Petersburg to Rockford spanning 3 days from March 16th to March 18th, 2022. The travel should be planned for a single person with a budget of $1,700. Data: [{\\'Description\\': \\'Attractions in Rockford\\', \\'Content\\': \"                                   Name  Latitude  Longitude                                                          Address          Phone                                                                 Website     City\\\\n       Burpee Museum of Natural History 42.277324 -89.088142                           737 N Main St, Rockford, IL 61103, USA (815) 965-3433                                                  http://www.burpee.org/ Rockford\\\\n                  Midway Village Museum 42.280499 -88.984640                        6799 Guilford Rd, Rockford, IL 61107, USA (815) 397-9112                                          https://www.midwayvillage.com/ Rockford\\\\n                Discovery Center Museum 42.277105 -89.089430                           711 N Main St, Rockford, IL 61103, USA (815) 963-6769                                   http://www.discoverycentermuseum.org/ Rockford\\\\nTinker Swiss Cottage Museum and Gardens 42.264110 -89.102796                             411 Kent St, Rockford, IL 61102, USA (815) 964-2424                                           http://www.tinkercottage.com/ Rockford\\\\n              Anderson Japanese Gardens 42.290054 -89.057795                     318 Spring Creek Rd, Rockford, IL 61107, USA (815) 229-9390                                             http://andersongardens.org/ Rockford\\\\n        Nicholas Conservatory & Gardens 42.282293 -89.070704                           1354 N 2nd St, Rockford, IL 61107, USA (815) 987-8858                                    http://www.nicholasconservatory.com/ Rockford\\\\n                   Erlander Home Museum 42.264098 -89.088693                            404 S 3rd St, Rockford, IL 61104, USA (815) 963-5559                                       http://www.swedishhistorical.org/ Rockford\\\\n                 Ethnic Heritage Museum 42.261100 -89.100915                          1129 S Main St, Rockford, IL 61101, USA (815) 962-7402                                   https://www.ethnicheritagemuseum.org/ Rockford\\\\n                       Sinnissippi Park 42.282729 -89.064116                           1401 N 2nd St, Rockford, IL 61107, USA (815) 987-8858                                     http://rockfordparkdistrict.org/ncg Rockford\\\\n       Klehm Arboretum & Botanic Garden 42.244452 -89.112540                          2715 S Main St, Rockford, IL 61102, USA (815) 965-8146                                                   http://www.klehm.org/ Rockford\\\\n         Davis Park at Founders Landing 42.268250 -89.095379                          320 S Wyman St, Rockford, IL 61101, USA (815) 968-5600 https://www.gorockford.com/listings/davis-park-at-founders-landing/275/ Rockford\\\\n     Frank Lloyd Wright\\'s Laurent House 42.299833 -89.024362                    4646 Spring Brook Rd, Rockford, IL 61114, USA (815) 877-2952                                            http://www.laurenthouse.com/ Rockford\\\\n                    Sinnissippi Gardens 42.284031 -89.067901                           1354 N 2nd St, Rockford, IL 61107, USA (815) 987-8858                                       https://nicholasconservatory.com/ Rockford\\\\n                 Riverfront Museum Park 42.276843 -89.088859                    Ste 3, 711 N Main St, Rockford, IL 61103, USA (815) 962-0105                                                                 Unknown Rockford\\\\n                            Searls Park 42.300685 -89.124144                         4950 Safford Rd, Rockford, IL 61101, USA (815) 987-8800                                        http://rockfordparkdistrict.org/ Rockford\\\\n                      La Paloma Gardens 42.293671 -89.034617                       3622 Brookview Rd, Rockford, IL 61107, USA (815) 399-0324                                         http://www.lapalomagardens.com/ Rockford\\\\n                 Rockford Park District 42.268422 -89.097234                           401 S Main St, Rockford, IL 61101, USA (815) 987-8800                                       https://rockfordparkdistrict.org/ Rockford\\\\n                            Aldeen Park 42.274060 -89.022769                         623 N Alpine Rd, Rockford, IL 61107, USA        Unknown                                   https://www.rockfordparkdistrict.org/ Rockford\\\\n      Blackhawk Springs Forest Preserve 42.204694 -88.991636 5360 Mulford Road &, 5801 Perryville Rd, Rockford, IL 61109, USA (815) 877-6100                 http://winnebagoforest.org/preserves/blackhawk-springs/ Rockford\\\\n              Ingersoll Centennial Park 42.266298 -89.091439                            315 S 1st St, Rockford, IL 61104, USA (815) 987-8800                                        http://rockfordparkdistrict.org/ Rockford\"}, {\\'Description\\': \\'Restaurants in Rockford\\', \\'Content\\': \"                                           Name  Average Cost                                            Cuisines  Aggregate Rating      City\\\\n39                                   Coco Bambu            72                      Tea, French, Bakery, BBQ, Cafe               4.9  Rockford\\\\n251                                Flying Mango            20                              American, BBQ, Seafood               4.5  Rockford\\\\n2470                           Gajalee Sea Food            49                                         Bakery, BBQ               3.9  Rockford\\\\n2861                 Shree Balaji Chaat Bhandar            97                        French, Bakery, BBQ, Italian               3.2  Rockford\\\\n3052                              Moets Arabica            43                      Tea, Bakery, Indian, Fast Food               3.5  Rockford\\\\n3163                            Cafe Coffee Day            28       Chinese, Desserts, Pizza, Cafe, Mediterranean               0.0  Rockford\\\\n3700                                Nutri Punch            34                        Tea, Chinese, Cafe, Desserts               4.0  Rockford\\\\n4319                              Cafe Southall            56                     Seafood, Pizza, Cafe, Fast Food               4.2  Rockford\\\\n4348  Eggspectation - Jaypee Vasant Continental            77                         Tea, Mediterranean, Seafood               3.6  Rockford\\\\n4542                           Aroma Rest O Bar            58       Bakery, Fast Food, Chinese, American, Seafood               3.6  Rockford\\\\n4735                             Advance Bakery           100  Desserts, Pizza, Mexican, Bakery, Chinese, Seafood               2.9  Rockford\\\\n4789                                Dial A Cake            29             Cafe, American, Mediterranean, Desserts               0.0  Rockford\\\\n5309                                     U Like            32                               Tea, French, Desserts               0.0  Rockford\\\\n5459                                     Subway            42                                 Tea, Chinese, Pizza               3.4  Rockford\\\\n5661                      Aggarwal Sweet Centre            81                Desserts, Tea, Italian, Bakery, Cafe               0.0  Rockford\\\\n6078                     Aggarwal Sweets Centre            73                    Fast Food, Chinese, BBQ, Italian               0.0  Rockford\\\\n6313      Giri Momos Centre & Chinese Fast Food            44                               Cafe, Indian, Seafood               2.4  Rockford\\\\n6388       Mr. Confectioner - Pride Plaza Hotel            74                                    Bakery, Desserts               0.0  Rockford\\\\n6507                                    Faaso\\'s            98                           Bakery, Desserts, Seafood               0.0  Rockford\\\\n6796            Hangchuaa\\'s Chinese Food Corner            64                                   Tea, BBQ, Seafood               3.1  Rockford\\\\n7295         Grappa - Shangri-La\\'s - Eros Hotel            21                           Bakery, Desserts, Italian               3.4  Rockford\\\\n7955                        New Bhappe Di Hatti            76                    Seafood, Mexican, BBQ, Fast Food               0.0  Rockford\\\\n8095                             Dunkin\\' Donuts            24                          Cafe, Bakery, BBQ, Seafood               0.0  Rockford\\\\n8455                                     Subway            26                        Bakery, Pizza, BBQ, Desserts               3.8  Rockford\\\\n8821                          The Gourmet Shack            77                       Tea, Pizza, Indian, Fast Food               3.3  Rockford\\\\n8844                                Mirchievous            64                      American, Indian, BBQ, Seafood               3.1  Rockford\\\\n9340                                 Chaophraya            74                      Chinese, Pizza, Cafe, Desserts               3.9  Rockford\"}, {\\'Description\\': \\'Accommodations in Rockford\\', \\'Content\\': \\'                                              NAME  price       room type                                  house_rules  minimum nights  maximum occupancy  review rate number     city\\\\n                     Spacious 3BDR Prime Location! 1030.0 Entire home/apt                                   No smoking             2.0                  9                 2.0 Rockford\\\\n                Private Room in a two bedroom apt.  210.0    Private room                     No visitors & No smoking             1.0                  2                 4.0 Rockford\\\\n              Private rooms And Matchless Location 1075.0    Private room                         No pets & No parties             2.0                  2                 2.0 Rockford\\\\nPark Side Zen Home - Terrace & next to CentralPark  250.0 Entire home/apt                         No children under 10             3.0                  3                 3.0 Rockford\\\\n        Lux 2 Bedroom NYC Apt on the Hudson River!  737.0 Entire home/apt                                   No smoking            30.0                  4                 5.0 Rockford\\\\n             Modern 1-bedroom apartment in Fordham  377.0 Entire home/apt                                      No pets             7.0                  2                 5.0 Rockford\\\\n                       Private bedroom in BedStuy! 1107.0    Private room                                   No smoking            10.0                  1                 4.0 Rockford\\\\n   Pure luxury one bdrm + sofa bed on Central Park  243.0 Entire home/apt                      No smoking & No parties             2.0                  3                 3.0 Rockford\\\\n           Charming studio in the heart of Astoria  519.0 Entire home/apt                                   No parties             4.0                  4                 4.0 Rockford\\\\n                             The heart of Brooklyn  154.0 Entire home/apt No children under 10 & No visitors & No pets            30.0                  3                 2.0 Rockford\\\\n           Private Stuyvesant Bedroom Madison 1R-2  395.0    Private room            No parties & No children under 10            30.0                  2                 3.0 Rockford\\\\n Sunny big bedroom in lively Brooklyn neighborhood  440.0    Private room                         No pets & No smoking            14.0                  2                 3.0 Rockford\\\\n    Midtown 2 Bed United Nations Loc, Full Kitchen  245.0 Entire home/apt                                  No visitors             3.0                  3                 4.0 Rockford\\'}, {\\'Description\\': \\'Flight from St. Petersburg to Rockford on 2022-03-16\\', \\'Content\\': \\'Flight Number  Price DepTime ArrTime  ActualElapsedTime FlightDate OriginCityName DestCityName  Distance\\\\n     F3573659    474   15:40   17:04 2 hours 24 minutes 2022-03-16 St. Petersburg     Rockford    1049.0\\'}, {\\'Description\\': \\'Self-driving from St. Petersburg to Rockford\\', \\'Content\\': \\'No valid information.\\'}, {\\'Description\\': \\'Taxi from St. Petersburg to Rockford\\', \\'Content\\': \\'No valid information.\\'}, {\\'Description\\': \\'Flight from Rockford to St. Petersburg on 2022-03-18\\', \\'Content\\': \\'Flight Number  Price DepTime ArrTime  ActualElapsedTime FlightDate OriginCityName   DestCityName  Distance\\\\n     F3573120    346   19:00   22:43 2 hours 43 minutes 2022-03-18       Rockford St. Petersburg    1049.0\\'}, {\\'Description\\': \\'Self-driving from Rockford to St. Petersburg\\', \\'Content\\': \\'No valid information.\\'}, {\\'Description\\': \\'Taxi from Rockford to St. Petersburg\\', \\'Content\\': \\'No valid information.\\'}]'"
            ],
            "application/vnd.google.colaboratory.intrinsic+json": {
              "type": "string"
            }
          },
          "metadata": {},
          "execution_count": 62
        }
      ],
      "source": [
        "dataset[0][\"question\"]"
      ]
    },
    {
      "cell_type": "code",
      "execution_count": 39,
      "metadata": {
        "colab": {
          "base_uri": "https://localhost:8080/",
          "height": 122
        },
        "id": "B3yJTiFgtKYq",
        "outputId": "e54669bf-9a31-4aae-c4c9-f96bc230a94d"
      },
      "outputs": [
        {
          "output_type": "execute_result",
          "data": {
            "text/plain": [
              "\"[{'org': 'St. Petersburg', 'dest': 'Rockford', 'days': 3, 'visiting_city_number': 1, 'date': ['2022-03-16', '2022-03-17', '2022-03-18'], 'people_number': 1, 'local_constraint': {'house rule': None, 'cuisine': None, 'room type': None, 'transportation': None}, 'budget': 1700, 'query': 'Please help me plan a trip from St. Petersburg to Rockford spanning 3 days from March 16th to March 18th, 2022. The travel should be planned for a single person with a budget of $1,700.', 'level': 'easy'}, [{'days': 1, 'current_city': 'from St. Petersburg to Rockford', 'transportation': 'Flight Number: F3573659, from St. Petersburg to Rockford, Departure Time: 15:40, Arrival Time: 17:04', 'breakfast': '-', 'attraction': '-', 'lunch': '-', 'dinner': 'Coco Bambu, Rockford', 'accommodation': 'Pure luxury one bdrm + sofa bed on Central Park, Rockford'}, {'days': 2, 'current_city': 'Rockford', 'transportation': '-', 'breakfast': 'Dial A Cake, Rockford', 'attraction': 'Burpee Museum of Natural History, Rockford;Midway Village Museum, Rockford;Discovery Center Museum, Rockford;', 'lunch': 'Flying Mango, Rockford', 'dinner': 'Cafe Southall, Rockford', 'accommodation': 'Pure luxury one bdrm + sofa bed on Central Park, Rockford'}, {'days': 3, 'current_city': 'from Rockford to St. Petersburg', 'transportation': 'Flight Number: F3573120, from Rockford to St. Petersburg, Departure Time: 19:00, Arrival Time: 22:43', 'breakfast': 'Subway, Rockford', 'attraction': 'Klehm Arboretum & Botanic Garden, Rockford;Sinnissippi Park, Rockford;', 'lunch': 'Gajalee Sea Food, Rockford', 'dinner': 'Nutri Punch, Rockford', 'accommodation': '-'}, {}, {}, {}, {}]]\""
            ],
            "application/vnd.google.colaboratory.intrinsic+json": {
              "type": "string"
            }
          },
          "metadata": {},
          "execution_count": 39
        }
      ],
      "source": [
        "dataset[0][\"answer\"]"
      ]
    },
    {
      "cell_type": "markdown",
      "metadata": {
        "id": "yqq9kGuVtIYn"
      },
      "source": [
        "We notice all answers like about have a ####, so we extract it:"
      ]
    },
    {
      "cell_type": "code",
      "execution_count": 14,
      "metadata": {
        "colab": {
          "base_uri": "https://localhost:8080/",
          "height": 35
        },
        "id": "_5I3BCkViwuC",
        "outputId": "3b769958-f639-4720-eb31-e75f6029dd34"
      },
      "outputs": [
        {
          "output_type": "execute_result",
          "data": {
            "text/plain": [
              "'\\ndef extract_hash_answer(text):\\n    if \"####\" not in text: return None\\n    return text.split(\"####\")[0].strip()\\nextract_hash_answer(dataset[0][\"annotated_plan\"])\\n'"
            ],
            "application/vnd.google.colaboratory.intrinsic+json": {
              "type": "string"
            }
          },
          "metadata": {},
          "execution_count": 14
        }
      ],
      "source": [
        "\"\"\"\n",
        "def extract_hash_answer(text):\n",
        "    if \"####\" not in text: return None\n",
        "    return text.split(\"####\")[0].strip()\n",
        "extract_hash_answer(dataset[0][\"annotated_plan\"])\n",
        "\"\"\""
      ]
    },
    {
      "cell_type": "markdown",
      "metadata": {
        "id": "FiFNBLyytPCD"
      },
      "source": [
        "We now create a system prompt which can be customized. We add 4 extra symbols for working out or thinking / reasoning sections and a final answer:"
      ]
    },
    {
      "cell_type": "code",
      "execution_count": 40,
      "metadata": {
        "colab": {
          "base_uri": "https://localhost:8080/",
          "height": 53
        },
        "id": "mHjiV3kGi8Y9",
        "outputId": "a589d206-aba0-46db-8257-d1e8e3cb3e41"
      },
      "outputs": [
        {
          "output_type": "execute_result",
          "data": {
            "text/plain": [
              "'You are given a problem.\\nThink about the problem and provide your working out.\\nPlace it between <start_working_out> and <end_working_out>.\\nThen, provide your solution between <SOLUTION></SOLUTION>'"
            ],
            "application/vnd.google.colaboratory.intrinsic+json": {
              "type": "string"
            }
          },
          "metadata": {},
          "execution_count": 40
        }
      ],
      "source": [
        "reasoning_start = \"<start_working_out>\"\n",
        "reasoning_end   = \"<end_working_out>\"\n",
        "solution_start = \"<SOLUTION>\"\n",
        "solution_end = \"</SOLUTION>\"\n",
        "\n",
        "system_prompt = \\\n",
        "f\"\"\"You are given a problem.\n",
        "Think about the problem and provide your working out.\n",
        "Place it between {reasoning_start} and {reasoning_end}.\n",
        "Then, provide your solution between {solution_start}{solution_end}\"\"\"\n",
        "system_prompt"
      ]
    },
    {
      "cell_type": "markdown",
      "metadata": {
        "id": "BFRYlk9ntYTm"
      },
      "source": [
        "Let's map the dataset! and see the first row:"
      ]
    },
    {
      "cell_type": "code",
      "execution_count": 63,
      "metadata": {
        "colab": {
          "base_uri": "https://localhost:8080/",
          "height": 1000,
          "referenced_widgets": [
            "cb8148e9e0de45349ef855802e38f0d5",
            "b1d85b9c89834269a9a0fb40036bab27",
            "9199f830356346419fb520c31ae899b4",
            "b98b0a5313d5494aa37d30d531201adb",
            "7ce452e7b88d491dbc3fc9ac754b1bb2",
            "de9b0160e623462d97d6756ca610891d",
            "48af2c1cc81041d98986a461aef23314",
            "2d3e943d5d9a428a8036f11c917e7492",
            "035c039328d6439fb1fac51e2198677d",
            "e00a6273f5b242199dd5aada08eda2b7",
            "e3d893372c3f4cfdb1e9ccbb0d6ec8d0"
          ]
        },
        "id": "5tkTF5Hmlhl-",
        "outputId": "59baeb02-7b3e-4ff5-eee5-34cce5f22c6e"
      },
      "outputs": [
        {
          "output_type": "display_data",
          "data": {
            "text/plain": [
              "Map:   0%|          | 0/45 [00:00<?, ? examples/s]"
            ],
            "application/vnd.jupyter.widget-view+json": {
              "version_major": 2,
              "version_minor": 0,
              "model_id": "cb8148e9e0de45349ef855802e38f0d5"
            }
          },
          "metadata": {}
        },
        {
          "output_type": "execute_result",
          "data": {
            "text/plain": [
              "{'org': 'St. Petersburg',\n",
              " 'dest': 'Rockford',\n",
              " 'days': 3,\n",
              " 'visiting_city_number': 1,\n",
              " 'date': \"['2022-03-16', '2022-03-17', '2022-03-18']\",\n",
              " 'people_number': 1,\n",
              " 'local_constraint': \"{'house rule': None, 'cuisine': None, 'room type': None, 'transportation': None}\",\n",
              " 'budget': 1700,\n",
              " 'query': 'Please help me plan a trip from St. Petersburg to Rockford spanning 3 days from March 16th to March 18th, 2022. The travel should be planned for a single person with a budget of $1,700.',\n",
              " 'level': 'easy',\n",
              " 'answer': \"[{'org': 'St. Petersburg', 'dest': 'Rockford', 'days': 3, 'visiting_city_number': 1, 'date': ['2022-03-16', '2022-03-17', '2022-03-18'], 'people_number': 1, 'local_constraint': {'house rule': None, 'cuisine': None, 'room type': None, 'transportation': None}, 'budget': 1700, 'query': 'Please help me plan a trip from St. Petersburg to Rockford spanning 3 days from March 16th to March 18th, 2022. The travel should be planned for a single person with a budget of $1,700.', 'level': 'easy'}, [{'days': 1, 'current_city': 'from St. Petersburg to Rockford', 'transportation': 'Flight Number: F3573659, from St. Petersburg to Rockford, Departure Time: 15:40, Arrival Time: 17:04', 'breakfast': '-', 'attraction': '-', 'lunch': '-', 'dinner': 'Coco Bambu, Rockford', 'accommodation': 'Pure luxury one bdrm + sofa bed on Central Park, Rockford'}, {'days': 2, 'current_city': 'Rockford', 'transportation': '-', 'breakfast': 'Dial A Cake, Rockford', 'attraction': 'Burpee Museum of Natural History, Rockford;Midway Village Museum, Rockford;Discovery Center Museum, Rockford;', 'lunch': 'Flying Mango, Rockford', 'dinner': 'Cafe Southall, Rockford', 'accommodation': 'Pure luxury one bdrm + sofa bed on Central Park, Rockford'}, {'days': 3, 'current_city': 'from Rockford to St. Petersburg', 'transportation': 'Flight Number: F3573120, from Rockford to St. Petersburg, Departure Time: 19:00, Arrival Time: 22:43', 'breakfast': 'Subway, Rockford', 'attraction': 'Klehm Arboretum & Botanic Garden, Rockford;Sinnissippi Park, Rockford;', 'lunch': 'Gajalee Sea Food, Rockford', 'dinner': 'Nutri Punch, Rockford', 'accommodation': '-'}, {}, {}, {}, {}]]\",\n",
              " 'reference_information': '[{\\'Description\\': \\'Attractions in Rockford\\', \\'Content\\': \"                                   Name  Latitude  Longitude                                                          Address          Phone                                                                 Website     City\\\\n       Burpee Museum of Natural History 42.277324 -89.088142                           737 N Main St, Rockford, IL 61103, USA (815) 965-3433                                                  http://www.burpee.org/ Rockford\\\\n                  Midway Village Museum 42.280499 -88.984640                        6799 Guilford Rd, Rockford, IL 61107, USA (815) 397-9112                                          https://www.midwayvillage.com/ Rockford\\\\n                Discovery Center Museum 42.277105 -89.089430                           711 N Main St, Rockford, IL 61103, USA (815) 963-6769                                   http://www.discoverycentermuseum.org/ Rockford\\\\nTinker Swiss Cottage Museum and Gardens 42.264110 -89.102796                             411 Kent St, Rockford, IL 61102, USA (815) 964-2424                                           http://www.tinkercottage.com/ Rockford\\\\n              Anderson Japanese Gardens 42.290054 -89.057795                     318 Spring Creek Rd, Rockford, IL 61107, USA (815) 229-9390                                             http://andersongardens.org/ Rockford\\\\n        Nicholas Conservatory & Gardens 42.282293 -89.070704                           1354 N 2nd St, Rockford, IL 61107, USA (815) 987-8858                                    http://www.nicholasconservatory.com/ Rockford\\\\n                   Erlander Home Museum 42.264098 -89.088693                            404 S 3rd St, Rockford, IL 61104, USA (815) 963-5559                                       http://www.swedishhistorical.org/ Rockford\\\\n                 Ethnic Heritage Museum 42.261100 -89.100915                          1129 S Main St, Rockford, IL 61101, USA (815) 962-7402                                   https://www.ethnicheritagemuseum.org/ Rockford\\\\n                       Sinnissippi Park 42.282729 -89.064116                           1401 N 2nd St, Rockford, IL 61107, USA (815) 987-8858                                     http://rockfordparkdistrict.org/ncg Rockford\\\\n       Klehm Arboretum & Botanic Garden 42.244452 -89.112540                          2715 S Main St, Rockford, IL 61102, USA (815) 965-8146                                                   http://www.klehm.org/ Rockford\\\\n         Davis Park at Founders Landing 42.268250 -89.095379                          320 S Wyman St, Rockford, IL 61101, USA (815) 968-5600 https://www.gorockford.com/listings/davis-park-at-founders-landing/275/ Rockford\\\\n     Frank Lloyd Wright\\'s Laurent House 42.299833 -89.024362                    4646 Spring Brook Rd, Rockford, IL 61114, USA (815) 877-2952                                            http://www.laurenthouse.com/ Rockford\\\\n                    Sinnissippi Gardens 42.284031 -89.067901                           1354 N 2nd St, Rockford, IL 61107, USA (815) 987-8858                                       https://nicholasconservatory.com/ Rockford\\\\n                 Riverfront Museum Park 42.276843 -89.088859                    Ste 3, 711 N Main St, Rockford, IL 61103, USA (815) 962-0105                                                                 Unknown Rockford\\\\n                            Searls Park 42.300685 -89.124144                         4950 Safford Rd, Rockford, IL 61101, USA (815) 987-8800                                        http://rockfordparkdistrict.org/ Rockford\\\\n                      La Paloma Gardens 42.293671 -89.034617                       3622 Brookview Rd, Rockford, IL 61107, USA (815) 399-0324                                         http://www.lapalomagardens.com/ Rockford\\\\n                 Rockford Park District 42.268422 -89.097234                           401 S Main St, Rockford, IL 61101, USA (815) 987-8800                                       https://rockfordparkdistrict.org/ Rockford\\\\n                            Aldeen Park 42.274060 -89.022769                         623 N Alpine Rd, Rockford, IL 61107, USA        Unknown                                   https://www.rockfordparkdistrict.org/ Rockford\\\\n      Blackhawk Springs Forest Preserve 42.204694 -88.991636 5360 Mulford Road &, 5801 Perryville Rd, Rockford, IL 61109, USA (815) 877-6100                 http://winnebagoforest.org/preserves/blackhawk-springs/ Rockford\\\\n              Ingersoll Centennial Park 42.266298 -89.091439                            315 S 1st St, Rockford, IL 61104, USA (815) 987-8800                                        http://rockfordparkdistrict.org/ Rockford\"}, {\\'Description\\': \\'Restaurants in Rockford\\', \\'Content\\': \"                                           Name  Average Cost                                            Cuisines  Aggregate Rating      City\\\\n39                                   Coco Bambu            72                      Tea, French, Bakery, BBQ, Cafe               4.9  Rockford\\\\n251                                Flying Mango            20                              American, BBQ, Seafood               4.5  Rockford\\\\n2470                           Gajalee Sea Food            49                                         Bakery, BBQ               3.9  Rockford\\\\n2861                 Shree Balaji Chaat Bhandar            97                        French, Bakery, BBQ, Italian               3.2  Rockford\\\\n3052                              Moets Arabica            43                      Tea, Bakery, Indian, Fast Food               3.5  Rockford\\\\n3163                            Cafe Coffee Day            28       Chinese, Desserts, Pizza, Cafe, Mediterranean               0.0  Rockford\\\\n3700                                Nutri Punch            34                        Tea, Chinese, Cafe, Desserts               4.0  Rockford\\\\n4319                              Cafe Southall            56                     Seafood, Pizza, Cafe, Fast Food               4.2  Rockford\\\\n4348  Eggspectation - Jaypee Vasant Continental            77                         Tea, Mediterranean, Seafood               3.6  Rockford\\\\n4542                           Aroma Rest O Bar            58       Bakery, Fast Food, Chinese, American, Seafood               3.6  Rockford\\\\n4735                             Advance Bakery           100  Desserts, Pizza, Mexican, Bakery, Chinese, Seafood               2.9  Rockford\\\\n4789                                Dial A Cake            29             Cafe, American, Mediterranean, Desserts               0.0  Rockford\\\\n5309                                     U Like            32                               Tea, French, Desserts               0.0  Rockford\\\\n5459                                     Subway            42                                 Tea, Chinese, Pizza               3.4  Rockford\\\\n5661                      Aggarwal Sweet Centre            81                Desserts, Tea, Italian, Bakery, Cafe               0.0  Rockford\\\\n6078                     Aggarwal Sweets Centre            73                    Fast Food, Chinese, BBQ, Italian               0.0  Rockford\\\\n6313      Giri Momos Centre & Chinese Fast Food            44                               Cafe, Indian, Seafood               2.4  Rockford\\\\n6388       Mr. Confectioner - Pride Plaza Hotel            74                                    Bakery, Desserts               0.0  Rockford\\\\n6507                                    Faaso\\'s            98                           Bakery, Desserts, Seafood               0.0  Rockford\\\\n6796            Hangchuaa\\'s Chinese Food Corner            64                                   Tea, BBQ, Seafood               3.1  Rockford\\\\n7295         Grappa - Shangri-La\\'s - Eros Hotel            21                           Bakery, Desserts, Italian               3.4  Rockford\\\\n7955                        New Bhappe Di Hatti            76                    Seafood, Mexican, BBQ, Fast Food               0.0  Rockford\\\\n8095                             Dunkin\\' Donuts            24                          Cafe, Bakery, BBQ, Seafood               0.0  Rockford\\\\n8455                                     Subway            26                        Bakery, Pizza, BBQ, Desserts               3.8  Rockford\\\\n8821                          The Gourmet Shack            77                       Tea, Pizza, Indian, Fast Food               3.3  Rockford\\\\n8844                                Mirchievous            64                      American, Indian, BBQ, Seafood               3.1  Rockford\\\\n9340                                 Chaophraya            74                      Chinese, Pizza, Cafe, Desserts               3.9  Rockford\"}, {\\'Description\\': \\'Accommodations in Rockford\\', \\'Content\\': \\'                                              NAME  price       room type                                  house_rules  minimum nights  maximum occupancy  review rate number     city\\\\n                     Spacious 3BDR Prime Location! 1030.0 Entire home/apt                                   No smoking             2.0                  9                 2.0 Rockford\\\\n                Private Room in a two bedroom apt.  210.0    Private room                     No visitors & No smoking             1.0                  2                 4.0 Rockford\\\\n              Private rooms And Matchless Location 1075.0    Private room                         No pets & No parties             2.0                  2                 2.0 Rockford\\\\nPark Side Zen Home - Terrace & next to CentralPark  250.0 Entire home/apt                         No children under 10             3.0                  3                 3.0 Rockford\\\\n        Lux 2 Bedroom NYC Apt on the Hudson River!  737.0 Entire home/apt                                   No smoking            30.0                  4                 5.0 Rockford\\\\n             Modern 1-bedroom apartment in Fordham  377.0 Entire home/apt                                      No pets             7.0                  2                 5.0 Rockford\\\\n                       Private bedroom in BedStuy! 1107.0    Private room                                   No smoking            10.0                  1                 4.0 Rockford\\\\n   Pure luxury one bdrm + sofa bed on Central Park  243.0 Entire home/apt                      No smoking & No parties             2.0                  3                 3.0 Rockford\\\\n           Charming studio in the heart of Astoria  519.0 Entire home/apt                                   No parties             4.0                  4                 4.0 Rockford\\\\n                             The heart of Brooklyn  154.0 Entire home/apt No children under 10 & No visitors & No pets            30.0                  3                 2.0 Rockford\\\\n           Private Stuyvesant Bedroom Madison 1R-2  395.0    Private room            No parties & No children under 10            30.0                  2                 3.0 Rockford\\\\n Sunny big bedroom in lively Brooklyn neighborhood  440.0    Private room                         No pets & No smoking            14.0                  2                 3.0 Rockford\\\\n    Midtown 2 Bed United Nations Loc, Full Kitchen  245.0 Entire home/apt                                  No visitors             3.0                  3                 4.0 Rockford\\'}, {\\'Description\\': \\'Flight from St. Petersburg to Rockford on 2022-03-16\\', \\'Content\\': \\'Flight Number  Price DepTime ArrTime  ActualElapsedTime FlightDate OriginCityName DestCityName  Distance\\\\n     F3573659    474   15:40   17:04 2 hours 24 minutes 2022-03-16 St. Petersburg     Rockford    1049.0\\'}, {\\'Description\\': \\'Self-driving from St. Petersburg to Rockford\\', \\'Content\\': \\'No valid information.\\'}, {\\'Description\\': \\'Taxi from St. Petersburg to Rockford\\', \\'Content\\': \\'No valid information.\\'}, {\\'Description\\': \\'Flight from Rockford to St. Petersburg on 2022-03-18\\', \\'Content\\': \\'Flight Number  Price DepTime ArrTime  ActualElapsedTime FlightDate OriginCityName   DestCityName  Distance\\\\n     F3573120    346   19:00   22:43 2 hours 43 minutes 2022-03-18       Rockford St. Petersburg    1049.0\\'}, {\\'Description\\': \\'Self-driving from Rockford to St. Petersburg\\', \\'Content\\': \\'No valid information.\\'}, {\\'Description\\': \\'Taxi from Rockford to St. Petersburg\\', \\'Content\\': \\'No valid information.\\'}]',\n",
              " 'question': 'Query: Please help me plan a trip from St. Petersburg to Rockford spanning 3 days from March 16th to March 18th, 2022. The travel should be planned for a single person with a budget of $1,700. Data: [{\\'Description\\': \\'Attractions in Rockford\\', \\'Content\\': \"                                   Name  Latitude  Longitude                                                          Address          Phone                                                                 Website     City\\\\n       Burpee Museum of Natural History 42.277324 -89.088142                           737 N Main St, Rockford, IL 61103, USA (815) 965-3433                                                  http://www.burpee.org/ Rockford\\\\n                  Midway Village Museum 42.280499 -88.984640                        6799 Guilford Rd, Rockford, IL 61107, USA (815) 397-9112                                          https://www.midwayvillage.com/ Rockford\\\\n                Discovery Center Museum 42.277105 -89.089430                           711 N Main St, Rockford, IL 61103, USA (815) 963-6769                                   http://www.discoverycentermuseum.org/ Rockford\\\\nTinker Swiss Cottage Museum and Gardens 42.264110 -89.102796                             411 Kent St, Rockford, IL 61102, USA (815) 964-2424                                           http://www.tinkercottage.com/ Rockford\\\\n              Anderson Japanese Gardens 42.290054 -89.057795                     318 Spring Creek Rd, Rockford, IL 61107, USA (815) 229-9390                                             http://andersongardens.org/ Rockford\\\\n        Nicholas Conservatory & Gardens 42.282293 -89.070704                           1354 N 2nd St, Rockford, IL 61107, USA (815) 987-8858                                    http://www.nicholasconservatory.com/ Rockford\\\\n                   Erlander Home Museum 42.264098 -89.088693                            404 S 3rd St, Rockford, IL 61104, USA (815) 963-5559                                       http://www.swedishhistorical.org/ Rockford\\\\n                 Ethnic Heritage Museum 42.261100 -89.100915                          1129 S Main St, Rockford, IL 61101, USA (815) 962-7402                                   https://www.ethnicheritagemuseum.org/ Rockford\\\\n                       Sinnissippi Park 42.282729 -89.064116                           1401 N 2nd St, Rockford, IL 61107, USA (815) 987-8858                                     http://rockfordparkdistrict.org/ncg Rockford\\\\n       Klehm Arboretum & Botanic Garden 42.244452 -89.112540                          2715 S Main St, Rockford, IL 61102, USA (815) 965-8146                                                   http://www.klehm.org/ Rockford\\\\n         Davis Park at Founders Landing 42.268250 -89.095379                          320 S Wyman St, Rockford, IL 61101, USA (815) 968-5600 https://www.gorockford.com/listings/davis-park-at-founders-landing/275/ Rockford\\\\n     Frank Lloyd Wright\\'s Laurent House 42.299833 -89.024362                    4646 Spring Brook Rd, Rockford, IL 61114, USA (815) 877-2952                                            http://www.laurenthouse.com/ Rockford\\\\n                    Sinnissippi Gardens 42.284031 -89.067901                           1354 N 2nd St, Rockford, IL 61107, USA (815) 987-8858                                       https://nicholasconservatory.com/ Rockford\\\\n                 Riverfront Museum Park 42.276843 -89.088859                    Ste 3, 711 N Main St, Rockford, IL 61103, USA (815) 962-0105                                                                 Unknown Rockford\\\\n                            Searls Park 42.300685 -89.124144                         4950 Safford Rd, Rockford, IL 61101, USA (815) 987-8800                                        http://rockfordparkdistrict.org/ Rockford\\\\n                      La Paloma Gardens 42.293671 -89.034617                       3622 Brookview Rd, Rockford, IL 61107, USA (815) 399-0324                                         http://www.lapalomagardens.com/ Rockford\\\\n                 Rockford Park District 42.268422 -89.097234                           401 S Main St, Rockford, IL 61101, USA (815) 987-8800                                       https://rockfordparkdistrict.org/ Rockford\\\\n                            Aldeen Park 42.274060 -89.022769                         623 N Alpine Rd, Rockford, IL 61107, USA        Unknown                                   https://www.rockfordparkdistrict.org/ Rockford\\\\n      Blackhawk Springs Forest Preserve 42.204694 -88.991636 5360 Mulford Road &, 5801 Perryville Rd, Rockford, IL 61109, USA (815) 877-6100                 http://winnebagoforest.org/preserves/blackhawk-springs/ Rockford\\\\n              Ingersoll Centennial Park 42.266298 -89.091439                            315 S 1st St, Rockford, IL 61104, USA (815) 987-8800                                        http://rockfordparkdistrict.org/ Rockford\"}, {\\'Description\\': \\'Restaurants in Rockford\\', \\'Content\\': \"                                           Name  Average Cost                                            Cuisines  Aggregate Rating      City\\\\n39                                   Coco Bambu            72                      Tea, French, Bakery, BBQ, Cafe               4.9  Rockford\\\\n251                                Flying Mango            20                              American, BBQ, Seafood               4.5  Rockford\\\\n2470                           Gajalee Sea Food            49                                         Bakery, BBQ               3.9  Rockford\\\\n2861                 Shree Balaji Chaat Bhandar            97                        French, Bakery, BBQ, Italian               3.2  Rockford\\\\n3052                              Moets Arabica            43                      Tea, Bakery, Indian, Fast Food               3.5  Rockford\\\\n3163                            Cafe Coffee Day            28       Chinese, Desserts, Pizza, Cafe, Mediterranean               0.0  Rockford\\\\n3700                                Nutri Punch            34                        Tea, Chinese, Cafe, Desserts               4.0  Rockford\\\\n4319                              Cafe Southall            56                     Seafood, Pizza, Cafe, Fast Food               4.2  Rockford\\\\n4348  Eggspectation - Jaypee Vasant Continental            77                         Tea, Mediterranean, Seafood               3.6  Rockford\\\\n4542                           Aroma Rest O Bar            58       Bakery, Fast Food, Chinese, American, Seafood               3.6  Rockford\\\\n4735                             Advance Bakery           100  Desserts, Pizza, Mexican, Bakery, Chinese, Seafood               2.9  Rockford\\\\n4789                                Dial A Cake            29             Cafe, American, Mediterranean, Desserts               0.0  Rockford\\\\n5309                                     U Like            32                               Tea, French, Desserts               0.0  Rockford\\\\n5459                                     Subway            42                                 Tea, Chinese, Pizza               3.4  Rockford\\\\n5661                      Aggarwal Sweet Centre            81                Desserts, Tea, Italian, Bakery, Cafe               0.0  Rockford\\\\n6078                     Aggarwal Sweets Centre            73                    Fast Food, Chinese, BBQ, Italian               0.0  Rockford\\\\n6313      Giri Momos Centre & Chinese Fast Food            44                               Cafe, Indian, Seafood               2.4  Rockford\\\\n6388       Mr. Confectioner - Pride Plaza Hotel            74                                    Bakery, Desserts               0.0  Rockford\\\\n6507                                    Faaso\\'s            98                           Bakery, Desserts, Seafood               0.0  Rockford\\\\n6796            Hangchuaa\\'s Chinese Food Corner            64                                   Tea, BBQ, Seafood               3.1  Rockford\\\\n7295         Grappa - Shangri-La\\'s - Eros Hotel            21                           Bakery, Desserts, Italian               3.4  Rockford\\\\n7955                        New Bhappe Di Hatti            76                    Seafood, Mexican, BBQ, Fast Food               0.0  Rockford\\\\n8095                             Dunkin\\' Donuts            24                          Cafe, Bakery, BBQ, Seafood               0.0  Rockford\\\\n8455                                     Subway            26                        Bakery, Pizza, BBQ, Desserts               3.8  Rockford\\\\n8821                          The Gourmet Shack            77                       Tea, Pizza, Indian, Fast Food               3.3  Rockford\\\\n8844                                Mirchievous            64                      American, Indian, BBQ, Seafood               3.1  Rockford\\\\n9340                                 Chaophraya            74                      Chinese, Pizza, Cafe, Desserts               3.9  Rockford\"}, {\\'Description\\': \\'Accommodations in Rockford\\', \\'Content\\': \\'                                              NAME  price       room type                                  house_rules  minimum nights  maximum occupancy  review rate number     city\\\\n                     Spacious 3BDR Prime Location! 1030.0 Entire home/apt                                   No smoking             2.0                  9                 2.0 Rockford\\\\n                Private Room in a two bedroom apt.  210.0    Private room                     No visitors & No smoking             1.0                  2                 4.0 Rockford\\\\n              Private rooms And Matchless Location 1075.0    Private room                         No pets & No parties             2.0                  2                 2.0 Rockford\\\\nPark Side Zen Home - Terrace & next to CentralPark  250.0 Entire home/apt                         No children under 10             3.0                  3                 3.0 Rockford\\\\n        Lux 2 Bedroom NYC Apt on the Hudson River!  737.0 Entire home/apt                                   No smoking            30.0                  4                 5.0 Rockford\\\\n             Modern 1-bedroom apartment in Fordham  377.0 Entire home/apt                                      No pets             7.0                  2                 5.0 Rockford\\\\n                       Private bedroom in BedStuy! 1107.0    Private room                                   No smoking            10.0                  1                 4.0 Rockford\\\\n   Pure luxury one bdrm + sofa bed on Central Park  243.0 Entire home/apt                      No smoking & No parties             2.0                  3                 3.0 Rockford\\\\n           Charming studio in the heart of Astoria  519.0 Entire home/apt                                   No parties             4.0                  4                 4.0 Rockford\\\\n                             The heart of Brooklyn  154.0 Entire home/apt No children under 10 & No visitors & No pets            30.0                  3                 2.0 Rockford\\\\n           Private Stuyvesant Bedroom Madison 1R-2  395.0    Private room            No parties & No children under 10            30.0                  2                 3.0 Rockford\\\\n Sunny big bedroom in lively Brooklyn neighborhood  440.0    Private room                         No pets & No smoking            14.0                  2                 3.0 Rockford\\\\n    Midtown 2 Bed United Nations Loc, Full Kitchen  245.0 Entire home/apt                                  No visitors             3.0                  3                 4.0 Rockford\\'}, {\\'Description\\': \\'Flight from St. Petersburg to Rockford on 2022-03-16\\', \\'Content\\': \\'Flight Number  Price DepTime ArrTime  ActualElapsedTime FlightDate OriginCityName DestCityName  Distance\\\\n     F3573659    474   15:40   17:04 2 hours 24 minutes 2022-03-16 St. Petersburg     Rockford    1049.0\\'}, {\\'Description\\': \\'Self-driving from St. Petersburg to Rockford\\', \\'Content\\': \\'No valid information.\\'}, {\\'Description\\': \\'Taxi from St. Petersburg to Rockford\\', \\'Content\\': \\'No valid information.\\'}, {\\'Description\\': \\'Flight from Rockford to St. Petersburg on 2022-03-18\\', \\'Content\\': \\'Flight Number  Price DepTime ArrTime  ActualElapsedTime FlightDate OriginCityName   DestCityName  Distance\\\\n     F3573120    346   19:00   22:43 2 hours 43 minutes 2022-03-18       Rockford St. Petersburg    1049.0\\'}, {\\'Description\\': \\'Self-driving from Rockford to St. Petersburg\\', \\'Content\\': \\'No valid information.\\'}, {\\'Description\\': \\'Taxi from Rockford to St. Petersburg\\', \\'Content\\': \\'No valid information.\\'}]',\n",
              " 'prompt': [{'content': 'You are given a problem.\\nThink about the problem and provide your working out.\\nPlace it between <start_working_out> and <end_working_out>.\\nThen, provide your solution between <SOLUTION></SOLUTION>',\n",
              "   'role': 'system'},\n",
              "  {'content': 'Query: Please help me plan a trip from St. Petersburg to Rockford spanning 3 days from March 16th to March 18th, 2022. The travel should be planned for a single person with a budget of $1,700. Data: [{\\'Description\\': \\'Attractions in Rockford\\', \\'Content\\': \"                                   Name  Latitude  Longitude                                                          Address          Phone                                                                 Website     City\\\\n       Burpee Museum of Natural History 42.277324 -89.088142                           737 N Main St, Rockford, IL 61103, USA (815) 965-3433                                                  http://www.burpee.org/ Rockford\\\\n                  Midway Village Museum 42.280499 -88.984640                        6799 Guilford Rd, Rockford, IL 61107, USA (815) 397-9112                                          https://www.midwayvillage.com/ Rockford\\\\n                Discovery Center Museum 42.277105 -89.089430                           711 N Main St, Rockford, IL 61103, USA (815) 963-6769                                   http://www.discoverycentermuseum.org/ Rockford\\\\nTinker Swiss Cottage Museum and Gardens 42.264110 -89.102796                             411 Kent St, Rockford, IL 61102, USA (815) 964-2424                                           http://www.tinkercottage.com/ Rockford\\\\n              Anderson Japanese Gardens 42.290054 -89.057795                     318 Spring Creek Rd, Rockford, IL 61107, USA (815) 229-9390                                             http://andersongardens.org/ Rockford\\\\n        Nicholas Conservatory & Gardens 42.282293 -89.070704                           1354 N 2nd St, Rockford, IL 61107, USA (815) 987-8858                                    http://www.nicholasconservatory.com/ Rockford\\\\n                   Erlander Home Museum 42.264098 -89.088693                            404 S 3rd St, Rockford, IL 61104, USA (815) 963-5559                                       http://www.swedishhistorical.org/ Rockford\\\\n                 Ethnic Heritage Museum 42.261100 -89.100915                          1129 S Main St, Rockford, IL 61101, USA (815) 962-7402                                   https://www.ethnicheritagemuseum.org/ Rockford\\\\n                       Sinnissippi Park 42.282729 -89.064116                           1401 N 2nd St, Rockford, IL 61107, USA (815) 987-8858                                     http://rockfordparkdistrict.org/ncg Rockford\\\\n       Klehm Arboretum & Botanic Garden 42.244452 -89.112540                          2715 S Main St, Rockford, IL 61102, USA (815) 965-8146                                                   http://www.klehm.org/ Rockford\\\\n         Davis Park at Founders Landing 42.268250 -89.095379                          320 S Wyman St, Rockford, IL 61101, USA (815) 968-5600 https://www.gorockford.com/listings/davis-park-at-founders-landing/275/ Rockford\\\\n     Frank Lloyd Wright\\'s Laurent House 42.299833 -89.024362                    4646 Spring Brook Rd, Rockford, IL 61114, USA (815) 877-2952                                            http://www.laurenthouse.com/ Rockford\\\\n                    Sinnissippi Gardens 42.284031 -89.067901                           1354 N 2nd St, Rockford, IL 61107, USA (815) 987-8858                                       https://nicholasconservatory.com/ Rockford\\\\n                 Riverfront Museum Park 42.276843 -89.088859                    Ste 3, 711 N Main St, Rockford, IL 61103, USA (815) 962-0105                                                                 Unknown Rockford\\\\n                            Searls Park 42.300685 -89.124144                         4950 Safford Rd, Rockford, IL 61101, USA (815) 987-8800                                        http://rockfordparkdistrict.org/ Rockford\\\\n                      La Paloma Gardens 42.293671 -89.034617                       3622 Brookview Rd, Rockford, IL 61107, USA (815) 399-0324                                         http://www.lapalomagardens.com/ Rockford\\\\n                 Rockford Park District 42.268422 -89.097234                           401 S Main St, Rockford, IL 61101, USA (815) 987-8800                                       https://rockfordparkdistrict.org/ Rockford\\\\n                            Aldeen Park 42.274060 -89.022769                         623 N Alpine Rd, Rockford, IL 61107, USA        Unknown                                   https://www.rockfordparkdistrict.org/ Rockford\\\\n      Blackhawk Springs Forest Preserve 42.204694 -88.991636 5360 Mulford Road &, 5801 Perryville Rd, Rockford, IL 61109, USA (815) 877-6100                 http://winnebagoforest.org/preserves/blackhawk-springs/ Rockford\\\\n              Ingersoll Centennial Park 42.266298 -89.091439                            315 S 1st St, Rockford, IL 61104, USA (815) 987-8800                                        http://rockfordparkdistrict.org/ Rockford\"}, {\\'Description\\': \\'Restaurants in Rockford\\', \\'Content\\': \"                                           Name  Average Cost                                            Cuisines  Aggregate Rating      City\\\\n39                                   Coco Bambu            72                      Tea, French, Bakery, BBQ, Cafe               4.9  Rockford\\\\n251                                Flying Mango            20                              American, BBQ, Seafood               4.5  Rockford\\\\n2470                           Gajalee Sea Food            49                                         Bakery, BBQ               3.9  Rockford\\\\n2861                 Shree Balaji Chaat Bhandar            97                        French, Bakery, BBQ, Italian               3.2  Rockford\\\\n3052                              Moets Arabica            43                      Tea, Bakery, Indian, Fast Food               3.5  Rockford\\\\n3163                            Cafe Coffee Day            28       Chinese, Desserts, Pizza, Cafe, Mediterranean               0.0  Rockford\\\\n3700                                Nutri Punch            34                        Tea, Chinese, Cafe, Desserts               4.0  Rockford\\\\n4319                              Cafe Southall            56                     Seafood, Pizza, Cafe, Fast Food               4.2  Rockford\\\\n4348  Eggspectation - Jaypee Vasant Continental            77                         Tea, Mediterranean, Seafood               3.6  Rockford\\\\n4542                           Aroma Rest O Bar            58       Bakery, Fast Food, Chinese, American, Seafood               3.6  Rockford\\\\n4735                             Advance Bakery           100  Desserts, Pizza, Mexican, Bakery, Chinese, Seafood               2.9  Rockford\\\\n4789                                Dial A Cake            29             Cafe, American, Mediterranean, Desserts               0.0  Rockford\\\\n5309                                     U Like            32                               Tea, French, Desserts               0.0  Rockford\\\\n5459                                     Subway            42                                 Tea, Chinese, Pizza               3.4  Rockford\\\\n5661                      Aggarwal Sweet Centre            81                Desserts, Tea, Italian, Bakery, Cafe               0.0  Rockford\\\\n6078                     Aggarwal Sweets Centre            73                    Fast Food, Chinese, BBQ, Italian               0.0  Rockford\\\\n6313      Giri Momos Centre & Chinese Fast Food            44                               Cafe, Indian, Seafood               2.4  Rockford\\\\n6388       Mr. Confectioner - Pride Plaza Hotel            74                                    Bakery, Desserts               0.0  Rockford\\\\n6507                                    Faaso\\'s            98                           Bakery, Desserts, Seafood               0.0  Rockford\\\\n6796            Hangchuaa\\'s Chinese Food Corner            64                                   Tea, BBQ, Seafood               3.1  Rockford\\\\n7295         Grappa - Shangri-La\\'s - Eros Hotel            21                           Bakery, Desserts, Italian               3.4  Rockford\\\\n7955                        New Bhappe Di Hatti            76                    Seafood, Mexican, BBQ, Fast Food               0.0  Rockford\\\\n8095                             Dunkin\\' Donuts            24                          Cafe, Bakery, BBQ, Seafood               0.0  Rockford\\\\n8455                                     Subway            26                        Bakery, Pizza, BBQ, Desserts               3.8  Rockford\\\\n8821                          The Gourmet Shack            77                       Tea, Pizza, Indian, Fast Food               3.3  Rockford\\\\n8844                                Mirchievous            64                      American, Indian, BBQ, Seafood               3.1  Rockford\\\\n9340                                 Chaophraya            74                      Chinese, Pizza, Cafe, Desserts               3.9  Rockford\"}, {\\'Description\\': \\'Accommodations in Rockford\\', \\'Content\\': \\'                                              NAME  price       room type                                  house_rules  minimum nights  maximum occupancy  review rate number     city\\\\n                     Spacious 3BDR Prime Location! 1030.0 Entire home/apt                                   No smoking             2.0                  9                 2.0 Rockford\\\\n                Private Room in a two bedroom apt.  210.0    Private room                     No visitors & No smoking             1.0                  2                 4.0 Rockford\\\\n              Private rooms And Matchless Location 1075.0    Private room                         No pets & No parties             2.0                  2                 2.0 Rockford\\\\nPark Side Zen Home - Terrace & next to CentralPark  250.0 Entire home/apt                         No children under 10             3.0                  3                 3.0 Rockford\\\\n        Lux 2 Bedroom NYC Apt on the Hudson River!  737.0 Entire home/apt                                   No smoking            30.0                  4                 5.0 Rockford\\\\n             Modern 1-bedroom apartment in Fordham  377.0 Entire home/apt                                      No pets             7.0                  2                 5.0 Rockford\\\\n                       Private bedroom in BedStuy! 1107.0    Private room                                   No smoking            10.0                  1                 4.0 Rockford\\\\n   Pure luxury one bdrm + sofa bed on Central Park  243.0 Entire home/apt                      No smoking & No parties             2.0                  3                 3.0 Rockford\\\\n           Charming studio in the heart of Astoria  519.0 Entire home/apt                                   No parties             4.0                  4                 4.0 Rockford\\\\n                             The heart of Brooklyn  154.0 Entire home/apt No children under 10 & No visitors & No pets            30.0                  3                 2.0 Rockford\\\\n           Private Stuyvesant Bedroom Madison 1R-2  395.0    Private room            No parties & No children under 10            30.0                  2                 3.0 Rockford\\\\n Sunny big bedroom in lively Brooklyn neighborhood  440.0    Private room                         No pets & No smoking            14.0                  2                 3.0 Rockford\\\\n    Midtown 2 Bed United Nations Loc, Full Kitchen  245.0 Entire home/apt                                  No visitors             3.0                  3                 4.0 Rockford\\'}, {\\'Description\\': \\'Flight from St. Petersburg to Rockford on 2022-03-16\\', \\'Content\\': \\'Flight Number  Price DepTime ArrTime  ActualElapsedTime FlightDate OriginCityName DestCityName  Distance\\\\n     F3573659    474   15:40   17:04 2 hours 24 minutes 2022-03-16 St. Petersburg     Rockford    1049.0\\'}, {\\'Description\\': \\'Self-driving from St. Petersburg to Rockford\\', \\'Content\\': \\'No valid information.\\'}, {\\'Description\\': \\'Taxi from St. Petersburg to Rockford\\', \\'Content\\': \\'No valid information.\\'}, {\\'Description\\': \\'Flight from Rockford to St. Petersburg on 2022-03-18\\', \\'Content\\': \\'Flight Number  Price DepTime ArrTime  ActualElapsedTime FlightDate OriginCityName   DestCityName  Distance\\\\n     F3573120    346   19:00   22:43 2 hours 43 minutes 2022-03-18       Rockford St. Petersburg    1049.0\\'}, {\\'Description\\': \\'Self-driving from Rockford to St. Petersburg\\', \\'Content\\': \\'No valid information.\\'}, {\\'Description\\': \\'Taxi from Rockford to St. Petersburg\\', \\'Content\\': \\'No valid information.\\'}]',\n",
              "   'role': 'user'}]}"
            ]
          },
          "metadata": {},
          "execution_count": 63
        }
      ],
      "source": [
        "dataset = dataset.map(lambda x: {\n",
        "    \"prompt\" : [\n",
        "        {\"role\": \"system\", \"content\": system_prompt},\n",
        "        {\"role\": \"user\",   \"content\": x[\"question\"]},\n",
        "    ],\n",
        "    \"answer\": (x[\"answer\"]),\n",
        "})\n",
        "dataset[0]"
      ]
    },
    {
      "cell_type": "markdown",
      "metadata": {
        "id": "w6MsfbGUtja0"
      },
      "source": [
        "We create a regex format to match the reasoning sections and answers:"
      ]
    },
    {
      "cell_type": "code",
      "execution_count": 43,
      "metadata": {
        "id": "l5X6oDNDn6Zj"
      },
      "outputs": [],
      "source": [
        "import re\n",
        "\n",
        "match_format = re.compile(\n",
        "    rf\"^[\\s]{{0,}}\"\\\n",
        "    rf\"{reasoning_start}.+?{reasoning_end}.*?\"\\\n",
        "    rf\"{solution_start}(.+?){solution_end}\"\\\n",
        "    rf\"[\\s]{{0,}}$\",\n",
        "    flags = re.MULTILINE | re.DOTALL\n",
        ")"
      ]
    },
    {
      "cell_type": "markdown",
      "metadata": {
        "id": "ME3-UVc6tnYP"
      },
      "source": [
        "We verify it works:"
      ]
    },
    {
      "cell_type": "code",
      "execution_count": 44,
      "metadata": {
        "colab": {
          "base_uri": "https://localhost:8080/"
        },
        "id": "LVvrKUBEtoQD",
        "outputId": "986ae95f-0fe6-4fed-e5d1-0841f42816d0"
      },
      "outputs": [
        {
          "output_type": "execute_result",
          "data": {
            "text/plain": [
              "<re.Match object; span=(0, 71), match='<start_working_out>Let me think!<end_working_out>>"
            ]
          },
          "metadata": {},
          "execution_count": 44
        }
      ],
      "source": [
        "match_format.search(\n",
        "    \"<start_working_out>Let me think!<end_working_out>\"\\\n",
        "    \"<SOLUTION>2</SOLUTION>\",\n",
        ")"
      ]
    },
    {
      "cell_type": "markdown",
      "metadata": {
        "id": "Qglh2OxpuQzK"
      },
      "source": [
        "We now want to create a reward function to match the format exactly - we reward it with 3 points if it succeeds:"
      ]
    },
    {
      "cell_type": "code",
      "execution_count": 45,
      "metadata": {
        "id": "g8MPYPvvo1ri"
      },
      "outputs": [],
      "source": [
        "def match_format_exactly(completions, **kwargs):\n",
        "    scores = []\n",
        "    for completion in completions:\n",
        "        score = 0\n",
        "        response = completion[0][\"content\"]\n",
        "        # Match if format is seen exactly!\n",
        "        if match_format.search(response) is not None: score += 3.0\n",
        "        scores.append(score)\n",
        "    return scores"
      ]
    },
    {
      "cell_type": "markdown",
      "metadata": {
        "id": "VqnEZ4msuZyZ"
      },
      "source": [
        "If it fails, we want to reward the model if it at least follows the format partially, by counting each symbol:"
      ]
    },
    {
      "cell_type": "code",
      "execution_count": 46,
      "metadata": {
        "id": "1LlYVZjdpij9"
      },
      "outputs": [],
      "source": [
        "def match_format_approximately(completions, **kwargs):\n",
        "    scores = []\n",
        "    for completion in completions:\n",
        "        score = 0\n",
        "        response = completion[0][\"content\"]\n",
        "        # Count how many keywords are seen - we penalize if too many!\n",
        "        # If we see 1, then plus some points!\n",
        "        score += 0.5 if response.count(reasoning_start) == 1 else -0.5\n",
        "        score += 0.5 if response.count(reasoning_end)   == 1 else -0.5\n",
        "        score += 0.5 if response.count(solution_start)  == 1 else -0.5\n",
        "        score += 0.5 if response.count(solution_end)    == 1 else -0.5\n",
        "        scores.append(score)\n",
        "    return scores"
      ]
    },
    {
      "cell_type": "markdown",
      "metadata": {
        "id": "CBwDVDxtuhWm"
      },
      "source": [
        "Finally, we want to extract the generated answer, and reward or penalize it! We also reward it based on how close the answer is to the true one via ratios:"
      ]
    },
    {
      "cell_type": "markdown",
      "source": [
        "# TODO: This will need to be validated using OSU script."
      ],
      "metadata": {
        "id": "s6-ooP1PtMd1"
      }
    },
    {
      "cell_type": "code",
      "execution_count": 47,
      "metadata": {
        "id": "jnKYp_IYqFr2"
      },
      "outputs": [],
      "source": [
        "def check_answer(prompts, completions, answer, **kwargs):\n",
        "    question = prompts[0][-1][\"content\"]\n",
        "    responses = [completion[0][\"content\"] for completion in completions]\n",
        "\n",
        "    extracted_responses = [\n",
        "        guess.group(1)\n",
        "        if (guess := match_format.search(r)) is not None else None \\\n",
        "        for r in responses\n",
        "    ]\n",
        "\n",
        "    scores = []\n",
        "    for guess, true_answer in zip(extracted_responses, answer):\n",
        "        score = 0\n",
        "        if guess is None:\n",
        "            scores.append(0)\n",
        "            continue\n",
        "        # Correct answer gets 3 points!\n",
        "        if guess == true_answer:\n",
        "            score += 3.0\n",
        "        # Match if spaces are seen\n",
        "        elif guess.strip() == true_answer.strip():\n",
        "            score += 1.5\n",
        "        else:\n",
        "            # We also reward it if the answer is close via ratios!\n",
        "            # Ie if the answer is within some range, reward it!\n",
        "            try:\n",
        "                ratio = float(guess) / float(true_answer)\n",
        "                if   ratio >= 0.9 and ratio <= 1.1: score += 0.5\n",
        "                elif ratio >= 0.8 and ratio <= 1.2: score += 0.25\n",
        "                else: score -= 1.0 # Penalize wrong answers\n",
        "            except:\n",
        "                score -= 0.5 # Penalize\n",
        "        scores.append(score)\n",
        "    return scores"
      ]
    },
    {
      "cell_type": "markdown",
      "metadata": {
        "id": "BvOYCf1Ly83w"
      },
      "source": [
        "Also sometimes it might not be 1 number as the answer, but like a sentence for example \"The solution is $20\" -> we extract 20."
      ]
    },
    {
      "cell_type": "code",
      "execution_count": 48,
      "metadata": {
        "colab": {
          "base_uri": "https://localhost:8080/"
        },
        "id": "MtFAX3_xy77b",
        "outputId": "617e441f-deb8-4ee7-8164-f3bb1bea4e2e"
      },
      "outputs": [
        {
          "output_type": "execute_result",
          "data": {
            "text/plain": [
              "['20']"
            ]
          },
          "metadata": {},
          "execution_count": 48
        }
      ],
      "source": [
        "match_numbers = re.compile(\n",
        "    rf\"{solution_start}.*?([\\d\\.]{{1,}})\",\n",
        "    flags = re.MULTILINE | re.DOTALL\n",
        ")\n",
        "match_numbers.findall(\"<SOLUTION>  The solution is 20 </SOLUTION>\")"
      ]
    },
    {
      "cell_type": "code",
      "execution_count": 49,
      "metadata": {
        "id": "VqWply0z0DrP"
      },
      "outputs": [],
      "source": [
        "def check_numbers(prompts, completions, answer, **kwargs):\n",
        "    question = prompts[0][-1][\"content\"]\n",
        "    responses = [completion[0][\"content\"] for completion in completions]\n",
        "\n",
        "    extracted_responses = [\n",
        "        guess.group(1)\n",
        "        if (guess := match_numbers.search(r)) is not None else None \\\n",
        "        for r in responses\n",
        "    ]\n",
        "\n",
        "    scores = []\n",
        "    print('*'*20, f\"Question:\\n{question}\", f\"\\nAnswer:\\n{answer[0]}\", f\"\\nResponse:\\n{responses[0]}\", f\"\\nExtracted:\\n{extracted_responses[0]}\")\n",
        "    for guess, true_answer in zip(extracted_responses, answer):\n",
        "        if guess is None:\n",
        "            scores.append(0)\n",
        "            continue\n",
        "        # Convert to numbers\n",
        "        try:\n",
        "            true_answer = float(true_answer.strip())\n",
        "            guess       = float(guess.strip())\n",
        "            scores.append(1.5 if guess == true_answer else 0.0)\n",
        "        except:\n",
        "            scores.append(0)\n",
        "            continue\n",
        "    return scores"
      ]
    },
    {
      "cell_type": "markdown",
      "metadata": {
        "id": "Ux6iqP7z5YOo"
      },
      "source": [
        "<a name=\"Train\"></a>\n",
        "### Train the model\n",
        "\n",
        "Now set up GRPO Trainer and all configurations!"
      ]
    },
    {
      "cell_type": "code",
      "execution_count": 70,
      "metadata": {
        "colab": {
          "base_uri": "https://localhost:8080/"
        },
        "id": "ptqkXK2D4d6p",
        "outputId": "0d331e0f-1535-4d06-83b0-9f0de681eba8"
      },
      "outputs": [
        {
          "output_type": "stream",
          "name": "stdout",
          "text": [
            "Unsloth: We now expect `per_device_train_batch_size` to be a multiple of `num_generations`.\n",
            "We will change the batch size of 1 to the `num_generations` of 4\n"
          ]
        }
      ],
      "source": [
        "max_prompt_length = 999\n",
        "\n",
        "from trl import GRPOConfig, GRPOTrainer\n",
        "training_args = GRPOConfig(\n",
        "    learning_rate = 5e-6,\n",
        "    adam_beta1 = 0.9,\n",
        "    adam_beta2 = 0.99,\n",
        "    weight_decay = 0.1,\n",
        "    warmup_ratio = 0.1,\n",
        "    lr_scheduler_type = \"cosine\",\n",
        "    optim = \"adamw_torch_fused\",\n",
        "    logging_steps = 1,\n",
        "    per_device_train_batch_size = 1,\n",
        "    gradient_accumulation_steps = 1, # Increase to 4 for smoother training\n",
        "    num_generations = 4, # Decrease if out of memory\n",
        "    max_prompt_length = max_prompt_length,\n",
        "    max_completion_length = max_seq_length - max_prompt_length,\n",
        "    num_train_epochs = 1, # Set to 1 for a full training run\n",
        "    max_steps = 300,\n",
        "    save_steps = 300,\n",
        "    max_grad_norm = 0.1,\n",
        "    report_to = \"none\", # Can use Weights & Biases\n",
        "    output_dir = \"outputs\",\n",
        ")"
      ]
    },
    {
      "cell_type": "markdown",
      "metadata": {
        "id": "r9Mv8UZO5hz-"
      },
      "source": [
        "And let's run the trainer! If you scroll up, you'll see a table of rewards. The goal is to see the `reward` column increase!\n",
        "\n",
        "You might have to wait 150 to 200 steps for any action. You'll probably get 0 reward for the first 100 steps. Please be patient!\n",
        "\n",
        "| Step | Training Loss | reward    | reward_std | completion_length | kl       |\n",
        "|------|---------------|-----------|------------|-------------------|----------|\n",
        "| 1    | 0.000000      | 0.125000  | 0.000000   | 200.000000        | 0.000000 |\n",
        "| 2    | 0.000000      | 0.072375  | 0.248112   | 200.000000        | 0.000000 |\n",
        "| 3    | 0.000000      | -0.079000 | 0.163776   | 182.500000        | 0.000005 |\n"
      ]
    },
    {
      "cell_type": "code",
      "execution_count": 71,
      "metadata": {
        "colab": {
          "base_uri": "https://localhost:8080/",
          "height": 619
        },
        "id": "vzOuSVCL_GA9",
        "outputId": "55c8789c-f578-4a8c-851e-035821fabbdb"
      },
      "outputs": [
        {
          "output_type": "stream",
          "name": "stdout",
          "text": [
            "Unsloth: Switching to float32 training since model cannot work with float16\n"
          ]
        },
        {
          "output_type": "stream",
          "name": "stderr",
          "text": [
            "==((====))==  Unsloth - 2x faster free finetuning | Num GPUs used = 1\n",
            "   \\\\   /|    Num examples = 45 | Num Epochs = 7 | Total steps = 300\n",
            "O^O/ \\_/ \\    Batch size per device = 4 | Gradient accumulation steps = 1\n",
            "\\        /    Data Parallel GPUs = 1 | Total batch size (4 x 1 x 1) = 4\n",
            " \"-____-\"     Trainable parameters = 6,522,880/1,006,408,832 (0.65% trained)\n"
          ]
        },
        {
          "output_type": "stream",
          "name": "stdout",
          "text": [
            "******************** Question:\n",
            "Query: Please create a 3-day travel itinerary for 2 people beginning in Fort Lauderdale and ending in Milwaukee from the 8th to the 10th of March, 2022. Our travel budget is set at $1,100. We'd love to experience both American and Chinese cuisines during our journey. Data: [{'Description': 'Attractions in Milwaukee', 'Content': '                                Name  Latitude  Longitude                                              Address          Phone                                                                                      Website      City\\n                Milwaukee Art Museum 43.040073 -87.897058        700 N Art Museum Dr, Milwaukee, WI 53202, USA (414) 224-3200                                                                              http://mam.org/ Milwaukee\\n             Milwaukee Public Museum 43.040537 -87.920858             800 W Wells St, Milwaukee, WI 53233, USA (414) 278-2728                                                                         https://www.mpm.edu/ Milwaukee\\n              North Point Lighthouse 43.065672 -87.871422            2650 N Wahl Ave, Milwaukee, WI 53211, USA (414) 332-6754                                                             http://northpointlighthouse.org/ Milwaukee\\n                Milwaukee County Zoo 43.032716 -88.037408       10001 W Bluemound Rd, Milwaukee, WI 53226, USA (414) 771-3040                                                                    https://milwaukeezoo.org/ Milwaukee\\n                     Discovery World 43.036869 -87.895735            500 N Harbor Dr, Milwaukee, WI 53202, USA (414) 765-9966                                                              https://www.discoveryworld.org/ Milwaukee\\n        Milwaukee Riverwalk District 43.051261 -87.911798          101 W Pleasant St, Milwaukee, WI 53212, USA        Unknown                                                   http://www.milwaukeeriverwalkdistrict.com/ Milwaukee\\n                 Mitchell Park Domes 43.026437 -87.945948          524 S Layton Blvd, Milwaukee, WI 53215, USA (414) 257-5600                                                           https://www.mitchellparkdomes.com/ Milwaukee\\n                       Pabst Mansion 43.039265 -87.937994       2000 W Wisconsin Ave, Milwaukee, WI 53233, USA (414) 931-0808                                                                 http://www.pabstmansion.com/ Milwaukee\\n              Harley-Davidson Museum 43.031671 -87.916524             400 W Canal St, Milwaukee, WI 53201, USA (414) 287-2789                                                                    http://www.h-dmuseum.com/ Milwaukee\\n                  Museum Center Park 43.039036 -87.899142          910 E Michigan St, Milwaukee, WI 53202, USA (414) 224-3200                                                                              http://mam.org/ Milwaukee\\n       Milwaukee Pierhead Lighthouse 43.025959 -87.895351                             Milwaukee, WI 53202, USA        Unknown                                                                                      Unknown Milwaukee\\n                Lakeshore State Park 43.033633 -87.895518            500 N Harbor Dr, Milwaukee, WI 53202, USA (414) 274-4281                                              https://dnr.wisconsin.gov/topic/parks/lakeshore Milwaukee\\n            Streets of Old Milwaukee 43.040658 -87.921883             800 W Wells St, Milwaukee, WI 53233, USA (414) 278-2702 http://www.mpm.edu/exhibitions/permanent-exhibits/first-floor-exhibits/streets-old-milwaukee Milwaukee\\nOceans of Fun with Ocean Connections 43.034296 -88.040379       10001 W Bluemound Rd, Milwaukee, WI 53226, USA (414) 453-5527                                                                 https://www.oceansoffun.org/ Milwaukee\\n          Milwaukee RiverWalk | East 43.042927 -87.912532            N Riverwalk Way, Milwaukee, WI 53202, USA        Unknown                                                      https://milwaukeeriverwalkdistrict.com/ Milwaukee\\n                          Swing Park 43.053671 -87.903502            1737 N Water St, Milwaukee, WI 53202, USA (414) 286-2489                                                                                      Unknown Milwaukee\\n                   South Shore Beach 42.993934 -87.881021            2900 S Shore Dr, Milwaukee, WI 53207, USA        Unknown                                                                                      Unknown Milwaukee\\n                       Veterans Park 43.045110 -87.890781 1010 N Lincoln Memorial Dr, Milwaukee, WI 53202, USA (414) 257-7275           https://county.milwaukee.gov/files/county/parks-department/Park-Maps/Veterans1.pdf Milwaukee\\n             Jewish Museum Milwaukee 43.047991 -87.894886        1360 N Prospect Ave, Milwaukee, WI 53202, USA (414) 390-5730                                                            http://jewishmuseummilwaukee.org/ Milwaukee\\n             North Point Water Tower 43.059704 -87.879856             2288 N Lake Dr, Milwaukee, WI 53202, USA (414) 286-2830                                 http://city.milwaukee.gov/water/about/North-Point-Tower-.htm Milwaukee'}, {'Description': 'Restaurants in Milwaukee', 'Content': \"                                           Name  Average Cost                                          Cuisines  Aggregate Rating       City\\n252                                  Cool Basil            40           Chinese, Pizza, French, Fast Food, Cafe               4.1  Milwaukee\\n884                                     Berco's            91           Desserts, Pizza, Italian, Cafe, Seafood               3.8  Milwaukee\\n889                                      Subway            48                                Tea, BBQ, Desserts               0.0  Milwaukee\\n1110                             Shankar Sweets            66                     Tea, Bakery, Pizza, Fast Food               0.0  Milwaukee\\n1169                                        Red            98     Desserts, BBQ, Fast Food, Cafe, Mediterranean               3.0  Milwaukee\\n1733                                   Frontier            13                  Fast Food, Seafood, Tea, Italian               2.9  Milwaukee\\n1963                              The Pack King            94                             French, Bakery, Pizza               0.0  Milwaukee\\n1989                 Yomo-Your Only Momo Outlet            62           Cafe, Seafood, Mediterranean, Fast Food               3.0  Milwaukee\\n2052                               Doughlicious            59                 Tea, Cafe, Mediterranean, Italian               3.3  Milwaukee\\n2924                             Madly Bangalee            59          Pizza, American, Mediterranean, Desserts               2.7  Milwaukee\\n3396                                Crazzy Bite            86                             Tea, Bakery, Desserts               0.0  Milwaukee\\n3620                       Ramesh Vaishno Dhaba            36          Pizza, BBQ, Fast Food, American, Seafood               3.5  Milwaukee\\n4051                                 Meet n Eat            94                    Fast Food, Pizza, BBQ, Seafood               2.7  Milwaukee\\n4939                        The Chinese Kitchen            23         Fast Food, Bakery, Mediterranean, Italian               3.1  Milwaukee\\n4970                             Ekta's Kitchen            42                        French, Pizza, Indian, BBQ               3.2  Milwaukee\\n5253                       Himalaya Food Corner            40            Desserts, Tea, BBQ, Fast Food, Chinese               2.7  Milwaukee\\n5498                              The Beer Cafe            36                    Tea, Bakery, Desserts, Italian               3.8  Milwaukee\\n5702                Raju De Special Paneer Wale            26                              Tea, Cafe, Fast Food               0.0  Milwaukee\\n5921  Muradabad Ki Mashoor Sama Chicken Biryani            42                                Chinese, BBQ, Cafe               2.9  Milwaukee\\n6021                               Janta Sweets            51                     Fast Food, Cafe, BBQ, Italian               3.0  Milwaukee\\n6171                               Cake O Frost            22                                     BBQ, Desserts               3.3  Milwaukee\\n6484               Welcome Fast Food & Parantha            47                Cafe, Bakery, Pizza, Mediterranean               0.0  Milwaukee\\n6588                            Shawarma King's            32                          Cafe, American, Desserts               3.1  Milwaukee\\n6893                     Kumaon Dhaba & Service            28                          Tea, American, Fast Food               3.0  Milwaukee\\n7099                            Darbaar Chicken            84         Tea, Pizza, BBQ, Fast Food, Mediterranean               3.0  Milwaukee\\n7367                               World of Wok            74  Italian, Fast Food, Cafe, Mediterranean, Seafood               3.6  Milwaukee\\n7414                 Ram Ram Ji Kachori Bhandar            44                  Chinese, Desserts, American, BBQ               0.0  Milwaukee\\n7585                                Funduz Cafe            40               Chinese, Mexican, Desserts, Seafood               0.0  Milwaukee\\n7592                         Mama Bhanja Corner            28         Desserts, Pizza, Mexican, Fast Food, Cafe               0.0  Milwaukee\\n8528                               Simla Bakery            51         Desserts, Pizza, BBQ, Cafe, Mediterranean               0.0  Milwaukee\\n8546                                     Foodie            35         Desserts, Cafe, Italian, Chinese, Seafood               2.8  Milwaukee\\n8732                                  Nirmala's            26                      Tea, Cafe, Bakery, Fast Food               3.4  Milwaukee\"}, {'Description': 'Accommodations in Milwaukee', 'Content': '                                        NAME  price       room type                                 house_rules  minimum nights  maximum occupancy  review rate number      city\\n          Spacious 1 Bedroom in Midwood, BK! 1125.0    Private room                        No children under 10             1.0                  1                 1.0 Milwaukee\\n     Affordable bedroom in the East Village!  184.0    Private room                                  No parties             2.0                  2                 5.0 Milwaukee\\n                            Consider it home  892.0 Entire home/apt              No children under 10 & No pets            26.0                  3                 3.0 Milwaukee\\n               Delightful & Roomy 1 Bdrm Apt  911.0 Entire home/apt No pets & No smoking & No children under 10             1.0                  9                 1.0 Milwaukee\\n           Sunny and Bright 1BR Factory Loft  146.0 Entire home/apt                    No smoking & No visitors            30.0                  2                 1.0 Milwaukee\\nSpacious Charming NYC Apt, 10 min to Midtown  928.0 Entire home/apt                                  No smoking            10.0                  7                 3.0 Milwaukee'}, {'Description': 'Flight from Fort Lauderdale to Milwaukee on 2022-03-08', 'Content': 'There is no flight from Fort Lauderdale to Milwaukee on 2022-03-08.'}, {'Description': 'Self-driving from Fort Lauderdale to Milwaukee', 'Content': 'self-driving, from Fort Lauderdale to Milwaukee, duration: 21 hours 8 mins, distance: 2,340 km, cost: 117'}, {'Description': 'Taxi from Fort Lauderdale to Milwaukee', 'Content': 'taxi, from Fort Lauderdale to Milwaukee, duration: 21 hours 8 mins, distance: 2,340 km, cost: 2340'}, {'Description': 'Flight from Milwaukee to Fort Lauderdale on 2022-03-10', 'Content': 'Flight Number  Price DepTime ArrTime  ActualElapsedTime FlightDate OriginCityName    DestCityName  Distance\\n     F3615421    543   17:44   21:52  3 hours 8 minutes 2022-03-10      Milwaukee Fort Lauderdale    1243.0\\n     F3942425    289   06:07   10:25 3 hours 18 minutes 2022-03-10      Milwaukee Fort Lauderdale    1243.0'}, {'Description': 'Self-driving from Milwaukee to Fort Lauderdale', 'Content': 'self-driving, from Milwaukee to Fort Lauderdale, duration: 21 hours 9 mins, distance: 2,336 km, cost: 116'}, {'Description': 'Taxi from Milwaukee to Fort Lauderdale', 'Content': 'taxi, from Milwaukee to Fort Lauderdale, duration: 21 hours 9 mins, distance: 2,336 km, cost: 2336'}] \n",
            "Answer:\n",
            "[{'org': 'Fort Lauderdale', 'dest': 'Milwaukee', 'days': 3, 'visiting_city_number': 1, 'date': ['2022-03-08', '2022-03-09', '2022-03-10'], 'people_number': 2, 'local_constraint': {'house rule': None, 'cuisine': ['American', 'Chinese'], 'room type': None, 'transportation': None}, 'budget': 1100, 'query': \"Please create a 3-day travel itinerary for 2 people beginning in Fort Lauderdale and ending in Milwaukee from the 8th to the 10th of March, 2022. Our travel budget is set at $1,100. We'd love to experience both American and Chinese cuisines during our journey.\", 'level': 'medium'}, [{'days': 1, 'current_city': 'from Fort Lauderdale to Milwaukee', 'transportation': 'Self-driving, from Fort Lauderdale to Milwaukee, duration: 21 hours 6 mins, distance: 2,340 km, cost: 117', 'breakfast': '-', 'attraction': '-', 'lunch': '-', 'dinner': 'Madly Bangalee, Milwaukee', 'accommodation': 'Affordable bedroom in the East Village!, Milwaukee'}, {'days': 2, 'current_city': 'Milwaukee', 'transportation': '-', 'breakfast': 'Cake O Frost, Milwaukee', 'attraction': 'Milwaukee Public Museum, Milwaukee;Milwaukee County Zoo, Milwaukee;', 'lunch': 'Welcome Fast Food & Parantha, Milwaukee', 'dinner': \"Shawarma King's, Milwaukee\", 'accommodation': 'Affordable bedroom in the East Village!, Milwaukee'}, {'days': 3, 'current_city': 'from Milwaukee to Fort Lauderdale', 'transportation': 'Self-driving, from Milwaukee to Fort Lauderdale, duration: 21 hours 6 mins, distance: 2,336 km, cost: 116', 'breakfast': 'Cool Basil, Milwaukee', 'attraction': '-', 'lunch': '-', 'dinner': '-', 'accommodation': '-'}, {}, {}, {}, {}]] \n",
            "Response:\n",
            "Okay, let's break down this Milwaukee/Fort Lauderdale flight information.\n",
            "\n",
            "**Here's a summary of the available \n",
            "Extracted:\n",
            "None\n"
          ]
        },
        {
          "output_type": "error",
          "ename": "AttributeError",
          "evalue": "'UnslothGRPOConfig' object has no attribute 'loss_type'",
          "traceback": [
            "\u001b[0;31m---------------------------------------------------------------------------\u001b[0m",
            "\u001b[0;31mAttributeError\u001b[0m                            Traceback (most recent call last)",
            "\u001b[0;32m<ipython-input-71-318913a85b6a>\u001b[0m in \u001b[0;36m<cell line: 0>\u001b[0;34m()\u001b[0m\n\u001b[1;32m     11\u001b[0m     \u001b[0mtrain_dataset\u001b[0m \u001b[0;34m=\u001b[0m \u001b[0mdataset\u001b[0m\u001b[0;34m,\u001b[0m\u001b[0;34m\u001b[0m\u001b[0;34m\u001b[0m\u001b[0m\n\u001b[1;32m     12\u001b[0m )\n\u001b[0;32m---> 13\u001b[0;31m \u001b[0mtrainer\u001b[0m\u001b[0;34m.\u001b[0m\u001b[0mtrain\u001b[0m\u001b[0;34m(\u001b[0m\u001b[0;34m)\u001b[0m\u001b[0;34m\u001b[0m\u001b[0;34m\u001b[0m\u001b[0m\n\u001b[0m",
            "\u001b[0;32m/usr/local/lib/python3.11/dist-packages/transformers/trainer.py\u001b[0m in \u001b[0;36mtrain\u001b[0;34m(self, resume_from_checkpoint, trial, ignore_keys_for_eval, **kwargs)\u001b[0m\n\u001b[1;32m   2243\u001b[0m                 \u001b[0mhf_hub_utils\u001b[0m\u001b[0;34m.\u001b[0m\u001b[0menable_progress_bars\u001b[0m\u001b[0;34m(\u001b[0m\u001b[0;34m)\u001b[0m\u001b[0;34m\u001b[0m\u001b[0;34m\u001b[0m\u001b[0m\n\u001b[1;32m   2244\u001b[0m         \u001b[0;32melse\u001b[0m\u001b[0;34m:\u001b[0m\u001b[0;34m\u001b[0m\u001b[0;34m\u001b[0m\u001b[0m\n\u001b[0;32m-> 2245\u001b[0;31m             return inner_training_loop(\n\u001b[0m\u001b[1;32m   2246\u001b[0m                 \u001b[0margs\u001b[0m\u001b[0;34m=\u001b[0m\u001b[0margs\u001b[0m\u001b[0;34m,\u001b[0m\u001b[0;34m\u001b[0m\u001b[0;34m\u001b[0m\u001b[0m\n\u001b[1;32m   2247\u001b[0m                 \u001b[0mresume_from_checkpoint\u001b[0m\u001b[0;34m=\u001b[0m\u001b[0mresume_from_checkpoint\u001b[0m\u001b[0;34m,\u001b[0m\u001b[0;34m\u001b[0m\u001b[0;34m\u001b[0m\u001b[0m\n",
            "\u001b[0;32m/usr/local/lib/python3.11/dist-packages/unsloth_zoo/compiler.py\u001b[0m in \u001b[0;36m_fast_inner_training_loop\u001b[0;34m(self, batch_size, args, resume_from_checkpoint, trial, ignore_keys_for_eval)\u001b[0m\n",
            "\u001b[0;32m/usr/local/lib/python3.11/dist-packages/unsloth/models/_utils.py\u001b[0m in \u001b[0;36m_unsloth_training_step\u001b[0;34m(self, model, inputs, num_items_in_batch)\u001b[0m\n",
            "\u001b[0;32m/content/unsloth_compiled_cache/UnslothGRPOTrainer.py\u001b[0m in \u001b[0;36mcompute_loss\u001b[0;34m(self, model, inputs, return_outputs, num_items_in_batch)\u001b[0m\n\u001b[1;32m   1284\u001b[0m             loss, completion_length, mean_kl = grpo_compute_loss_slow(\n\u001b[1;32m   1285\u001b[0m                 \u001b[0mref_per_token_logps\u001b[0m\u001b[0;34m,\u001b[0m \u001b[0mper_token_logps\u001b[0m\u001b[0;34m,\u001b[0m \u001b[0mold_hidden_states\u001b[0m\u001b[0;34m,\u001b[0m \u001b[0minput_ids\u001b[0m\u001b[0;34m,\u001b[0m \u001b[0mcompletion_mask\u001b[0m\u001b[0;34m,\u001b[0m \u001b[0mself\u001b[0m\u001b[0;34m.\u001b[0m\u001b[0mbeta\u001b[0m\u001b[0;34m,\u001b[0m \u001b[0madvantages\u001b[0m\u001b[0;34m,\u001b[0m\u001b[0;34m\u001b[0m\u001b[0;34m\u001b[0m\u001b[0m\n\u001b[0;32m-> 1286\u001b[0;31m                 \u001b[0mloss_type\u001b[0m \u001b[0;34m=\u001b[0m \u001b[0mself\u001b[0m\u001b[0;34m.\u001b[0m\u001b[0margs\u001b[0m\u001b[0;34m.\u001b[0m\u001b[0mloss_type\u001b[0m\u001b[0;34m,\u001b[0m\u001b[0;34m\u001b[0m\u001b[0;34m\u001b[0m\u001b[0m\n\u001b[0m\u001b[1;32m   1287\u001b[0m                 \u001b[0mepsilon_low\u001b[0m \u001b[0;34m=\u001b[0m \u001b[0mself\u001b[0m\u001b[0;34m.\u001b[0m\u001b[0mepsilon_low\u001b[0m\u001b[0;34m,\u001b[0m \u001b[0mepsilon_high\u001b[0m \u001b[0;34m=\u001b[0m \u001b[0mself\u001b[0m\u001b[0;34m.\u001b[0m\u001b[0mepsilon_high\u001b[0m\u001b[0;34m,\u001b[0m\u001b[0;34m\u001b[0m\u001b[0;34m\u001b[0m\u001b[0m\n\u001b[1;32m   1288\u001b[0m                 \u001b[0mmax_completion_length\u001b[0m \u001b[0;34m=\u001b[0m \u001b[0mself\u001b[0m\u001b[0;34m.\u001b[0m\u001b[0margs\u001b[0m\u001b[0;34m.\u001b[0m\u001b[0mmax_completion_length\u001b[0m\u001b[0;34m,\u001b[0m\u001b[0;34m\u001b[0m\u001b[0;34m\u001b[0m\u001b[0m\n",
            "\u001b[0;31mAttributeError\u001b[0m: 'UnslothGRPOConfig' object has no attribute 'loss_type'"
          ]
        }
      ],
      "source": [
        "trainer = GRPOTrainer(\n",
        "    model = model,\n",
        "    processing_class = tokenizer,\n",
        "    reward_funcs = [\n",
        "        match_format_exactly,\n",
        "        match_format_approximately,\n",
        "        check_answer,\n",
        "        check_numbers,\n",
        "    ],\n",
        "    args = training_args,\n",
        "    train_dataset = dataset,\n",
        ")\n",
        "trainer.train()"
      ]
    },
    {
      "cell_type": "markdown",
      "metadata": {
        "id": "tlaUdxC_VHpz"
      },
      "source": [
        "<a name=\"Inference\"></a>\n",
        "### Inference\n",
        "Now let's try the model we just trained!"
      ]
    },
    {
      "cell_type": "code",
      "execution_count": null,
      "metadata": {
        "colab": {
          "base_uri": "https://localhost:8080/"
        },
        "id": "qtcz_lpbVC92",
        "outputId": "bc1e6dbc-4e4e-4382-f7aa-1f56e716f044"
      },
      "outputs": [
        {
          "name": "stdout",
          "output_type": "stream",
          "text": [
            "<start_working_out>\n",
            "The square root of 101 is approximately 10.0498756.\n",
            "<SOLUTION>\n",
            "10.0498756<end_of_turn>\n"
          ]
        }
      ],
      "source": [
        "messages = [\n",
        "    {\"role\": \"system\", \"content\": system_prompt},\n",
        "    {\"role\": \"user\",   \"content\": \"What is the sqrt of 101?\"},\n",
        "]\n",
        "\n",
        "text = tokenizer.apply_chat_template(\n",
        "    messages,\n",
        "    add_generation_prompt = True, # Must add for generation\n",
        "    tokenize = False,\n",
        ")\n",
        "from transformers import TextStreamer\n",
        "_ = model.generate(\n",
        "    **tokenizer(text, return_tensors = \"pt\").to(\"cuda\"),\n",
        "    max_new_tokens = 64, # Increase for longer outputs!\n",
        "    # Recommended Gemma-3 settings!\n",
        "    temperature = 1.0, top_p = 0.95, top_k = 64,\n",
        "    streamer = TextStreamer(tokenizer, skip_prompt = True),\n",
        ")"
      ]
    },
    {
      "cell_type": "markdown",
      "metadata": {
        "id": "-NUEmHFSYNTp"
      },
      "source": [
        "<a name=\"Save\"></a>\n",
        "### Saving, loading finetuned models\n",
        "To save the final model as LoRA adapters, either use Huggingface's `push_to_hub` for an online save or `save_pretrained` for a local save.\n",
        "\n",
        "**[NOTE]** This ONLY saves the LoRA adapters, and not the full model. To save to 16bit or GGUF, scroll down!"
      ]
    },
    {
      "cell_type": "code",
      "execution_count": null,
      "metadata": {
        "colab": {
          "base_uri": "https://localhost:8080/"
        },
        "id": "NjXGTkp7YNtB",
        "outputId": "7dbe3643-d756-4c32-acaf-2d5fe76f52ef"
      },
      "outputs": [
        {
          "data": {
            "text/plain": [
              "('gemma-3/tokenizer_config.json',\n",
              " 'gemma-3/special_tokens_map.json',\n",
              " 'gemma-3/tokenizer.model',\n",
              " 'gemma-3/added_tokens.json',\n",
              " 'gemma-3/tokenizer.json')"
            ]
          },
          "execution_count": 23,
          "metadata": {},
          "output_type": "execute_result"
        }
      ],
      "source": [
        "model.save_pretrained(\"gemma-3\")  # Local saving\n",
        "tokenizer.save_pretrained(\"gemma-3\")\n",
        "# model.push_to_hub(\"HF_ACCOUNT/gemma-3\", token = \"...\") # Online saving\n",
        "# tokenizer.push_to_hub(\"HF_ACCOUNT/gemma-3\", token = \"...\") # Online saving"
      ]
    },
    {
      "cell_type": "markdown",
      "metadata": {
        "id": "52WMb3k_YPt8"
      },
      "source": [
        "### Saving to float16 for VLLM\n",
        "\n",
        "We also support saving to `float16` directly for deployment! We save it in the folder `gemma-3-finetune`. Set `if False` to `if True` to let it run!"
      ]
    },
    {
      "cell_type": "code",
      "execution_count": null,
      "metadata": {
        "id": "QyEjW-WuYQIm"
      },
      "outputs": [],
      "source": [
        "if False: # Change to True to save finetune!\n",
        "    model.save_pretrained_merged(\"gemma-3-finetune\", tokenizer)"
      ]
    },
    {
      "cell_type": "markdown",
      "metadata": {
        "id": "NRrqfyaRaXRL"
      },
      "source": [
        "If you want to upload / push to your Hugging Face account, set `if False` to `if True` and add your Hugging Face token and upload location!"
      ]
    },
    {
      "cell_type": "code",
      "execution_count": null,
      "metadata": {
        "id": "_-B07m_HC5i7"
      },
      "outputs": [],
      "source": [
        "if False: # Change to True to upload finetune\n",
        "    model.push_to_hub_merged(\n",
        "        \"HF_ACCOUNT/gemma-3-finetune\", tokenizer,\n",
        "        token = \"hf_...\"\n",
        "    )"
      ]
    },
    {
      "cell_type": "markdown",
      "metadata": {
        "id": "5JMDDS0bC7jT"
      },
      "source": [
        "### GGUF / llama.cpp Conversion\n",
        "To save to `GGUF` / `llama.cpp`, we support it natively now for all models! For now, you can convert easily to `Q8_0, F16 or BF16` precision. `Q4_K_M` for 4bit will come later!"
      ]
    },
    {
      "cell_type": "code",
      "execution_count": null,
      "metadata": {
        "id": "aX3xMj8hC6e0"
      },
      "outputs": [],
      "source": [
        "if False: # Change to True to save to GGUF\n",
        "    model.save_pretrained_gguf(\n",
        "        \"gemma-3-finetune\",\n",
        "        quantization_type = \"Q8_0\", # For now only Q8_0, BF16, F16 supported\n",
        "    )"
      ]
    },
    {
      "cell_type": "markdown",
      "metadata": {
        "id": "0CfqZW5rC9zv"
      },
      "source": [
        "Likewise, if you want to instead push to GGUF to your Hugging Face account, set `if False` to `if True` and add your Hugging Face token and upload location!"
      ]
    },
    {
      "cell_type": "code",
      "execution_count": null,
      "metadata": {
        "id": "SG6-dP0JC-G2"
      },
      "outputs": [],
      "source": [
        "if False: # Change to True to upload GGUF\n",
        "    model.push_to_hub_gguf(\n",
        "        \"gemma-3-finetune\",\n",
        "        quantization_type = \"Q8_0\", # Only Q8_0, BF16, F16 supported\n",
        "        repo_id = \"HF_ACCOUNT/gemma-finetune-gguf\",\n",
        "        token = \"hf_...\",\n",
        "    )"
      ]
    },
    {
      "cell_type": "markdown",
      "metadata": {
        "id": "-F2GVrPrDArH"
      },
      "source": [
        "Now, use the `gemma-3-finetune.gguf` file or `gemma-3-finetune-Q4_K_M.gguf` file in llama.cpp or a UI based system like Jan or Open WebUI. You can install Jan [here](https://github.com/janhq/jan) and Open WebUI [here](https://github.com/open-webui/open-webui)\n",
        "\n",
        "And we're done! If you have any questions on Unsloth, we have a [Discord](https://discord.gg/unsloth) channel! If you find any bugs or want to keep updated with the latest LLM stuff, or need help, join projects etc, feel free to join our Discord!\n",
        "\n",
        "Some other links:\n",
        "1. Train your own reasoning model - Llama GRPO notebook [Free Colab](https://colab.research.google.com/github/unslothai/notebooks/blob/main/nb/Llama3.1_(8B)-GRPO.ipynb)\n",
        "2. Saving finetunes to Ollama. [Free notebook](https://colab.research.google.com/github/unslothai/notebooks/blob/main/nb/Llama3_(8B)-Ollama.ipynb)\n",
        "3. Llama 3.2 Vision finetuning - Radiography use case. [Free Colab](https://colab.research.google.com/github/unslothai/notebooks/blob/main/nb/Llama3.2_(11B)-Vision.ipynb)\n",
        "6. See notebooks for DPO, ORPO, Continued pretraining, conversational finetuning and more on our [documentation](https://docs.unsloth.ai/get-started/unsloth-notebooks)!\n",
        "\n",
        "<div class=\"align-center\">\n",
        "  <a href=\"https://unsloth.ai\"><img src=\"https://github.com/unslothai/unsloth/raw/main/images/unsloth%20new%20logo.png\" width=\"115\"></a>\n",
        "  <a href=\"https://discord.gg/unsloth\"><img src=\"https://github.com/unslothai/unsloth/raw/main/images/Discord.png\" width=\"145\"></a>\n",
        "  <a href=\"https://docs.unsloth.ai/\"><img src=\"https://github.com/unslothai/unsloth/blob/main/images/documentation%20green%20button.png?raw=true\" width=\"125\"></a>\n",
        "\n",
        "  Join Discord if you need help + ⭐️ <i>Star us on <a href=\"https://github.com/unslothai/unsloth\">Github</a> </i> ⭐️\n",
        "</div>\n"
      ]
    }
  ],
  "metadata": {
    "accelerator": "GPU",
    "colab": {
      "gpuType": "T4",
      "provenance": [],
      "include_colab_link": true
    },
    "kernelspec": {
      "display_name": "unsloth_env",
      "language": "python",
      "name": "python3"
    },
    "language_info": {
      "name": "python",
      "version": "3.11.11"
    },
    "widgets": {
      "application/vnd.jupyter.widget-state+json": {
        "f668accd088643d187a4d9204eceaf3c": {
          "model_module": "@jupyter-widgets/controls",
          "model_name": "HBoxModel",
          "model_module_version": "1.5.0",
          "state": {
            "_dom_classes": [],
            "_model_module": "@jupyter-widgets/controls",
            "_model_module_version": "1.5.0",
            "_model_name": "HBoxModel",
            "_view_count": null,
            "_view_module": "@jupyter-widgets/controls",
            "_view_module_version": "1.5.0",
            "_view_name": "HBoxView",
            "box_style": "",
            "children": [
              "IPY_MODEL_67f7f6b7ee1a49d7b75304a3bd4f54dd",
              "IPY_MODEL_dfe1b0a76c3b4b1d9535fb6fdeb8a8d9",
              "IPY_MODEL_bc6a88cb2168442faf270f4b75fb2c24"
            ],
            "layout": "IPY_MODEL_1bdcf21f3fb947d5a16f879a8c128be5"
          }
        },
        "67f7f6b7ee1a49d7b75304a3bd4f54dd": {
          "model_module": "@jupyter-widgets/controls",
          "model_name": "HTMLModel",
          "model_module_version": "1.5.0",
          "state": {
            "_dom_classes": [],
            "_model_module": "@jupyter-widgets/controls",
            "_model_module_version": "1.5.0",
            "_model_name": "HTMLModel",
            "_view_count": null,
            "_view_module": "@jupyter-widgets/controls",
            "_view_module_version": "1.5.0",
            "_view_name": "HTMLView",
            "description": "",
            "description_tooltip": null,
            "layout": "IPY_MODEL_9ce3df68c64b41238bdf9a74b495a77e",
            "placeholder": "​",
            "style": "IPY_MODEL_946a8398dcfd4e738666ac5cc8a805b4",
            "value": "model.safetensors: 100%"
          }
        },
        "dfe1b0a76c3b4b1d9535fb6fdeb8a8d9": {
          "model_module": "@jupyter-widgets/controls",
          "model_name": "FloatProgressModel",
          "model_module_version": "1.5.0",
          "state": {
            "_dom_classes": [],
            "_model_module": "@jupyter-widgets/controls",
            "_model_module_version": "1.5.0",
            "_model_name": "FloatProgressModel",
            "_view_count": null,
            "_view_module": "@jupyter-widgets/controls",
            "_view_module_version": "1.5.0",
            "_view_name": "ProgressView",
            "bar_style": "success",
            "description": "",
            "description_tooltip": null,
            "layout": "IPY_MODEL_3d5ea95d19ca42dcb04f0fb428f6664a",
            "max": 1999811208,
            "min": 0,
            "orientation": "horizontal",
            "style": "IPY_MODEL_e85ebdcefc8b4fc88a07fb4c708c7dd1",
            "value": 1999811208
          }
        },
        "bc6a88cb2168442faf270f4b75fb2c24": {
          "model_module": "@jupyter-widgets/controls",
          "model_name": "HTMLModel",
          "model_module_version": "1.5.0",
          "state": {
            "_dom_classes": [],
            "_model_module": "@jupyter-widgets/controls",
            "_model_module_version": "1.5.0",
            "_model_name": "HTMLModel",
            "_view_count": null,
            "_view_module": "@jupyter-widgets/controls",
            "_view_module_version": "1.5.0",
            "_view_name": "HTMLView",
            "description": "",
            "description_tooltip": null,
            "layout": "IPY_MODEL_5e5df9b6d4344d4b8facb4a1de1277ff",
            "placeholder": "​",
            "style": "IPY_MODEL_49d9a148372f4062861b65e631ce1347",
            "value": " 2.00G/2.00G [00:22&lt;00:00, 189MB/s]"
          }
        },
        "1bdcf21f3fb947d5a16f879a8c128be5": {
          "model_module": "@jupyter-widgets/base",
          "model_name": "LayoutModel",
          "model_module_version": "1.2.0",
          "state": {
            "_model_module": "@jupyter-widgets/base",
            "_model_module_version": "1.2.0",
            "_model_name": "LayoutModel",
            "_view_count": null,
            "_view_module": "@jupyter-widgets/base",
            "_view_module_version": "1.2.0",
            "_view_name": "LayoutView",
            "align_content": null,
            "align_items": null,
            "align_self": null,
            "border": null,
            "bottom": null,
            "display": null,
            "flex": null,
            "flex_flow": null,
            "grid_area": null,
            "grid_auto_columns": null,
            "grid_auto_flow": null,
            "grid_auto_rows": null,
            "grid_column": null,
            "grid_gap": null,
            "grid_row": null,
            "grid_template_areas": null,
            "grid_template_columns": null,
            "grid_template_rows": null,
            "height": null,
            "justify_content": null,
            "justify_items": null,
            "left": null,
            "margin": null,
            "max_height": null,
            "max_width": null,
            "min_height": null,
            "min_width": null,
            "object_fit": null,
            "object_position": null,
            "order": null,
            "overflow": null,
            "overflow_x": null,
            "overflow_y": null,
            "padding": null,
            "right": null,
            "top": null,
            "visibility": null,
            "width": null
          }
        },
        "9ce3df68c64b41238bdf9a74b495a77e": {
          "model_module": "@jupyter-widgets/base",
          "model_name": "LayoutModel",
          "model_module_version": "1.2.0",
          "state": {
            "_model_module": "@jupyter-widgets/base",
            "_model_module_version": "1.2.0",
            "_model_name": "LayoutModel",
            "_view_count": null,
            "_view_module": "@jupyter-widgets/base",
            "_view_module_version": "1.2.0",
            "_view_name": "LayoutView",
            "align_content": null,
            "align_items": null,
            "align_self": null,
            "border": null,
            "bottom": null,
            "display": null,
            "flex": null,
            "flex_flow": null,
            "grid_area": null,
            "grid_auto_columns": null,
            "grid_auto_flow": null,
            "grid_auto_rows": null,
            "grid_column": null,
            "grid_gap": null,
            "grid_row": null,
            "grid_template_areas": null,
            "grid_template_columns": null,
            "grid_template_rows": null,
            "height": null,
            "justify_content": null,
            "justify_items": null,
            "left": null,
            "margin": null,
            "max_height": null,
            "max_width": null,
            "min_height": null,
            "min_width": null,
            "object_fit": null,
            "object_position": null,
            "order": null,
            "overflow": null,
            "overflow_x": null,
            "overflow_y": null,
            "padding": null,
            "right": null,
            "top": null,
            "visibility": null,
            "width": null
          }
        },
        "946a8398dcfd4e738666ac5cc8a805b4": {
          "model_module": "@jupyter-widgets/controls",
          "model_name": "DescriptionStyleModel",
          "model_module_version": "1.5.0",
          "state": {
            "_model_module": "@jupyter-widgets/controls",
            "_model_module_version": "1.5.0",
            "_model_name": "DescriptionStyleModel",
            "_view_count": null,
            "_view_module": "@jupyter-widgets/base",
            "_view_module_version": "1.2.0",
            "_view_name": "StyleView",
            "description_width": ""
          }
        },
        "3d5ea95d19ca42dcb04f0fb428f6664a": {
          "model_module": "@jupyter-widgets/base",
          "model_name": "LayoutModel",
          "model_module_version": "1.2.0",
          "state": {
            "_model_module": "@jupyter-widgets/base",
            "_model_module_version": "1.2.0",
            "_model_name": "LayoutModel",
            "_view_count": null,
            "_view_module": "@jupyter-widgets/base",
            "_view_module_version": "1.2.0",
            "_view_name": "LayoutView",
            "align_content": null,
            "align_items": null,
            "align_self": null,
            "border": null,
            "bottom": null,
            "display": null,
            "flex": null,
            "flex_flow": null,
            "grid_area": null,
            "grid_auto_columns": null,
            "grid_auto_flow": null,
            "grid_auto_rows": null,
            "grid_column": null,
            "grid_gap": null,
            "grid_row": null,
            "grid_template_areas": null,
            "grid_template_columns": null,
            "grid_template_rows": null,
            "height": null,
            "justify_content": null,
            "justify_items": null,
            "left": null,
            "margin": null,
            "max_height": null,
            "max_width": null,
            "min_height": null,
            "min_width": null,
            "object_fit": null,
            "object_position": null,
            "order": null,
            "overflow": null,
            "overflow_x": null,
            "overflow_y": null,
            "padding": null,
            "right": null,
            "top": null,
            "visibility": null,
            "width": null
          }
        },
        "e85ebdcefc8b4fc88a07fb4c708c7dd1": {
          "model_module": "@jupyter-widgets/controls",
          "model_name": "ProgressStyleModel",
          "model_module_version": "1.5.0",
          "state": {
            "_model_module": "@jupyter-widgets/controls",
            "_model_module_version": "1.5.0",
            "_model_name": "ProgressStyleModel",
            "_view_count": null,
            "_view_module": "@jupyter-widgets/base",
            "_view_module_version": "1.2.0",
            "_view_name": "StyleView",
            "bar_color": null,
            "description_width": ""
          }
        },
        "5e5df9b6d4344d4b8facb4a1de1277ff": {
          "model_module": "@jupyter-widgets/base",
          "model_name": "LayoutModel",
          "model_module_version": "1.2.0",
          "state": {
            "_model_module": "@jupyter-widgets/base",
            "_model_module_version": "1.2.0",
            "_model_name": "LayoutModel",
            "_view_count": null,
            "_view_module": "@jupyter-widgets/base",
            "_view_module_version": "1.2.0",
            "_view_name": "LayoutView",
            "align_content": null,
            "align_items": null,
            "align_self": null,
            "border": null,
            "bottom": null,
            "display": null,
            "flex": null,
            "flex_flow": null,
            "grid_area": null,
            "grid_auto_columns": null,
            "grid_auto_flow": null,
            "grid_auto_rows": null,
            "grid_column": null,
            "grid_gap": null,
            "grid_row": null,
            "grid_template_areas": null,
            "grid_template_columns": null,
            "grid_template_rows": null,
            "height": null,
            "justify_content": null,
            "justify_items": null,
            "left": null,
            "margin": null,
            "max_height": null,
            "max_width": null,
            "min_height": null,
            "min_width": null,
            "object_fit": null,
            "object_position": null,
            "order": null,
            "overflow": null,
            "overflow_x": null,
            "overflow_y": null,
            "padding": null,
            "right": null,
            "top": null,
            "visibility": null,
            "width": null
          }
        },
        "49d9a148372f4062861b65e631ce1347": {
          "model_module": "@jupyter-widgets/controls",
          "model_name": "DescriptionStyleModel",
          "model_module_version": "1.5.0",
          "state": {
            "_model_module": "@jupyter-widgets/controls",
            "_model_module_version": "1.5.0",
            "_model_name": "DescriptionStyleModel",
            "_view_count": null,
            "_view_module": "@jupyter-widgets/base",
            "_view_module_version": "1.2.0",
            "_view_name": "StyleView",
            "description_width": ""
          }
        },
        "41cb5d3208b1408c9081ef254326d135": {
          "model_module": "@jupyter-widgets/controls",
          "model_name": "HBoxModel",
          "model_module_version": "1.5.0",
          "state": {
            "_dom_classes": [],
            "_model_module": "@jupyter-widgets/controls",
            "_model_module_version": "1.5.0",
            "_model_name": "HBoxModel",
            "_view_count": null,
            "_view_module": "@jupyter-widgets/controls",
            "_view_module_version": "1.5.0",
            "_view_name": "HBoxView",
            "box_style": "",
            "children": [
              "IPY_MODEL_1f797a96bb41424bb601f9d234651209",
              "IPY_MODEL_41cce477df3543f7b88dc149d07a75c5",
              "IPY_MODEL_da8a3593a65f4a01a862b81bd2a7ca0b"
            ],
            "layout": "IPY_MODEL_30b9afb0e63b4e49b722b94e263852fb"
          }
        },
        "1f797a96bb41424bb601f9d234651209": {
          "model_module": "@jupyter-widgets/controls",
          "model_name": "HTMLModel",
          "model_module_version": "1.5.0",
          "state": {
            "_dom_classes": [],
            "_model_module": "@jupyter-widgets/controls",
            "_model_module_version": "1.5.0",
            "_model_name": "HTMLModel",
            "_view_count": null,
            "_view_module": "@jupyter-widgets/controls",
            "_view_module_version": "1.5.0",
            "_view_name": "HTMLView",
            "description": "",
            "description_tooltip": null,
            "layout": "IPY_MODEL_6f441a5cdc1546e6a0de6a0878d02550",
            "placeholder": "​",
            "style": "IPY_MODEL_c2bf741843c3422b8368bc653a8e8d1e",
            "value": "generation_config.json: 100%"
          }
        },
        "41cce477df3543f7b88dc149d07a75c5": {
          "model_module": "@jupyter-widgets/controls",
          "model_name": "FloatProgressModel",
          "model_module_version": "1.5.0",
          "state": {
            "_dom_classes": [],
            "_model_module": "@jupyter-widgets/controls",
            "_model_module_version": "1.5.0",
            "_model_name": "FloatProgressModel",
            "_view_count": null,
            "_view_module": "@jupyter-widgets/controls",
            "_view_module_version": "1.5.0",
            "_view_name": "ProgressView",
            "bar_style": "success",
            "description": "",
            "description_tooltip": null,
            "layout": "IPY_MODEL_9f393c4a25b84b3b933756d6d8076812",
            "max": 233,
            "min": 0,
            "orientation": "horizontal",
            "style": "IPY_MODEL_712de5ec740841fb9799a37660b08e60",
            "value": 233
          }
        },
        "da8a3593a65f4a01a862b81bd2a7ca0b": {
          "model_module": "@jupyter-widgets/controls",
          "model_name": "HTMLModel",
          "model_module_version": "1.5.0",
          "state": {
            "_dom_classes": [],
            "_model_module": "@jupyter-widgets/controls",
            "_model_module_version": "1.5.0",
            "_model_name": "HTMLModel",
            "_view_count": null,
            "_view_module": "@jupyter-widgets/controls",
            "_view_module_version": "1.5.0",
            "_view_name": "HTMLView",
            "description": "",
            "description_tooltip": null,
            "layout": "IPY_MODEL_0afe4e6659b6466e9175c565ae2068eb",
            "placeholder": "​",
            "style": "IPY_MODEL_be55a67bf1e04ffc878e961fde249d74",
            "value": " 233/233 [00:00&lt;00:00, 11.3kB/s]"
          }
        },
        "30b9afb0e63b4e49b722b94e263852fb": {
          "model_module": "@jupyter-widgets/base",
          "model_name": "LayoutModel",
          "model_module_version": "1.2.0",
          "state": {
            "_model_module": "@jupyter-widgets/base",
            "_model_module_version": "1.2.0",
            "_model_name": "LayoutModel",
            "_view_count": null,
            "_view_module": "@jupyter-widgets/base",
            "_view_module_version": "1.2.0",
            "_view_name": "LayoutView",
            "align_content": null,
            "align_items": null,
            "align_self": null,
            "border": null,
            "bottom": null,
            "display": null,
            "flex": null,
            "flex_flow": null,
            "grid_area": null,
            "grid_auto_columns": null,
            "grid_auto_flow": null,
            "grid_auto_rows": null,
            "grid_column": null,
            "grid_gap": null,
            "grid_row": null,
            "grid_template_areas": null,
            "grid_template_columns": null,
            "grid_template_rows": null,
            "height": null,
            "justify_content": null,
            "justify_items": null,
            "left": null,
            "margin": null,
            "max_height": null,
            "max_width": null,
            "min_height": null,
            "min_width": null,
            "object_fit": null,
            "object_position": null,
            "order": null,
            "overflow": null,
            "overflow_x": null,
            "overflow_y": null,
            "padding": null,
            "right": null,
            "top": null,
            "visibility": null,
            "width": null
          }
        },
        "6f441a5cdc1546e6a0de6a0878d02550": {
          "model_module": "@jupyter-widgets/base",
          "model_name": "LayoutModel",
          "model_module_version": "1.2.0",
          "state": {
            "_model_module": "@jupyter-widgets/base",
            "_model_module_version": "1.2.0",
            "_model_name": "LayoutModel",
            "_view_count": null,
            "_view_module": "@jupyter-widgets/base",
            "_view_module_version": "1.2.0",
            "_view_name": "LayoutView",
            "align_content": null,
            "align_items": null,
            "align_self": null,
            "border": null,
            "bottom": null,
            "display": null,
            "flex": null,
            "flex_flow": null,
            "grid_area": null,
            "grid_auto_columns": null,
            "grid_auto_flow": null,
            "grid_auto_rows": null,
            "grid_column": null,
            "grid_gap": null,
            "grid_row": null,
            "grid_template_areas": null,
            "grid_template_columns": null,
            "grid_template_rows": null,
            "height": null,
            "justify_content": null,
            "justify_items": null,
            "left": null,
            "margin": null,
            "max_height": null,
            "max_width": null,
            "min_height": null,
            "min_width": null,
            "object_fit": null,
            "object_position": null,
            "order": null,
            "overflow": null,
            "overflow_x": null,
            "overflow_y": null,
            "padding": null,
            "right": null,
            "top": null,
            "visibility": null,
            "width": null
          }
        },
        "c2bf741843c3422b8368bc653a8e8d1e": {
          "model_module": "@jupyter-widgets/controls",
          "model_name": "DescriptionStyleModel",
          "model_module_version": "1.5.0",
          "state": {
            "_model_module": "@jupyter-widgets/controls",
            "_model_module_version": "1.5.0",
            "_model_name": "DescriptionStyleModel",
            "_view_count": null,
            "_view_module": "@jupyter-widgets/base",
            "_view_module_version": "1.2.0",
            "_view_name": "StyleView",
            "description_width": ""
          }
        },
        "9f393c4a25b84b3b933756d6d8076812": {
          "model_module": "@jupyter-widgets/base",
          "model_name": "LayoutModel",
          "model_module_version": "1.2.0",
          "state": {
            "_model_module": "@jupyter-widgets/base",
            "_model_module_version": "1.2.0",
            "_model_name": "LayoutModel",
            "_view_count": null,
            "_view_module": "@jupyter-widgets/base",
            "_view_module_version": "1.2.0",
            "_view_name": "LayoutView",
            "align_content": null,
            "align_items": null,
            "align_self": null,
            "border": null,
            "bottom": null,
            "display": null,
            "flex": null,
            "flex_flow": null,
            "grid_area": null,
            "grid_auto_columns": null,
            "grid_auto_flow": null,
            "grid_auto_rows": null,
            "grid_column": null,
            "grid_gap": null,
            "grid_row": null,
            "grid_template_areas": null,
            "grid_template_columns": null,
            "grid_template_rows": null,
            "height": null,
            "justify_content": null,
            "justify_items": null,
            "left": null,
            "margin": null,
            "max_height": null,
            "max_width": null,
            "min_height": null,
            "min_width": null,
            "object_fit": null,
            "object_position": null,
            "order": null,
            "overflow": null,
            "overflow_x": null,
            "overflow_y": null,
            "padding": null,
            "right": null,
            "top": null,
            "visibility": null,
            "width": null
          }
        },
        "712de5ec740841fb9799a37660b08e60": {
          "model_module": "@jupyter-widgets/controls",
          "model_name": "ProgressStyleModel",
          "model_module_version": "1.5.0",
          "state": {
            "_model_module": "@jupyter-widgets/controls",
            "_model_module_version": "1.5.0",
            "_model_name": "ProgressStyleModel",
            "_view_count": null,
            "_view_module": "@jupyter-widgets/base",
            "_view_module_version": "1.2.0",
            "_view_name": "StyleView",
            "bar_color": null,
            "description_width": ""
          }
        },
        "0afe4e6659b6466e9175c565ae2068eb": {
          "model_module": "@jupyter-widgets/base",
          "model_name": "LayoutModel",
          "model_module_version": "1.2.0",
          "state": {
            "_model_module": "@jupyter-widgets/base",
            "_model_module_version": "1.2.0",
            "_model_name": "LayoutModel",
            "_view_count": null,
            "_view_module": "@jupyter-widgets/base",
            "_view_module_version": "1.2.0",
            "_view_name": "LayoutView",
            "align_content": null,
            "align_items": null,
            "align_self": null,
            "border": null,
            "bottom": null,
            "display": null,
            "flex": null,
            "flex_flow": null,
            "grid_area": null,
            "grid_auto_columns": null,
            "grid_auto_flow": null,
            "grid_auto_rows": null,
            "grid_column": null,
            "grid_gap": null,
            "grid_row": null,
            "grid_template_areas": null,
            "grid_template_columns": null,
            "grid_template_rows": null,
            "height": null,
            "justify_content": null,
            "justify_items": null,
            "left": null,
            "margin": null,
            "max_height": null,
            "max_width": null,
            "min_height": null,
            "min_width": null,
            "object_fit": null,
            "object_position": null,
            "order": null,
            "overflow": null,
            "overflow_x": null,
            "overflow_y": null,
            "padding": null,
            "right": null,
            "top": null,
            "visibility": null,
            "width": null
          }
        },
        "be55a67bf1e04ffc878e961fde249d74": {
          "model_module": "@jupyter-widgets/controls",
          "model_name": "DescriptionStyleModel",
          "model_module_version": "1.5.0",
          "state": {
            "_model_module": "@jupyter-widgets/controls",
            "_model_module_version": "1.5.0",
            "_model_name": "DescriptionStyleModel",
            "_view_count": null,
            "_view_module": "@jupyter-widgets/base",
            "_view_module_version": "1.2.0",
            "_view_name": "StyleView",
            "description_width": ""
          }
        },
        "af07c3bbc1854e92a94396a446128248": {
          "model_module": "@jupyter-widgets/controls",
          "model_name": "HBoxModel",
          "model_module_version": "1.5.0",
          "state": {
            "_dom_classes": [],
            "_model_module": "@jupyter-widgets/controls",
            "_model_module_version": "1.5.0",
            "_model_name": "HBoxModel",
            "_view_count": null,
            "_view_module": "@jupyter-widgets/controls",
            "_view_module_version": "1.5.0",
            "_view_name": "HBoxView",
            "box_style": "",
            "children": [
              "IPY_MODEL_ce6376dc4ed342c1a891cd336aec3567",
              "IPY_MODEL_7a4bc0de1ec246459e5ccfa6eb2265b5",
              "IPY_MODEL_98dafa042ff64cd8a228f6f1fbe86d00"
            ],
            "layout": "IPY_MODEL_312ab6e53ac84869a7cd9b445521680c"
          }
        },
        "ce6376dc4ed342c1a891cd336aec3567": {
          "model_module": "@jupyter-widgets/controls",
          "model_name": "HTMLModel",
          "model_module_version": "1.5.0",
          "state": {
            "_dom_classes": [],
            "_model_module": "@jupyter-widgets/controls",
            "_model_module_version": "1.5.0",
            "_model_name": "HTMLModel",
            "_view_count": null,
            "_view_module": "@jupyter-widgets/controls",
            "_view_module_version": "1.5.0",
            "_view_name": "HTMLView",
            "description": "",
            "description_tooltip": null,
            "layout": "IPY_MODEL_0d7ab150eced489ea4e542ae64b970ae",
            "placeholder": "​",
            "style": "IPY_MODEL_966df2bdfb444c9896c30f31f91dab80",
            "value": "tokenizer_config.json: 100%"
          }
        },
        "7a4bc0de1ec246459e5ccfa6eb2265b5": {
          "model_module": "@jupyter-widgets/controls",
          "model_name": "FloatProgressModel",
          "model_module_version": "1.5.0",
          "state": {
            "_dom_classes": [],
            "_model_module": "@jupyter-widgets/controls",
            "_model_module_version": "1.5.0",
            "_model_name": "FloatProgressModel",
            "_view_count": null,
            "_view_module": "@jupyter-widgets/controls",
            "_view_module_version": "1.5.0",
            "_view_name": "ProgressView",
            "bar_style": "success",
            "description": "",
            "description_tooltip": null,
            "layout": "IPY_MODEL_2d8504b81868403d8a8d95afa49b894f",
            "max": 1158491,
            "min": 0,
            "orientation": "horizontal",
            "style": "IPY_MODEL_2dde3c68b001425c9ba17d536e95a15a",
            "value": 1158491
          }
        },
        "98dafa042ff64cd8a228f6f1fbe86d00": {
          "model_module": "@jupyter-widgets/controls",
          "model_name": "HTMLModel",
          "model_module_version": "1.5.0",
          "state": {
            "_dom_classes": [],
            "_model_module": "@jupyter-widgets/controls",
            "_model_module_version": "1.5.0",
            "_model_name": "HTMLModel",
            "_view_count": null,
            "_view_module": "@jupyter-widgets/controls",
            "_view_module_version": "1.5.0",
            "_view_name": "HTMLView",
            "description": "",
            "description_tooltip": null,
            "layout": "IPY_MODEL_bf0f0deeee864a8984d8d8f5bb59b2be",
            "placeholder": "​",
            "style": "IPY_MODEL_90d76b01dcfd4e2f829375ebc3f98e4c",
            "value": " 1.16M/1.16M [00:00&lt;00:00, 28.6MB/s]"
          }
        },
        "312ab6e53ac84869a7cd9b445521680c": {
          "model_module": "@jupyter-widgets/base",
          "model_name": "LayoutModel",
          "model_module_version": "1.2.0",
          "state": {
            "_model_module": "@jupyter-widgets/base",
            "_model_module_version": "1.2.0",
            "_model_name": "LayoutModel",
            "_view_count": null,
            "_view_module": "@jupyter-widgets/base",
            "_view_module_version": "1.2.0",
            "_view_name": "LayoutView",
            "align_content": null,
            "align_items": null,
            "align_self": null,
            "border": null,
            "bottom": null,
            "display": null,
            "flex": null,
            "flex_flow": null,
            "grid_area": null,
            "grid_auto_columns": null,
            "grid_auto_flow": null,
            "grid_auto_rows": null,
            "grid_column": null,
            "grid_gap": null,
            "grid_row": null,
            "grid_template_areas": null,
            "grid_template_columns": null,
            "grid_template_rows": null,
            "height": null,
            "justify_content": null,
            "justify_items": null,
            "left": null,
            "margin": null,
            "max_height": null,
            "max_width": null,
            "min_height": null,
            "min_width": null,
            "object_fit": null,
            "object_position": null,
            "order": null,
            "overflow": null,
            "overflow_x": null,
            "overflow_y": null,
            "padding": null,
            "right": null,
            "top": null,
            "visibility": null,
            "width": null
          }
        },
        "0d7ab150eced489ea4e542ae64b970ae": {
          "model_module": "@jupyter-widgets/base",
          "model_name": "LayoutModel",
          "model_module_version": "1.2.0",
          "state": {
            "_model_module": "@jupyter-widgets/base",
            "_model_module_version": "1.2.0",
            "_model_name": "LayoutModel",
            "_view_count": null,
            "_view_module": "@jupyter-widgets/base",
            "_view_module_version": "1.2.0",
            "_view_name": "LayoutView",
            "align_content": null,
            "align_items": null,
            "align_self": null,
            "border": null,
            "bottom": null,
            "display": null,
            "flex": null,
            "flex_flow": null,
            "grid_area": null,
            "grid_auto_columns": null,
            "grid_auto_flow": null,
            "grid_auto_rows": null,
            "grid_column": null,
            "grid_gap": null,
            "grid_row": null,
            "grid_template_areas": null,
            "grid_template_columns": null,
            "grid_template_rows": null,
            "height": null,
            "justify_content": null,
            "justify_items": null,
            "left": null,
            "margin": null,
            "max_height": null,
            "max_width": null,
            "min_height": null,
            "min_width": null,
            "object_fit": null,
            "object_position": null,
            "order": null,
            "overflow": null,
            "overflow_x": null,
            "overflow_y": null,
            "padding": null,
            "right": null,
            "top": null,
            "visibility": null,
            "width": null
          }
        },
        "966df2bdfb444c9896c30f31f91dab80": {
          "model_module": "@jupyter-widgets/controls",
          "model_name": "DescriptionStyleModel",
          "model_module_version": "1.5.0",
          "state": {
            "_model_module": "@jupyter-widgets/controls",
            "_model_module_version": "1.5.0",
            "_model_name": "DescriptionStyleModel",
            "_view_count": null,
            "_view_module": "@jupyter-widgets/base",
            "_view_module_version": "1.2.0",
            "_view_name": "StyleView",
            "description_width": ""
          }
        },
        "2d8504b81868403d8a8d95afa49b894f": {
          "model_module": "@jupyter-widgets/base",
          "model_name": "LayoutModel",
          "model_module_version": "1.2.0",
          "state": {
            "_model_module": "@jupyter-widgets/base",
            "_model_module_version": "1.2.0",
            "_model_name": "LayoutModel",
            "_view_count": null,
            "_view_module": "@jupyter-widgets/base",
            "_view_module_version": "1.2.0",
            "_view_name": "LayoutView",
            "align_content": null,
            "align_items": null,
            "align_self": null,
            "border": null,
            "bottom": null,
            "display": null,
            "flex": null,
            "flex_flow": null,
            "grid_area": null,
            "grid_auto_columns": null,
            "grid_auto_flow": null,
            "grid_auto_rows": null,
            "grid_column": null,
            "grid_gap": null,
            "grid_row": null,
            "grid_template_areas": null,
            "grid_template_columns": null,
            "grid_template_rows": null,
            "height": null,
            "justify_content": null,
            "justify_items": null,
            "left": null,
            "margin": null,
            "max_height": null,
            "max_width": null,
            "min_height": null,
            "min_width": null,
            "object_fit": null,
            "object_position": null,
            "order": null,
            "overflow": null,
            "overflow_x": null,
            "overflow_y": null,
            "padding": null,
            "right": null,
            "top": null,
            "visibility": null,
            "width": null
          }
        },
        "2dde3c68b001425c9ba17d536e95a15a": {
          "model_module": "@jupyter-widgets/controls",
          "model_name": "ProgressStyleModel",
          "model_module_version": "1.5.0",
          "state": {
            "_model_module": "@jupyter-widgets/controls",
            "_model_module_version": "1.5.0",
            "_model_name": "ProgressStyleModel",
            "_view_count": null,
            "_view_module": "@jupyter-widgets/base",
            "_view_module_version": "1.2.0",
            "_view_name": "StyleView",
            "bar_color": null,
            "description_width": ""
          }
        },
        "bf0f0deeee864a8984d8d8f5bb59b2be": {
          "model_module": "@jupyter-widgets/base",
          "model_name": "LayoutModel",
          "model_module_version": "1.2.0",
          "state": {
            "_model_module": "@jupyter-widgets/base",
            "_model_module_version": "1.2.0",
            "_model_name": "LayoutModel",
            "_view_count": null,
            "_view_module": "@jupyter-widgets/base",
            "_view_module_version": "1.2.0",
            "_view_name": "LayoutView",
            "align_content": null,
            "align_items": null,
            "align_self": null,
            "border": null,
            "bottom": null,
            "display": null,
            "flex": null,
            "flex_flow": null,
            "grid_area": null,
            "grid_auto_columns": null,
            "grid_auto_flow": null,
            "grid_auto_rows": null,
            "grid_column": null,
            "grid_gap": null,
            "grid_row": null,
            "grid_template_areas": null,
            "grid_template_columns": null,
            "grid_template_rows": null,
            "height": null,
            "justify_content": null,
            "justify_items": null,
            "left": null,
            "margin": null,
            "max_height": null,
            "max_width": null,
            "min_height": null,
            "min_width": null,
            "object_fit": null,
            "object_position": null,
            "order": null,
            "overflow": null,
            "overflow_x": null,
            "overflow_y": null,
            "padding": null,
            "right": null,
            "top": null,
            "visibility": null,
            "width": null
          }
        },
        "90d76b01dcfd4e2f829375ebc3f98e4c": {
          "model_module": "@jupyter-widgets/controls",
          "model_name": "DescriptionStyleModel",
          "model_module_version": "1.5.0",
          "state": {
            "_model_module": "@jupyter-widgets/controls",
            "_model_module_version": "1.5.0",
            "_model_name": "DescriptionStyleModel",
            "_view_count": null,
            "_view_module": "@jupyter-widgets/base",
            "_view_module_version": "1.2.0",
            "_view_name": "StyleView",
            "description_width": ""
          }
        },
        "bc1b1e371c36403890fe3f42b83380f0": {
          "model_module": "@jupyter-widgets/controls",
          "model_name": "HBoxModel",
          "model_module_version": "1.5.0",
          "state": {
            "_dom_classes": [],
            "_model_module": "@jupyter-widgets/controls",
            "_model_module_version": "1.5.0",
            "_model_name": "HBoxModel",
            "_view_count": null,
            "_view_module": "@jupyter-widgets/controls",
            "_view_module_version": "1.5.0",
            "_view_name": "HBoxView",
            "box_style": "",
            "children": [
              "IPY_MODEL_b24711213af44f9c9ea991c2680a7830",
              "IPY_MODEL_a46a0af4b8054d6c97e63dd9aef10fd3",
              "IPY_MODEL_992f7053055c4427b6e99d851a92fa17"
            ],
            "layout": "IPY_MODEL_76f3e74dc4ef4254a7c35bded6523dc7"
          }
        },
        "b24711213af44f9c9ea991c2680a7830": {
          "model_module": "@jupyter-widgets/controls",
          "model_name": "HTMLModel",
          "model_module_version": "1.5.0",
          "state": {
            "_dom_classes": [],
            "_model_module": "@jupyter-widgets/controls",
            "_model_module_version": "1.5.0",
            "_model_name": "HTMLModel",
            "_view_count": null,
            "_view_module": "@jupyter-widgets/controls",
            "_view_module_version": "1.5.0",
            "_view_name": "HTMLView",
            "description": "",
            "description_tooltip": null,
            "layout": "IPY_MODEL_5c7e2e5b222e480ea8cabee79c5bd127",
            "placeholder": "​",
            "style": "IPY_MODEL_7f4eabc4914a4508a9cf3f80d2bd79e8",
            "value": "tokenizer.model: 100%"
          }
        },
        "a46a0af4b8054d6c97e63dd9aef10fd3": {
          "model_module": "@jupyter-widgets/controls",
          "model_name": "FloatProgressModel",
          "model_module_version": "1.5.0",
          "state": {
            "_dom_classes": [],
            "_model_module": "@jupyter-widgets/controls",
            "_model_module_version": "1.5.0",
            "_model_name": "FloatProgressModel",
            "_view_count": null,
            "_view_module": "@jupyter-widgets/controls",
            "_view_module_version": "1.5.0",
            "_view_name": "ProgressView",
            "bar_style": "success",
            "description": "",
            "description_tooltip": null,
            "layout": "IPY_MODEL_0f4f27f2d85541d5b3dbe8cab8ca9ccc",
            "max": 4689074,
            "min": 0,
            "orientation": "horizontal",
            "style": "IPY_MODEL_65436957275b48308a8eb7fc3a0bb17e",
            "value": 4689074
          }
        },
        "992f7053055c4427b6e99d851a92fa17": {
          "model_module": "@jupyter-widgets/controls",
          "model_name": "HTMLModel",
          "model_module_version": "1.5.0",
          "state": {
            "_dom_classes": [],
            "_model_module": "@jupyter-widgets/controls",
            "_model_module_version": "1.5.0",
            "_model_name": "HTMLModel",
            "_view_count": null,
            "_view_module": "@jupyter-widgets/controls",
            "_view_module_version": "1.5.0",
            "_view_name": "HTMLView",
            "description": "",
            "description_tooltip": null,
            "layout": "IPY_MODEL_1f5d1bb2274444998d48c4b71f507154",
            "placeholder": "​",
            "style": "IPY_MODEL_2b636de451b44b67ab76be9bdf52aa20",
            "value": " 4.69M/4.69M [00:00&lt;00:00, 10.6MB/s]"
          }
        },
        "76f3e74dc4ef4254a7c35bded6523dc7": {
          "model_module": "@jupyter-widgets/base",
          "model_name": "LayoutModel",
          "model_module_version": "1.2.0",
          "state": {
            "_model_module": "@jupyter-widgets/base",
            "_model_module_version": "1.2.0",
            "_model_name": "LayoutModel",
            "_view_count": null,
            "_view_module": "@jupyter-widgets/base",
            "_view_module_version": "1.2.0",
            "_view_name": "LayoutView",
            "align_content": null,
            "align_items": null,
            "align_self": null,
            "border": null,
            "bottom": null,
            "display": null,
            "flex": null,
            "flex_flow": null,
            "grid_area": null,
            "grid_auto_columns": null,
            "grid_auto_flow": null,
            "grid_auto_rows": null,
            "grid_column": null,
            "grid_gap": null,
            "grid_row": null,
            "grid_template_areas": null,
            "grid_template_columns": null,
            "grid_template_rows": null,
            "height": null,
            "justify_content": null,
            "justify_items": null,
            "left": null,
            "margin": null,
            "max_height": null,
            "max_width": null,
            "min_height": null,
            "min_width": null,
            "object_fit": null,
            "object_position": null,
            "order": null,
            "overflow": null,
            "overflow_x": null,
            "overflow_y": null,
            "padding": null,
            "right": null,
            "top": null,
            "visibility": null,
            "width": null
          }
        },
        "5c7e2e5b222e480ea8cabee79c5bd127": {
          "model_module": "@jupyter-widgets/base",
          "model_name": "LayoutModel",
          "model_module_version": "1.2.0",
          "state": {
            "_model_module": "@jupyter-widgets/base",
            "_model_module_version": "1.2.0",
            "_model_name": "LayoutModel",
            "_view_count": null,
            "_view_module": "@jupyter-widgets/base",
            "_view_module_version": "1.2.0",
            "_view_name": "LayoutView",
            "align_content": null,
            "align_items": null,
            "align_self": null,
            "border": null,
            "bottom": null,
            "display": null,
            "flex": null,
            "flex_flow": null,
            "grid_area": null,
            "grid_auto_columns": null,
            "grid_auto_flow": null,
            "grid_auto_rows": null,
            "grid_column": null,
            "grid_gap": null,
            "grid_row": null,
            "grid_template_areas": null,
            "grid_template_columns": null,
            "grid_template_rows": null,
            "height": null,
            "justify_content": null,
            "justify_items": null,
            "left": null,
            "margin": null,
            "max_height": null,
            "max_width": null,
            "min_height": null,
            "min_width": null,
            "object_fit": null,
            "object_position": null,
            "order": null,
            "overflow": null,
            "overflow_x": null,
            "overflow_y": null,
            "padding": null,
            "right": null,
            "top": null,
            "visibility": null,
            "width": null
          }
        },
        "7f4eabc4914a4508a9cf3f80d2bd79e8": {
          "model_module": "@jupyter-widgets/controls",
          "model_name": "DescriptionStyleModel",
          "model_module_version": "1.5.0",
          "state": {
            "_model_module": "@jupyter-widgets/controls",
            "_model_module_version": "1.5.0",
            "_model_name": "DescriptionStyleModel",
            "_view_count": null,
            "_view_module": "@jupyter-widgets/base",
            "_view_module_version": "1.2.0",
            "_view_name": "StyleView",
            "description_width": ""
          }
        },
        "0f4f27f2d85541d5b3dbe8cab8ca9ccc": {
          "model_module": "@jupyter-widgets/base",
          "model_name": "LayoutModel",
          "model_module_version": "1.2.0",
          "state": {
            "_model_module": "@jupyter-widgets/base",
            "_model_module_version": "1.2.0",
            "_model_name": "LayoutModel",
            "_view_count": null,
            "_view_module": "@jupyter-widgets/base",
            "_view_module_version": "1.2.0",
            "_view_name": "LayoutView",
            "align_content": null,
            "align_items": null,
            "align_self": null,
            "border": null,
            "bottom": null,
            "display": null,
            "flex": null,
            "flex_flow": null,
            "grid_area": null,
            "grid_auto_columns": null,
            "grid_auto_flow": null,
            "grid_auto_rows": null,
            "grid_column": null,
            "grid_gap": null,
            "grid_row": null,
            "grid_template_areas": null,
            "grid_template_columns": null,
            "grid_template_rows": null,
            "height": null,
            "justify_content": null,
            "justify_items": null,
            "left": null,
            "margin": null,
            "max_height": null,
            "max_width": null,
            "min_height": null,
            "min_width": null,
            "object_fit": null,
            "object_position": null,
            "order": null,
            "overflow": null,
            "overflow_x": null,
            "overflow_y": null,
            "padding": null,
            "right": null,
            "top": null,
            "visibility": null,
            "width": null
          }
        },
        "65436957275b48308a8eb7fc3a0bb17e": {
          "model_module": "@jupyter-widgets/controls",
          "model_name": "ProgressStyleModel",
          "model_module_version": "1.5.0",
          "state": {
            "_model_module": "@jupyter-widgets/controls",
            "_model_module_version": "1.5.0",
            "_model_name": "ProgressStyleModel",
            "_view_count": null,
            "_view_module": "@jupyter-widgets/base",
            "_view_module_version": "1.2.0",
            "_view_name": "StyleView",
            "bar_color": null,
            "description_width": ""
          }
        },
        "1f5d1bb2274444998d48c4b71f507154": {
          "model_module": "@jupyter-widgets/base",
          "model_name": "LayoutModel",
          "model_module_version": "1.2.0",
          "state": {
            "_model_module": "@jupyter-widgets/base",
            "_model_module_version": "1.2.0",
            "_model_name": "LayoutModel",
            "_view_count": null,
            "_view_module": "@jupyter-widgets/base",
            "_view_module_version": "1.2.0",
            "_view_name": "LayoutView",
            "align_content": null,
            "align_items": null,
            "align_self": null,
            "border": null,
            "bottom": null,
            "display": null,
            "flex": null,
            "flex_flow": null,
            "grid_area": null,
            "grid_auto_columns": null,
            "grid_auto_flow": null,
            "grid_auto_rows": null,
            "grid_column": null,
            "grid_gap": null,
            "grid_row": null,
            "grid_template_areas": null,
            "grid_template_columns": null,
            "grid_template_rows": null,
            "height": null,
            "justify_content": null,
            "justify_items": null,
            "left": null,
            "margin": null,
            "max_height": null,
            "max_width": null,
            "min_height": null,
            "min_width": null,
            "object_fit": null,
            "object_position": null,
            "order": null,
            "overflow": null,
            "overflow_x": null,
            "overflow_y": null,
            "padding": null,
            "right": null,
            "top": null,
            "visibility": null,
            "width": null
          }
        },
        "2b636de451b44b67ab76be9bdf52aa20": {
          "model_module": "@jupyter-widgets/controls",
          "model_name": "DescriptionStyleModel",
          "model_module_version": "1.5.0",
          "state": {
            "_model_module": "@jupyter-widgets/controls",
            "_model_module_version": "1.5.0",
            "_model_name": "DescriptionStyleModel",
            "_view_count": null,
            "_view_module": "@jupyter-widgets/base",
            "_view_module_version": "1.2.0",
            "_view_name": "StyleView",
            "description_width": ""
          }
        },
        "cad81ebb7c65499395d962d67b1590b1": {
          "model_module": "@jupyter-widgets/controls",
          "model_name": "HBoxModel",
          "model_module_version": "1.5.0",
          "state": {
            "_dom_classes": [],
            "_model_module": "@jupyter-widgets/controls",
            "_model_module_version": "1.5.0",
            "_model_name": "HBoxModel",
            "_view_count": null,
            "_view_module": "@jupyter-widgets/controls",
            "_view_module_version": "1.5.0",
            "_view_name": "HBoxView",
            "box_style": "",
            "children": [
              "IPY_MODEL_1cb0e98110a745a4a35606141a59824b",
              "IPY_MODEL_665c4575bdc54f53b7c028711a6ca406",
              "IPY_MODEL_a8e07b01adf84a6ebabb23bddc8c314a"
            ],
            "layout": "IPY_MODEL_e380fbb1cc6b41bd90851ba80fc54f32"
          }
        },
        "1cb0e98110a745a4a35606141a59824b": {
          "model_module": "@jupyter-widgets/controls",
          "model_name": "HTMLModel",
          "model_module_version": "1.5.0",
          "state": {
            "_dom_classes": [],
            "_model_module": "@jupyter-widgets/controls",
            "_model_module_version": "1.5.0",
            "_model_name": "HTMLModel",
            "_view_count": null,
            "_view_module": "@jupyter-widgets/controls",
            "_view_module_version": "1.5.0",
            "_view_name": "HTMLView",
            "description": "",
            "description_tooltip": null,
            "layout": "IPY_MODEL_21a66fb7150a4b71a48e00c7e112b310",
            "placeholder": "​",
            "style": "IPY_MODEL_f950390e528342cb8707e7174e6b58c0",
            "value": "tokenizer.json: 100%"
          }
        },
        "665c4575bdc54f53b7c028711a6ca406": {
          "model_module": "@jupyter-widgets/controls",
          "model_name": "FloatProgressModel",
          "model_module_version": "1.5.0",
          "state": {
            "_dom_classes": [],
            "_model_module": "@jupyter-widgets/controls",
            "_model_module_version": "1.5.0",
            "_model_name": "FloatProgressModel",
            "_view_count": null,
            "_view_module": "@jupyter-widgets/controls",
            "_view_module_version": "1.5.0",
            "_view_name": "ProgressView",
            "bar_style": "success",
            "description": "",
            "description_tooltip": null,
            "layout": "IPY_MODEL_18d0fc158e66413195ede0b73fe9caa5",
            "max": 33384568,
            "min": 0,
            "orientation": "horizontal",
            "style": "IPY_MODEL_f53e5f824b2549e7ab5bd6355b55d88d",
            "value": 33384568
          }
        },
        "a8e07b01adf84a6ebabb23bddc8c314a": {
          "model_module": "@jupyter-widgets/controls",
          "model_name": "HTMLModel",
          "model_module_version": "1.5.0",
          "state": {
            "_dom_classes": [],
            "_model_module": "@jupyter-widgets/controls",
            "_model_module_version": "1.5.0",
            "_model_name": "HTMLModel",
            "_view_count": null,
            "_view_module": "@jupyter-widgets/controls",
            "_view_module_version": "1.5.0",
            "_view_name": "HTMLView",
            "description": "",
            "description_tooltip": null,
            "layout": "IPY_MODEL_f6cc80633e64499cbb8649f615fde1a3",
            "placeholder": "​",
            "style": "IPY_MODEL_a3c3e3af71fa4e6689d2151c130ea703",
            "value": " 33.4M/33.4M [00:00&lt;00:00, 63.9MB/s]"
          }
        },
        "e380fbb1cc6b41bd90851ba80fc54f32": {
          "model_module": "@jupyter-widgets/base",
          "model_name": "LayoutModel",
          "model_module_version": "1.2.0",
          "state": {
            "_model_module": "@jupyter-widgets/base",
            "_model_module_version": "1.2.0",
            "_model_name": "LayoutModel",
            "_view_count": null,
            "_view_module": "@jupyter-widgets/base",
            "_view_module_version": "1.2.0",
            "_view_name": "LayoutView",
            "align_content": null,
            "align_items": null,
            "align_self": null,
            "border": null,
            "bottom": null,
            "display": null,
            "flex": null,
            "flex_flow": null,
            "grid_area": null,
            "grid_auto_columns": null,
            "grid_auto_flow": null,
            "grid_auto_rows": null,
            "grid_column": null,
            "grid_gap": null,
            "grid_row": null,
            "grid_template_areas": null,
            "grid_template_columns": null,
            "grid_template_rows": null,
            "height": null,
            "justify_content": null,
            "justify_items": null,
            "left": null,
            "margin": null,
            "max_height": null,
            "max_width": null,
            "min_height": null,
            "min_width": null,
            "object_fit": null,
            "object_position": null,
            "order": null,
            "overflow": null,
            "overflow_x": null,
            "overflow_y": null,
            "padding": null,
            "right": null,
            "top": null,
            "visibility": null,
            "width": null
          }
        },
        "21a66fb7150a4b71a48e00c7e112b310": {
          "model_module": "@jupyter-widgets/base",
          "model_name": "LayoutModel",
          "model_module_version": "1.2.0",
          "state": {
            "_model_module": "@jupyter-widgets/base",
            "_model_module_version": "1.2.0",
            "_model_name": "LayoutModel",
            "_view_count": null,
            "_view_module": "@jupyter-widgets/base",
            "_view_module_version": "1.2.0",
            "_view_name": "LayoutView",
            "align_content": null,
            "align_items": null,
            "align_self": null,
            "border": null,
            "bottom": null,
            "display": null,
            "flex": null,
            "flex_flow": null,
            "grid_area": null,
            "grid_auto_columns": null,
            "grid_auto_flow": null,
            "grid_auto_rows": null,
            "grid_column": null,
            "grid_gap": null,
            "grid_row": null,
            "grid_template_areas": null,
            "grid_template_columns": null,
            "grid_template_rows": null,
            "height": null,
            "justify_content": null,
            "justify_items": null,
            "left": null,
            "margin": null,
            "max_height": null,
            "max_width": null,
            "min_height": null,
            "min_width": null,
            "object_fit": null,
            "object_position": null,
            "order": null,
            "overflow": null,
            "overflow_x": null,
            "overflow_y": null,
            "padding": null,
            "right": null,
            "top": null,
            "visibility": null,
            "width": null
          }
        },
        "f950390e528342cb8707e7174e6b58c0": {
          "model_module": "@jupyter-widgets/controls",
          "model_name": "DescriptionStyleModel",
          "model_module_version": "1.5.0",
          "state": {
            "_model_module": "@jupyter-widgets/controls",
            "_model_module_version": "1.5.0",
            "_model_name": "DescriptionStyleModel",
            "_view_count": null,
            "_view_module": "@jupyter-widgets/base",
            "_view_module_version": "1.2.0",
            "_view_name": "StyleView",
            "description_width": ""
          }
        },
        "18d0fc158e66413195ede0b73fe9caa5": {
          "model_module": "@jupyter-widgets/base",
          "model_name": "LayoutModel",
          "model_module_version": "1.2.0",
          "state": {
            "_model_module": "@jupyter-widgets/base",
            "_model_module_version": "1.2.0",
            "_model_name": "LayoutModel",
            "_view_count": null,
            "_view_module": "@jupyter-widgets/base",
            "_view_module_version": "1.2.0",
            "_view_name": "LayoutView",
            "align_content": null,
            "align_items": null,
            "align_self": null,
            "border": null,
            "bottom": null,
            "display": null,
            "flex": null,
            "flex_flow": null,
            "grid_area": null,
            "grid_auto_columns": null,
            "grid_auto_flow": null,
            "grid_auto_rows": null,
            "grid_column": null,
            "grid_gap": null,
            "grid_row": null,
            "grid_template_areas": null,
            "grid_template_columns": null,
            "grid_template_rows": null,
            "height": null,
            "justify_content": null,
            "justify_items": null,
            "left": null,
            "margin": null,
            "max_height": null,
            "max_width": null,
            "min_height": null,
            "min_width": null,
            "object_fit": null,
            "object_position": null,
            "order": null,
            "overflow": null,
            "overflow_x": null,
            "overflow_y": null,
            "padding": null,
            "right": null,
            "top": null,
            "visibility": null,
            "width": null
          }
        },
        "f53e5f824b2549e7ab5bd6355b55d88d": {
          "model_module": "@jupyter-widgets/controls",
          "model_name": "ProgressStyleModel",
          "model_module_version": "1.5.0",
          "state": {
            "_model_module": "@jupyter-widgets/controls",
            "_model_module_version": "1.5.0",
            "_model_name": "ProgressStyleModel",
            "_view_count": null,
            "_view_module": "@jupyter-widgets/base",
            "_view_module_version": "1.2.0",
            "_view_name": "StyleView",
            "bar_color": null,
            "description_width": ""
          }
        },
        "f6cc80633e64499cbb8649f615fde1a3": {
          "model_module": "@jupyter-widgets/base",
          "model_name": "LayoutModel",
          "model_module_version": "1.2.0",
          "state": {
            "_model_module": "@jupyter-widgets/base",
            "_model_module_version": "1.2.0",
            "_model_name": "LayoutModel",
            "_view_count": null,
            "_view_module": "@jupyter-widgets/base",
            "_view_module_version": "1.2.0",
            "_view_name": "LayoutView",
            "align_content": null,
            "align_items": null,
            "align_self": null,
            "border": null,
            "bottom": null,
            "display": null,
            "flex": null,
            "flex_flow": null,
            "grid_area": null,
            "grid_auto_columns": null,
            "grid_auto_flow": null,
            "grid_auto_rows": null,
            "grid_column": null,
            "grid_gap": null,
            "grid_row": null,
            "grid_template_areas": null,
            "grid_template_columns": null,
            "grid_template_rows": null,
            "height": null,
            "justify_content": null,
            "justify_items": null,
            "left": null,
            "margin": null,
            "max_height": null,
            "max_width": null,
            "min_height": null,
            "min_width": null,
            "object_fit": null,
            "object_position": null,
            "order": null,
            "overflow": null,
            "overflow_x": null,
            "overflow_y": null,
            "padding": null,
            "right": null,
            "top": null,
            "visibility": null,
            "width": null
          }
        },
        "a3c3e3af71fa4e6689d2151c130ea703": {
          "model_module": "@jupyter-widgets/controls",
          "model_name": "DescriptionStyleModel",
          "model_module_version": "1.5.0",
          "state": {
            "_model_module": "@jupyter-widgets/controls",
            "_model_module_version": "1.5.0",
            "_model_name": "DescriptionStyleModel",
            "_view_count": null,
            "_view_module": "@jupyter-widgets/base",
            "_view_module_version": "1.2.0",
            "_view_name": "StyleView",
            "description_width": ""
          }
        },
        "f9fa0020fac74fa6810268fd5c6be1c2": {
          "model_module": "@jupyter-widgets/controls",
          "model_name": "HBoxModel",
          "model_module_version": "1.5.0",
          "state": {
            "_dom_classes": [],
            "_model_module": "@jupyter-widgets/controls",
            "_model_module_version": "1.5.0",
            "_model_name": "HBoxModel",
            "_view_count": null,
            "_view_module": "@jupyter-widgets/controls",
            "_view_module_version": "1.5.0",
            "_view_name": "HBoxView",
            "box_style": "",
            "children": [
              "IPY_MODEL_07c130083f304d7099ca138f5d1814e3",
              "IPY_MODEL_bd478b43629e415393d28486390b4f3a",
              "IPY_MODEL_d3ca289697c24190b8254a42c764f515"
            ],
            "layout": "IPY_MODEL_046bde0ea0644b7aa6d14efdaf8fa34c"
          }
        },
        "07c130083f304d7099ca138f5d1814e3": {
          "model_module": "@jupyter-widgets/controls",
          "model_name": "HTMLModel",
          "model_module_version": "1.5.0",
          "state": {
            "_dom_classes": [],
            "_model_module": "@jupyter-widgets/controls",
            "_model_module_version": "1.5.0",
            "_model_name": "HTMLModel",
            "_view_count": null,
            "_view_module": "@jupyter-widgets/controls",
            "_view_module_version": "1.5.0",
            "_view_name": "HTMLView",
            "description": "",
            "description_tooltip": null,
            "layout": "IPY_MODEL_7616bc0b095a4d298e4ea7667b4ee6b1",
            "placeholder": "​",
            "style": "IPY_MODEL_45a6ba2ef277491fb1a5df8a9c093384",
            "value": "added_tokens.json: 100%"
          }
        },
        "bd478b43629e415393d28486390b4f3a": {
          "model_module": "@jupyter-widgets/controls",
          "model_name": "FloatProgressModel",
          "model_module_version": "1.5.0",
          "state": {
            "_dom_classes": [],
            "_model_module": "@jupyter-widgets/controls",
            "_model_module_version": "1.5.0",
            "_model_name": "FloatProgressModel",
            "_view_count": null,
            "_view_module": "@jupyter-widgets/controls",
            "_view_module_version": "1.5.0",
            "_view_name": "ProgressView",
            "bar_style": "success",
            "description": "",
            "description_tooltip": null,
            "layout": "IPY_MODEL_52ce9f3fea234aca891e26291e21517e",
            "max": 35,
            "min": 0,
            "orientation": "horizontal",
            "style": "IPY_MODEL_cd0299287a584e31949d1cb061e5b9e4",
            "value": 35
          }
        },
        "d3ca289697c24190b8254a42c764f515": {
          "model_module": "@jupyter-widgets/controls",
          "model_name": "HTMLModel",
          "model_module_version": "1.5.0",
          "state": {
            "_dom_classes": [],
            "_model_module": "@jupyter-widgets/controls",
            "_model_module_version": "1.5.0",
            "_model_name": "HTMLModel",
            "_view_count": null,
            "_view_module": "@jupyter-widgets/controls",
            "_view_module_version": "1.5.0",
            "_view_name": "HTMLView",
            "description": "",
            "description_tooltip": null,
            "layout": "IPY_MODEL_f0f4ce88deeb4286a1e3f74a4df6f675",
            "placeholder": "​",
            "style": "IPY_MODEL_d9f4d956a427448f80d4c2c4f8e923a6",
            "value": " 35.0/35.0 [00:00&lt;00:00, 2.38kB/s]"
          }
        },
        "046bde0ea0644b7aa6d14efdaf8fa34c": {
          "model_module": "@jupyter-widgets/base",
          "model_name": "LayoutModel",
          "model_module_version": "1.2.0",
          "state": {
            "_model_module": "@jupyter-widgets/base",
            "_model_module_version": "1.2.0",
            "_model_name": "LayoutModel",
            "_view_count": null,
            "_view_module": "@jupyter-widgets/base",
            "_view_module_version": "1.2.0",
            "_view_name": "LayoutView",
            "align_content": null,
            "align_items": null,
            "align_self": null,
            "border": null,
            "bottom": null,
            "display": null,
            "flex": null,
            "flex_flow": null,
            "grid_area": null,
            "grid_auto_columns": null,
            "grid_auto_flow": null,
            "grid_auto_rows": null,
            "grid_column": null,
            "grid_gap": null,
            "grid_row": null,
            "grid_template_areas": null,
            "grid_template_columns": null,
            "grid_template_rows": null,
            "height": null,
            "justify_content": null,
            "justify_items": null,
            "left": null,
            "margin": null,
            "max_height": null,
            "max_width": null,
            "min_height": null,
            "min_width": null,
            "object_fit": null,
            "object_position": null,
            "order": null,
            "overflow": null,
            "overflow_x": null,
            "overflow_y": null,
            "padding": null,
            "right": null,
            "top": null,
            "visibility": null,
            "width": null
          }
        },
        "7616bc0b095a4d298e4ea7667b4ee6b1": {
          "model_module": "@jupyter-widgets/base",
          "model_name": "LayoutModel",
          "model_module_version": "1.2.0",
          "state": {
            "_model_module": "@jupyter-widgets/base",
            "_model_module_version": "1.2.0",
            "_model_name": "LayoutModel",
            "_view_count": null,
            "_view_module": "@jupyter-widgets/base",
            "_view_module_version": "1.2.0",
            "_view_name": "LayoutView",
            "align_content": null,
            "align_items": null,
            "align_self": null,
            "border": null,
            "bottom": null,
            "display": null,
            "flex": null,
            "flex_flow": null,
            "grid_area": null,
            "grid_auto_columns": null,
            "grid_auto_flow": null,
            "grid_auto_rows": null,
            "grid_column": null,
            "grid_gap": null,
            "grid_row": null,
            "grid_template_areas": null,
            "grid_template_columns": null,
            "grid_template_rows": null,
            "height": null,
            "justify_content": null,
            "justify_items": null,
            "left": null,
            "margin": null,
            "max_height": null,
            "max_width": null,
            "min_height": null,
            "min_width": null,
            "object_fit": null,
            "object_position": null,
            "order": null,
            "overflow": null,
            "overflow_x": null,
            "overflow_y": null,
            "padding": null,
            "right": null,
            "top": null,
            "visibility": null,
            "width": null
          }
        },
        "45a6ba2ef277491fb1a5df8a9c093384": {
          "model_module": "@jupyter-widgets/controls",
          "model_name": "DescriptionStyleModel",
          "model_module_version": "1.5.0",
          "state": {
            "_model_module": "@jupyter-widgets/controls",
            "_model_module_version": "1.5.0",
            "_model_name": "DescriptionStyleModel",
            "_view_count": null,
            "_view_module": "@jupyter-widgets/base",
            "_view_module_version": "1.2.0",
            "_view_name": "StyleView",
            "description_width": ""
          }
        },
        "52ce9f3fea234aca891e26291e21517e": {
          "model_module": "@jupyter-widgets/base",
          "model_name": "LayoutModel",
          "model_module_version": "1.2.0",
          "state": {
            "_model_module": "@jupyter-widgets/base",
            "_model_module_version": "1.2.0",
            "_model_name": "LayoutModel",
            "_view_count": null,
            "_view_module": "@jupyter-widgets/base",
            "_view_module_version": "1.2.0",
            "_view_name": "LayoutView",
            "align_content": null,
            "align_items": null,
            "align_self": null,
            "border": null,
            "bottom": null,
            "display": null,
            "flex": null,
            "flex_flow": null,
            "grid_area": null,
            "grid_auto_columns": null,
            "grid_auto_flow": null,
            "grid_auto_rows": null,
            "grid_column": null,
            "grid_gap": null,
            "grid_row": null,
            "grid_template_areas": null,
            "grid_template_columns": null,
            "grid_template_rows": null,
            "height": null,
            "justify_content": null,
            "justify_items": null,
            "left": null,
            "margin": null,
            "max_height": null,
            "max_width": null,
            "min_height": null,
            "min_width": null,
            "object_fit": null,
            "object_position": null,
            "order": null,
            "overflow": null,
            "overflow_x": null,
            "overflow_y": null,
            "padding": null,
            "right": null,
            "top": null,
            "visibility": null,
            "width": null
          }
        },
        "cd0299287a584e31949d1cb061e5b9e4": {
          "model_module": "@jupyter-widgets/controls",
          "model_name": "ProgressStyleModel",
          "model_module_version": "1.5.0",
          "state": {
            "_model_module": "@jupyter-widgets/controls",
            "_model_module_version": "1.5.0",
            "_model_name": "ProgressStyleModel",
            "_view_count": null,
            "_view_module": "@jupyter-widgets/base",
            "_view_module_version": "1.2.0",
            "_view_name": "StyleView",
            "bar_color": null,
            "description_width": ""
          }
        },
        "f0f4ce88deeb4286a1e3f74a4df6f675": {
          "model_module": "@jupyter-widgets/base",
          "model_name": "LayoutModel",
          "model_module_version": "1.2.0",
          "state": {
            "_model_module": "@jupyter-widgets/base",
            "_model_module_version": "1.2.0",
            "_model_name": "LayoutModel",
            "_view_count": null,
            "_view_module": "@jupyter-widgets/base",
            "_view_module_version": "1.2.0",
            "_view_name": "LayoutView",
            "align_content": null,
            "align_items": null,
            "align_self": null,
            "border": null,
            "bottom": null,
            "display": null,
            "flex": null,
            "flex_flow": null,
            "grid_area": null,
            "grid_auto_columns": null,
            "grid_auto_flow": null,
            "grid_auto_rows": null,
            "grid_column": null,
            "grid_gap": null,
            "grid_row": null,
            "grid_template_areas": null,
            "grid_template_columns": null,
            "grid_template_rows": null,
            "height": null,
            "justify_content": null,
            "justify_items": null,
            "left": null,
            "margin": null,
            "max_height": null,
            "max_width": null,
            "min_height": null,
            "min_width": null,
            "object_fit": null,
            "object_position": null,
            "order": null,
            "overflow": null,
            "overflow_x": null,
            "overflow_y": null,
            "padding": null,
            "right": null,
            "top": null,
            "visibility": null,
            "width": null
          }
        },
        "d9f4d956a427448f80d4c2c4f8e923a6": {
          "model_module": "@jupyter-widgets/controls",
          "model_name": "DescriptionStyleModel",
          "model_module_version": "1.5.0",
          "state": {
            "_model_module": "@jupyter-widgets/controls",
            "_model_module_version": "1.5.0",
            "_model_name": "DescriptionStyleModel",
            "_view_count": null,
            "_view_module": "@jupyter-widgets/base",
            "_view_module_version": "1.2.0",
            "_view_name": "StyleView",
            "description_width": ""
          }
        },
        "698e9c747abe4c4c87b58889cacb94c2": {
          "model_module": "@jupyter-widgets/controls",
          "model_name": "HBoxModel",
          "model_module_version": "1.5.0",
          "state": {
            "_dom_classes": [],
            "_model_module": "@jupyter-widgets/controls",
            "_model_module_version": "1.5.0",
            "_model_name": "HBoxModel",
            "_view_count": null,
            "_view_module": "@jupyter-widgets/controls",
            "_view_module_version": "1.5.0",
            "_view_name": "HBoxView",
            "box_style": "",
            "children": [
              "IPY_MODEL_614b4317f4a64e9d88d798b3849bca2e",
              "IPY_MODEL_7be874b1a6ca44f69071ed38c78317d4",
              "IPY_MODEL_be3b71e62aa14d73a0a22eb903443727"
            ],
            "layout": "IPY_MODEL_8fbf13b533864fc1847e550fb870e245"
          }
        },
        "614b4317f4a64e9d88d798b3849bca2e": {
          "model_module": "@jupyter-widgets/controls",
          "model_name": "HTMLModel",
          "model_module_version": "1.5.0",
          "state": {
            "_dom_classes": [],
            "_model_module": "@jupyter-widgets/controls",
            "_model_module_version": "1.5.0",
            "_model_name": "HTMLModel",
            "_view_count": null,
            "_view_module": "@jupyter-widgets/controls",
            "_view_module_version": "1.5.0",
            "_view_name": "HTMLView",
            "description": "",
            "description_tooltip": null,
            "layout": "IPY_MODEL_d28ca86d03ab466abc64fb56b46f0a95",
            "placeholder": "​",
            "style": "IPY_MODEL_497d00fbaa8048eda34d7082097c7ad0",
            "value": "special_tokens_map.json: 100%"
          }
        },
        "7be874b1a6ca44f69071ed38c78317d4": {
          "model_module": "@jupyter-widgets/controls",
          "model_name": "FloatProgressModel",
          "model_module_version": "1.5.0",
          "state": {
            "_dom_classes": [],
            "_model_module": "@jupyter-widgets/controls",
            "_model_module_version": "1.5.0",
            "_model_name": "FloatProgressModel",
            "_view_count": null,
            "_view_module": "@jupyter-widgets/controls",
            "_view_module_version": "1.5.0",
            "_view_name": "ProgressView",
            "bar_style": "success",
            "description": "",
            "description_tooltip": null,
            "layout": "IPY_MODEL_9ac5537ebf0b4b4a847c8c5727f51587",
            "max": 670,
            "min": 0,
            "orientation": "horizontal",
            "style": "IPY_MODEL_1c6f883644b843b4821b2be040996e72",
            "value": 670
          }
        },
        "be3b71e62aa14d73a0a22eb903443727": {
          "model_module": "@jupyter-widgets/controls",
          "model_name": "HTMLModel",
          "model_module_version": "1.5.0",
          "state": {
            "_dom_classes": [],
            "_model_module": "@jupyter-widgets/controls",
            "_model_module_version": "1.5.0",
            "_model_name": "HTMLModel",
            "_view_count": null,
            "_view_module": "@jupyter-widgets/controls",
            "_view_module_version": "1.5.0",
            "_view_name": "HTMLView",
            "description": "",
            "description_tooltip": null,
            "layout": "IPY_MODEL_3812cc1ecf8442c492338e68d7b29998",
            "placeholder": "​",
            "style": "IPY_MODEL_5df8edff13b84734a166acd804cf23e8",
            "value": " 670/670 [00:00&lt;00:00, 49.3kB/s]"
          }
        },
        "8fbf13b533864fc1847e550fb870e245": {
          "model_module": "@jupyter-widgets/base",
          "model_name": "LayoutModel",
          "model_module_version": "1.2.0",
          "state": {
            "_model_module": "@jupyter-widgets/base",
            "_model_module_version": "1.2.0",
            "_model_name": "LayoutModel",
            "_view_count": null,
            "_view_module": "@jupyter-widgets/base",
            "_view_module_version": "1.2.0",
            "_view_name": "LayoutView",
            "align_content": null,
            "align_items": null,
            "align_self": null,
            "border": null,
            "bottom": null,
            "display": null,
            "flex": null,
            "flex_flow": null,
            "grid_area": null,
            "grid_auto_columns": null,
            "grid_auto_flow": null,
            "grid_auto_rows": null,
            "grid_column": null,
            "grid_gap": null,
            "grid_row": null,
            "grid_template_areas": null,
            "grid_template_columns": null,
            "grid_template_rows": null,
            "height": null,
            "justify_content": null,
            "justify_items": null,
            "left": null,
            "margin": null,
            "max_height": null,
            "max_width": null,
            "min_height": null,
            "min_width": null,
            "object_fit": null,
            "object_position": null,
            "order": null,
            "overflow": null,
            "overflow_x": null,
            "overflow_y": null,
            "padding": null,
            "right": null,
            "top": null,
            "visibility": null,
            "width": null
          }
        },
        "d28ca86d03ab466abc64fb56b46f0a95": {
          "model_module": "@jupyter-widgets/base",
          "model_name": "LayoutModel",
          "model_module_version": "1.2.0",
          "state": {
            "_model_module": "@jupyter-widgets/base",
            "_model_module_version": "1.2.0",
            "_model_name": "LayoutModel",
            "_view_count": null,
            "_view_module": "@jupyter-widgets/base",
            "_view_module_version": "1.2.0",
            "_view_name": "LayoutView",
            "align_content": null,
            "align_items": null,
            "align_self": null,
            "border": null,
            "bottom": null,
            "display": null,
            "flex": null,
            "flex_flow": null,
            "grid_area": null,
            "grid_auto_columns": null,
            "grid_auto_flow": null,
            "grid_auto_rows": null,
            "grid_column": null,
            "grid_gap": null,
            "grid_row": null,
            "grid_template_areas": null,
            "grid_template_columns": null,
            "grid_template_rows": null,
            "height": null,
            "justify_content": null,
            "justify_items": null,
            "left": null,
            "margin": null,
            "max_height": null,
            "max_width": null,
            "min_height": null,
            "min_width": null,
            "object_fit": null,
            "object_position": null,
            "order": null,
            "overflow": null,
            "overflow_x": null,
            "overflow_y": null,
            "padding": null,
            "right": null,
            "top": null,
            "visibility": null,
            "width": null
          }
        },
        "497d00fbaa8048eda34d7082097c7ad0": {
          "model_module": "@jupyter-widgets/controls",
          "model_name": "DescriptionStyleModel",
          "model_module_version": "1.5.0",
          "state": {
            "_model_module": "@jupyter-widgets/controls",
            "_model_module_version": "1.5.0",
            "_model_name": "DescriptionStyleModel",
            "_view_count": null,
            "_view_module": "@jupyter-widgets/base",
            "_view_module_version": "1.2.0",
            "_view_name": "StyleView",
            "description_width": ""
          }
        },
        "9ac5537ebf0b4b4a847c8c5727f51587": {
          "model_module": "@jupyter-widgets/base",
          "model_name": "LayoutModel",
          "model_module_version": "1.2.0",
          "state": {
            "_model_module": "@jupyter-widgets/base",
            "_model_module_version": "1.2.0",
            "_model_name": "LayoutModel",
            "_view_count": null,
            "_view_module": "@jupyter-widgets/base",
            "_view_module_version": "1.2.0",
            "_view_name": "LayoutView",
            "align_content": null,
            "align_items": null,
            "align_self": null,
            "border": null,
            "bottom": null,
            "display": null,
            "flex": null,
            "flex_flow": null,
            "grid_area": null,
            "grid_auto_columns": null,
            "grid_auto_flow": null,
            "grid_auto_rows": null,
            "grid_column": null,
            "grid_gap": null,
            "grid_row": null,
            "grid_template_areas": null,
            "grid_template_columns": null,
            "grid_template_rows": null,
            "height": null,
            "justify_content": null,
            "justify_items": null,
            "left": null,
            "margin": null,
            "max_height": null,
            "max_width": null,
            "min_height": null,
            "min_width": null,
            "object_fit": null,
            "object_position": null,
            "order": null,
            "overflow": null,
            "overflow_x": null,
            "overflow_y": null,
            "padding": null,
            "right": null,
            "top": null,
            "visibility": null,
            "width": null
          }
        },
        "1c6f883644b843b4821b2be040996e72": {
          "model_module": "@jupyter-widgets/controls",
          "model_name": "ProgressStyleModel",
          "model_module_version": "1.5.0",
          "state": {
            "_model_module": "@jupyter-widgets/controls",
            "_model_module_version": "1.5.0",
            "_model_name": "ProgressStyleModel",
            "_view_count": null,
            "_view_module": "@jupyter-widgets/base",
            "_view_module_version": "1.2.0",
            "_view_name": "StyleView",
            "bar_color": null,
            "description_width": ""
          }
        },
        "3812cc1ecf8442c492338e68d7b29998": {
          "model_module": "@jupyter-widgets/base",
          "model_name": "LayoutModel",
          "model_module_version": "1.2.0",
          "state": {
            "_model_module": "@jupyter-widgets/base",
            "_model_module_version": "1.2.0",
            "_model_name": "LayoutModel",
            "_view_count": null,
            "_view_module": "@jupyter-widgets/base",
            "_view_module_version": "1.2.0",
            "_view_name": "LayoutView",
            "align_content": null,
            "align_items": null,
            "align_self": null,
            "border": null,
            "bottom": null,
            "display": null,
            "flex": null,
            "flex_flow": null,
            "grid_area": null,
            "grid_auto_columns": null,
            "grid_auto_flow": null,
            "grid_auto_rows": null,
            "grid_column": null,
            "grid_gap": null,
            "grid_row": null,
            "grid_template_areas": null,
            "grid_template_columns": null,
            "grid_template_rows": null,
            "height": null,
            "justify_content": null,
            "justify_items": null,
            "left": null,
            "margin": null,
            "max_height": null,
            "max_width": null,
            "min_height": null,
            "min_width": null,
            "object_fit": null,
            "object_position": null,
            "order": null,
            "overflow": null,
            "overflow_x": null,
            "overflow_y": null,
            "padding": null,
            "right": null,
            "top": null,
            "visibility": null,
            "width": null
          }
        },
        "5df8edff13b84734a166acd804cf23e8": {
          "model_module": "@jupyter-widgets/controls",
          "model_name": "DescriptionStyleModel",
          "model_module_version": "1.5.0",
          "state": {
            "_model_module": "@jupyter-widgets/controls",
            "_model_module_version": "1.5.0",
            "_model_name": "DescriptionStyleModel",
            "_view_count": null,
            "_view_module": "@jupyter-widgets/base",
            "_view_module_version": "1.2.0",
            "_view_name": "StyleView",
            "description_width": ""
          }
        },
        "12caa55dd221446c912716885e4363f3": {
          "model_module": "@jupyter-widgets/controls",
          "model_name": "HBoxModel",
          "model_module_version": "1.5.0",
          "state": {
            "_dom_classes": [],
            "_model_module": "@jupyter-widgets/controls",
            "_model_module_version": "1.5.0",
            "_model_name": "HBoxModel",
            "_view_count": null,
            "_view_module": "@jupyter-widgets/controls",
            "_view_module_version": "1.5.0",
            "_view_name": "HBoxView",
            "box_style": "",
            "children": [
              "IPY_MODEL_ab3628a0695047a6bd9d77bd39899fb1",
              "IPY_MODEL_929bdec4e48941dfa03b2cd826df7101",
              "IPY_MODEL_c678db5588604fb5980d45d378daeec8"
            ],
            "layout": "IPY_MODEL_33fc6143400548a9a17a5814e8e942eb"
          }
        },
        "ab3628a0695047a6bd9d77bd39899fb1": {
          "model_module": "@jupyter-widgets/controls",
          "model_name": "HTMLModel",
          "model_module_version": "1.5.0",
          "state": {
            "_dom_classes": [],
            "_model_module": "@jupyter-widgets/controls",
            "_model_module_version": "1.5.0",
            "_model_name": "HTMLModel",
            "_view_count": null,
            "_view_module": "@jupyter-widgets/controls",
            "_view_module_version": "1.5.0",
            "_view_name": "HTMLView",
            "description": "",
            "description_tooltip": null,
            "layout": "IPY_MODEL_395453e0d28f4dfc97876a5159b86da6",
            "placeholder": "​",
            "style": "IPY_MODEL_2d3037fbdb0f453d964a8a8e7d988cf9",
            "value": "chat_template.jinja: 100%"
          }
        },
        "929bdec4e48941dfa03b2cd826df7101": {
          "model_module": "@jupyter-widgets/controls",
          "model_name": "FloatProgressModel",
          "model_module_version": "1.5.0",
          "state": {
            "_dom_classes": [],
            "_model_module": "@jupyter-widgets/controls",
            "_model_module_version": "1.5.0",
            "_model_name": "FloatProgressModel",
            "_view_count": null,
            "_view_module": "@jupyter-widgets/controls",
            "_view_module_version": "1.5.0",
            "_view_name": "ProgressView",
            "bar_style": "success",
            "description": "",
            "description_tooltip": null,
            "layout": "IPY_MODEL_1cc9b07dbc6b4f5f8f58584f357424d4",
            "max": 1532,
            "min": 0,
            "orientation": "horizontal",
            "style": "IPY_MODEL_a6c6b9e0cf1a4585b4bd2cba72a50327",
            "value": 1532
          }
        },
        "c678db5588604fb5980d45d378daeec8": {
          "model_module": "@jupyter-widgets/controls",
          "model_name": "HTMLModel",
          "model_module_version": "1.5.0",
          "state": {
            "_dom_classes": [],
            "_model_module": "@jupyter-widgets/controls",
            "_model_module_version": "1.5.0",
            "_model_name": "HTMLModel",
            "_view_count": null,
            "_view_module": "@jupyter-widgets/controls",
            "_view_module_version": "1.5.0",
            "_view_name": "HTMLView",
            "description": "",
            "description_tooltip": null,
            "layout": "IPY_MODEL_8700ac4a224440dbb816a695cf052047",
            "placeholder": "​",
            "style": "IPY_MODEL_e79aefa2567f4fe191efcaa6497b337d",
            "value": " 1.53k/1.53k [00:00&lt;00:00, 100kB/s]"
          }
        },
        "33fc6143400548a9a17a5814e8e942eb": {
          "model_module": "@jupyter-widgets/base",
          "model_name": "LayoutModel",
          "model_module_version": "1.2.0",
          "state": {
            "_model_module": "@jupyter-widgets/base",
            "_model_module_version": "1.2.0",
            "_model_name": "LayoutModel",
            "_view_count": null,
            "_view_module": "@jupyter-widgets/base",
            "_view_module_version": "1.2.0",
            "_view_name": "LayoutView",
            "align_content": null,
            "align_items": null,
            "align_self": null,
            "border": null,
            "bottom": null,
            "display": null,
            "flex": null,
            "flex_flow": null,
            "grid_area": null,
            "grid_auto_columns": null,
            "grid_auto_flow": null,
            "grid_auto_rows": null,
            "grid_column": null,
            "grid_gap": null,
            "grid_row": null,
            "grid_template_areas": null,
            "grid_template_columns": null,
            "grid_template_rows": null,
            "height": null,
            "justify_content": null,
            "justify_items": null,
            "left": null,
            "margin": null,
            "max_height": null,
            "max_width": null,
            "min_height": null,
            "min_width": null,
            "object_fit": null,
            "object_position": null,
            "order": null,
            "overflow": null,
            "overflow_x": null,
            "overflow_y": null,
            "padding": null,
            "right": null,
            "top": null,
            "visibility": null,
            "width": null
          }
        },
        "395453e0d28f4dfc97876a5159b86da6": {
          "model_module": "@jupyter-widgets/base",
          "model_name": "LayoutModel",
          "model_module_version": "1.2.0",
          "state": {
            "_model_module": "@jupyter-widgets/base",
            "_model_module_version": "1.2.0",
            "_model_name": "LayoutModel",
            "_view_count": null,
            "_view_module": "@jupyter-widgets/base",
            "_view_module_version": "1.2.0",
            "_view_name": "LayoutView",
            "align_content": null,
            "align_items": null,
            "align_self": null,
            "border": null,
            "bottom": null,
            "display": null,
            "flex": null,
            "flex_flow": null,
            "grid_area": null,
            "grid_auto_columns": null,
            "grid_auto_flow": null,
            "grid_auto_rows": null,
            "grid_column": null,
            "grid_gap": null,
            "grid_row": null,
            "grid_template_areas": null,
            "grid_template_columns": null,
            "grid_template_rows": null,
            "height": null,
            "justify_content": null,
            "justify_items": null,
            "left": null,
            "margin": null,
            "max_height": null,
            "max_width": null,
            "min_height": null,
            "min_width": null,
            "object_fit": null,
            "object_position": null,
            "order": null,
            "overflow": null,
            "overflow_x": null,
            "overflow_y": null,
            "padding": null,
            "right": null,
            "top": null,
            "visibility": null,
            "width": null
          }
        },
        "2d3037fbdb0f453d964a8a8e7d988cf9": {
          "model_module": "@jupyter-widgets/controls",
          "model_name": "DescriptionStyleModel",
          "model_module_version": "1.5.0",
          "state": {
            "_model_module": "@jupyter-widgets/controls",
            "_model_module_version": "1.5.0",
            "_model_name": "DescriptionStyleModel",
            "_view_count": null,
            "_view_module": "@jupyter-widgets/base",
            "_view_module_version": "1.2.0",
            "_view_name": "StyleView",
            "description_width": ""
          }
        },
        "1cc9b07dbc6b4f5f8f58584f357424d4": {
          "model_module": "@jupyter-widgets/base",
          "model_name": "LayoutModel",
          "model_module_version": "1.2.0",
          "state": {
            "_model_module": "@jupyter-widgets/base",
            "_model_module_version": "1.2.0",
            "_model_name": "LayoutModel",
            "_view_count": null,
            "_view_module": "@jupyter-widgets/base",
            "_view_module_version": "1.2.0",
            "_view_name": "LayoutView",
            "align_content": null,
            "align_items": null,
            "align_self": null,
            "border": null,
            "bottom": null,
            "display": null,
            "flex": null,
            "flex_flow": null,
            "grid_area": null,
            "grid_auto_columns": null,
            "grid_auto_flow": null,
            "grid_auto_rows": null,
            "grid_column": null,
            "grid_gap": null,
            "grid_row": null,
            "grid_template_areas": null,
            "grid_template_columns": null,
            "grid_template_rows": null,
            "height": null,
            "justify_content": null,
            "justify_items": null,
            "left": null,
            "margin": null,
            "max_height": null,
            "max_width": null,
            "min_height": null,
            "min_width": null,
            "object_fit": null,
            "object_position": null,
            "order": null,
            "overflow": null,
            "overflow_x": null,
            "overflow_y": null,
            "padding": null,
            "right": null,
            "top": null,
            "visibility": null,
            "width": null
          }
        },
        "a6c6b9e0cf1a4585b4bd2cba72a50327": {
          "model_module": "@jupyter-widgets/controls",
          "model_name": "ProgressStyleModel",
          "model_module_version": "1.5.0",
          "state": {
            "_model_module": "@jupyter-widgets/controls",
            "_model_module_version": "1.5.0",
            "_model_name": "ProgressStyleModel",
            "_view_count": null,
            "_view_module": "@jupyter-widgets/base",
            "_view_module_version": "1.2.0",
            "_view_name": "StyleView",
            "bar_color": null,
            "description_width": ""
          }
        },
        "8700ac4a224440dbb816a695cf052047": {
          "model_module": "@jupyter-widgets/base",
          "model_name": "LayoutModel",
          "model_module_version": "1.2.0",
          "state": {
            "_model_module": "@jupyter-widgets/base",
            "_model_module_version": "1.2.0",
            "_model_name": "LayoutModel",
            "_view_count": null,
            "_view_module": "@jupyter-widgets/base",
            "_view_module_version": "1.2.0",
            "_view_name": "LayoutView",
            "align_content": null,
            "align_items": null,
            "align_self": null,
            "border": null,
            "bottom": null,
            "display": null,
            "flex": null,
            "flex_flow": null,
            "grid_area": null,
            "grid_auto_columns": null,
            "grid_auto_flow": null,
            "grid_auto_rows": null,
            "grid_column": null,
            "grid_gap": null,
            "grid_row": null,
            "grid_template_areas": null,
            "grid_template_columns": null,
            "grid_template_rows": null,
            "height": null,
            "justify_content": null,
            "justify_items": null,
            "left": null,
            "margin": null,
            "max_height": null,
            "max_width": null,
            "min_height": null,
            "min_width": null,
            "object_fit": null,
            "object_position": null,
            "order": null,
            "overflow": null,
            "overflow_x": null,
            "overflow_y": null,
            "padding": null,
            "right": null,
            "top": null,
            "visibility": null,
            "width": null
          }
        },
        "e79aefa2567f4fe191efcaa6497b337d": {
          "model_module": "@jupyter-widgets/controls",
          "model_name": "DescriptionStyleModel",
          "model_module_version": "1.5.0",
          "state": {
            "_model_module": "@jupyter-widgets/controls",
            "_model_module_version": "1.5.0",
            "_model_name": "DescriptionStyleModel",
            "_view_count": null,
            "_view_module": "@jupyter-widgets/base",
            "_view_module_version": "1.2.0",
            "_view_name": "StyleView",
            "description_width": ""
          }
        },
        "cb8148e9e0de45349ef855802e38f0d5": {
          "model_module": "@jupyter-widgets/controls",
          "model_name": "HBoxModel",
          "model_module_version": "1.5.0",
          "state": {
            "_dom_classes": [],
            "_model_module": "@jupyter-widgets/controls",
            "_model_module_version": "1.5.0",
            "_model_name": "HBoxModel",
            "_view_count": null,
            "_view_module": "@jupyter-widgets/controls",
            "_view_module_version": "1.5.0",
            "_view_name": "HBoxView",
            "box_style": "",
            "children": [
              "IPY_MODEL_b1d85b9c89834269a9a0fb40036bab27",
              "IPY_MODEL_9199f830356346419fb520c31ae899b4",
              "IPY_MODEL_b98b0a5313d5494aa37d30d531201adb"
            ],
            "layout": "IPY_MODEL_7ce452e7b88d491dbc3fc9ac754b1bb2"
          }
        },
        "b1d85b9c89834269a9a0fb40036bab27": {
          "model_module": "@jupyter-widgets/controls",
          "model_name": "HTMLModel",
          "model_module_version": "1.5.0",
          "state": {
            "_dom_classes": [],
            "_model_module": "@jupyter-widgets/controls",
            "_model_module_version": "1.5.0",
            "_model_name": "HTMLModel",
            "_view_count": null,
            "_view_module": "@jupyter-widgets/controls",
            "_view_module_version": "1.5.0",
            "_view_name": "HTMLView",
            "description": "",
            "description_tooltip": null,
            "layout": "IPY_MODEL_de9b0160e623462d97d6756ca610891d",
            "placeholder": "​",
            "style": "IPY_MODEL_48af2c1cc81041d98986a461aef23314",
            "value": "Map: 100%"
          }
        },
        "9199f830356346419fb520c31ae899b4": {
          "model_module": "@jupyter-widgets/controls",
          "model_name": "FloatProgressModel",
          "model_module_version": "1.5.0",
          "state": {
            "_dom_classes": [],
            "_model_module": "@jupyter-widgets/controls",
            "_model_module_version": "1.5.0",
            "_model_name": "FloatProgressModel",
            "_view_count": null,
            "_view_module": "@jupyter-widgets/controls",
            "_view_module_version": "1.5.0",
            "_view_name": "ProgressView",
            "bar_style": "success",
            "description": "",
            "description_tooltip": null,
            "layout": "IPY_MODEL_2d3e943d5d9a428a8036f11c917e7492",
            "max": 45,
            "min": 0,
            "orientation": "horizontal",
            "style": "IPY_MODEL_035c039328d6439fb1fac51e2198677d",
            "value": 45
          }
        },
        "b98b0a5313d5494aa37d30d531201adb": {
          "model_module": "@jupyter-widgets/controls",
          "model_name": "HTMLModel",
          "model_module_version": "1.5.0",
          "state": {
            "_dom_classes": [],
            "_model_module": "@jupyter-widgets/controls",
            "_model_module_version": "1.5.0",
            "_model_name": "HTMLModel",
            "_view_count": null,
            "_view_module": "@jupyter-widgets/controls",
            "_view_module_version": "1.5.0",
            "_view_name": "HTMLView",
            "description": "",
            "description_tooltip": null,
            "layout": "IPY_MODEL_e00a6273f5b242199dd5aada08eda2b7",
            "placeholder": "​",
            "style": "IPY_MODEL_e3d893372c3f4cfdb1e9ccbb0d6ec8d0",
            "value": " 45/45 [00:00&lt;00:00, 855.23 examples/s]"
          }
        },
        "7ce452e7b88d491dbc3fc9ac754b1bb2": {
          "model_module": "@jupyter-widgets/base",
          "model_name": "LayoutModel",
          "model_module_version": "1.2.0",
          "state": {
            "_model_module": "@jupyter-widgets/base",
            "_model_module_version": "1.2.0",
            "_model_name": "LayoutModel",
            "_view_count": null,
            "_view_module": "@jupyter-widgets/base",
            "_view_module_version": "1.2.0",
            "_view_name": "LayoutView",
            "align_content": null,
            "align_items": null,
            "align_self": null,
            "border": null,
            "bottom": null,
            "display": null,
            "flex": null,
            "flex_flow": null,
            "grid_area": null,
            "grid_auto_columns": null,
            "grid_auto_flow": null,
            "grid_auto_rows": null,
            "grid_column": null,
            "grid_gap": null,
            "grid_row": null,
            "grid_template_areas": null,
            "grid_template_columns": null,
            "grid_template_rows": null,
            "height": null,
            "justify_content": null,
            "justify_items": null,
            "left": null,
            "margin": null,
            "max_height": null,
            "max_width": null,
            "min_height": null,
            "min_width": null,
            "object_fit": null,
            "object_position": null,
            "order": null,
            "overflow": null,
            "overflow_x": null,
            "overflow_y": null,
            "padding": null,
            "right": null,
            "top": null,
            "visibility": null,
            "width": null
          }
        },
        "de9b0160e623462d97d6756ca610891d": {
          "model_module": "@jupyter-widgets/base",
          "model_name": "LayoutModel",
          "model_module_version": "1.2.0",
          "state": {
            "_model_module": "@jupyter-widgets/base",
            "_model_module_version": "1.2.0",
            "_model_name": "LayoutModel",
            "_view_count": null,
            "_view_module": "@jupyter-widgets/base",
            "_view_module_version": "1.2.0",
            "_view_name": "LayoutView",
            "align_content": null,
            "align_items": null,
            "align_self": null,
            "border": null,
            "bottom": null,
            "display": null,
            "flex": null,
            "flex_flow": null,
            "grid_area": null,
            "grid_auto_columns": null,
            "grid_auto_flow": null,
            "grid_auto_rows": null,
            "grid_column": null,
            "grid_gap": null,
            "grid_row": null,
            "grid_template_areas": null,
            "grid_template_columns": null,
            "grid_template_rows": null,
            "height": null,
            "justify_content": null,
            "justify_items": null,
            "left": null,
            "margin": null,
            "max_height": null,
            "max_width": null,
            "min_height": null,
            "min_width": null,
            "object_fit": null,
            "object_position": null,
            "order": null,
            "overflow": null,
            "overflow_x": null,
            "overflow_y": null,
            "padding": null,
            "right": null,
            "top": null,
            "visibility": null,
            "width": null
          }
        },
        "48af2c1cc81041d98986a461aef23314": {
          "model_module": "@jupyter-widgets/controls",
          "model_name": "DescriptionStyleModel",
          "model_module_version": "1.5.0",
          "state": {
            "_model_module": "@jupyter-widgets/controls",
            "_model_module_version": "1.5.0",
            "_model_name": "DescriptionStyleModel",
            "_view_count": null,
            "_view_module": "@jupyter-widgets/base",
            "_view_module_version": "1.2.0",
            "_view_name": "StyleView",
            "description_width": ""
          }
        },
        "2d3e943d5d9a428a8036f11c917e7492": {
          "model_module": "@jupyter-widgets/base",
          "model_name": "LayoutModel",
          "model_module_version": "1.2.0",
          "state": {
            "_model_module": "@jupyter-widgets/base",
            "_model_module_version": "1.2.0",
            "_model_name": "LayoutModel",
            "_view_count": null,
            "_view_module": "@jupyter-widgets/base",
            "_view_module_version": "1.2.0",
            "_view_name": "LayoutView",
            "align_content": null,
            "align_items": null,
            "align_self": null,
            "border": null,
            "bottom": null,
            "display": null,
            "flex": null,
            "flex_flow": null,
            "grid_area": null,
            "grid_auto_columns": null,
            "grid_auto_flow": null,
            "grid_auto_rows": null,
            "grid_column": null,
            "grid_gap": null,
            "grid_row": null,
            "grid_template_areas": null,
            "grid_template_columns": null,
            "grid_template_rows": null,
            "height": null,
            "justify_content": null,
            "justify_items": null,
            "left": null,
            "margin": null,
            "max_height": null,
            "max_width": null,
            "min_height": null,
            "min_width": null,
            "object_fit": null,
            "object_position": null,
            "order": null,
            "overflow": null,
            "overflow_x": null,
            "overflow_y": null,
            "padding": null,
            "right": null,
            "top": null,
            "visibility": null,
            "width": null
          }
        },
        "035c039328d6439fb1fac51e2198677d": {
          "model_module": "@jupyter-widgets/controls",
          "model_name": "ProgressStyleModel",
          "model_module_version": "1.5.0",
          "state": {
            "_model_module": "@jupyter-widgets/controls",
            "_model_module_version": "1.5.0",
            "_model_name": "ProgressStyleModel",
            "_view_count": null,
            "_view_module": "@jupyter-widgets/base",
            "_view_module_version": "1.2.0",
            "_view_name": "StyleView",
            "bar_color": null,
            "description_width": ""
          }
        },
        "e00a6273f5b242199dd5aada08eda2b7": {
          "model_module": "@jupyter-widgets/base",
          "model_name": "LayoutModel",
          "model_module_version": "1.2.0",
          "state": {
            "_model_module": "@jupyter-widgets/base",
            "_model_module_version": "1.2.0",
            "_model_name": "LayoutModel",
            "_view_count": null,
            "_view_module": "@jupyter-widgets/base",
            "_view_module_version": "1.2.0",
            "_view_name": "LayoutView",
            "align_content": null,
            "align_items": null,
            "align_self": null,
            "border": null,
            "bottom": null,
            "display": null,
            "flex": null,
            "flex_flow": null,
            "grid_area": null,
            "grid_auto_columns": null,
            "grid_auto_flow": null,
            "grid_auto_rows": null,
            "grid_column": null,
            "grid_gap": null,
            "grid_row": null,
            "grid_template_areas": null,
            "grid_template_columns": null,
            "grid_template_rows": null,
            "height": null,
            "justify_content": null,
            "justify_items": null,
            "left": null,
            "margin": null,
            "max_height": null,
            "max_width": null,
            "min_height": null,
            "min_width": null,
            "object_fit": null,
            "object_position": null,
            "order": null,
            "overflow": null,
            "overflow_x": null,
            "overflow_y": null,
            "padding": null,
            "right": null,
            "top": null,
            "visibility": null,
            "width": null
          }
        },
        "e3d893372c3f4cfdb1e9ccbb0d6ec8d0": {
          "model_module": "@jupyter-widgets/controls",
          "model_name": "DescriptionStyleModel",
          "model_module_version": "1.5.0",
          "state": {
            "_model_module": "@jupyter-widgets/controls",
            "_model_module_version": "1.5.0",
            "_model_name": "DescriptionStyleModel",
            "_view_count": null,
            "_view_module": "@jupyter-widgets/base",
            "_view_module_version": "1.2.0",
            "_view_name": "StyleView",
            "description_width": ""
          }
        }
      }
    }
  },
  "nbformat": 4,
  "nbformat_minor": 0
}